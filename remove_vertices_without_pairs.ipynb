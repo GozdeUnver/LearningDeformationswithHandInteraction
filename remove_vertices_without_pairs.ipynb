{
 "cells": [
  {
   "cell_type": "code",
   "execution_count": 27,
   "metadata": {},
   "outputs": [],
   "source": [
    "\n",
    "import numpy as np\n",
    "\n",
    "from trimesh import Trimesh, load\n",
    "\n",
    "import meshplot as mp\n",
    "\n",
    "from scipy.spatial import distance\n",
    "\n",
    "def plot_mesh(myMesh,cmap=None):\n",
    "    mp.plot(myMesh.vertices, myMesh.faces,c=cmap)\n",
    "    \n",
    "def double_plot(myMesh1,myMesh2,cmap1=None,cmap2=None):\n",
    "    d = mp.subplot(myMesh1.vertices, myMesh1.faces, c=cmap1, s=[2, 2, 0])\n",
    "    mp.subplot(myMesh2.vertices, myMesh2.faces, c=cmap2, s=[2, 2, 1], data=d)\n",
    "\n",
    "def double_plot_clouds(cloud1, cloud2):\n",
    "    d = mp.subplot(cloud1, None, c=np.array([0, 1, 0]), s=[2, 2, 0])\n",
    "    mp.subplot(cloud2, None, c=np.array([1, 0, 0]), s=[2, 2, 1], data=d)\n",
    "\n",
    "def visu(vertices):\n",
    "    min_coord,max_coord = np.min(vertices,axis=0,keepdims=True),np.max(vertices,axis=0,keepdims=True)\n",
    "    cmap = (vertices-min_coord)/(max_coord-min_coord)\n",
    "    return cmap\n",
    "\n",
    "def plot_correspondence_lines(mesh1, mesh2, mesh1_points, mesh2_points):\n",
    "    def plot_mesh_and_lines(mesh, points):\n",
    "        p = mp.plot(mesh1_points, None, c=visu(points))\n",
    "        p.add_mesh(mesh.vertices, mesh.faces, c=visu(mesh.vertices))\n",
    "        p.add_lines(mesh1_points, mesh2_points)\n",
    "    plot_mesh_and_lines(mesh1, mesh2_points)\n",
    "    plot_mesh_and_lines(mesh2, mesh1_points)\n",
    "\n",
    "def merged_plot(mesh1, mesh2, shift=[0.0, 0.0, 0.0]):\n",
    "    d = mp.plot(mesh1.vertices, mesh1.faces)\n",
    "    d.add_mesh(mesh2.vertices + np.array(shift), mesh2.faces, c=np.array([1, 0, 0]))"
   ]
  },
  {
   "attachments": {},
   "cell_type": "markdown",
   "metadata": {},
   "source": [
    "Load meshes"
   ]
  },
  {
   "cell_type": "code",
   "execution_count": 28,
   "metadata": {},
   "outputs": [
    {
     "name": "stderr",
     "output_type": "stream",
     "text": [
      "/home/kolusask/miniconda3/envs/.at3dcv/lib/python3.10/site-packages/traittypes/traittypes.py:97: UserWarning: Given trait value dtype \"float32\" does not match required type \"float64\". A coerced copy has been created.\n",
      "  warnings.warn(\n",
      "/home/kolusask/miniconda3/envs/.at3dcv/lib/python3.10/site-packages/traittypes/traittypes.py:97: UserWarning: Given trait value dtype \"uint32\" does not match required type \"float64\". A coerced copy has been created.\n",
      "  warnings.warn(\n"
     ]
    },
    {
     "data": {
      "application/vnd.jupyter.widget-view+json": {
       "model_id": "c2a089a30ec44038add0e7ec4a0f74e6",
       "version_major": 2,
       "version_minor": 0
      },
      "text/plain": [
       "HBox(children=(Output(), Output()))"
      ]
     },
     "metadata": {},
     "output_type": "display_data"
    },
    {
     "data": {
      "application/vnd.jupyter.widget-view+json": {
       "model_id": "6afa8de267934fec9fb2797e9406d589",
       "version_major": 2,
       "version_minor": 0
      },
      "text/plain": [
       "HBox(children=(Output(), Output()))"
      ]
     },
     "metadata": {},
     "output_type": "display_data"
    }
   ],
   "source": [
    "ref_mesh = load('data/dataset/YellowToy01/yellow_push_toy_1_70000.obj')\n",
    "bad_mesh = load('data/dataset/YellowToy01/yellow_push_toy_3_70000.obj')\n",
    "double_plot(ref_mesh, bad_mesh)"
   ]
  },
  {
   "cell_type": "code",
   "execution_count": 29,
   "metadata": {},
   "outputs": [
    {
     "data": {
      "application/vnd.jupyter.widget-view+json": {
       "model_id": "6a76cd6d933c44ccae6ebf285f91fd80",
       "version_major": 2,
       "version_minor": 0
      },
      "text/plain": [
       "Renderer(camera=PerspectiveCamera(children=(DirectionalLight(color='white', intensity=0.6, position=(-0.054015…"
      ]
     },
     "metadata": {},
     "output_type": "display_data"
    }
   ],
   "source": [
    "shift = [0.0, 0.0, 0.0]\n",
    "merged_plot(ref_mesh, bad_mesh, shift)"
   ]
  },
  {
   "attachments": {},
   "cell_type": "markdown",
   "metadata": {},
   "source": [
    "Find `ref_mesh` vertices close to any `bad_mesh` vertices"
   ]
  },
  {
   "cell_type": "code",
   "execution_count": 98,
   "metadata": {},
   "outputs": [],
   "source": [
    "BAD_DIST_THRESHOLD = 0.003\n",
    "PATCH_SIZE = 500\n",
    "\n",
    "\n",
    "# Because processing everything in one sweep kills the kernel\n",
    "def iter_patches(mesh: Trimesh):\n",
    "    for start in range(0, len(mesh.vertices), PATCH_SIZE):\n",
    "        end = min(start + PATCH_SIZE, len(mesh.vertices))\n",
    "        yield start, end, mesh.vertices[start:end]\n",
    "\n",
    "\n",
    "def get_mask_near_mesh(mesh1: Trimesh, mesh2: Trimesh, threshold: float):\n",
    "    used_vertices = np.zeros(len(ref_mesh.vertices), dtype=bool)\n",
    "    for start, end, patch1 in iter_patches(mesh1):\n",
    "        for _, _, patch2 in iter_patches(mesh2):\n",
    "            euc_dist=distance.cdist(patch1, patch2)\n",
    "            used_from_batch = euc_dist.min(axis=1) < threshold\n",
    "            used_vertices[start:end] = np.bitwise_or(used_vertices[start:end], used_from_batch)\n",
    "    \n",
    "    return used_vertices\n",
    "\n",
    "\n",
    "used_v_mask_bad = get_mask_near_mesh(ref_mesh, bad_mesh, BAD_DIST_THRESHOLD)\n"
   ]
  },
  {
   "attachments": {},
   "cell_type": "markdown",
   "metadata": {},
   "source": [
    "Remove `ref_mesh` vertices which are far from any `bad_mesh` vertices"
   ]
  },
  {
   "cell_type": "code",
   "execution_count": 99,
   "metadata": {},
   "outputs": [
    {
     "name": "stderr",
     "output_type": "stream",
     "text": [
      "/home/kolusask/miniconda3/envs/.at3dcv/lib/python3.10/site-packages/traittypes/traittypes.py:97: UserWarning: Given trait value dtype \"float32\" does not match required type \"float64\". A coerced copy has been created.\n",
      "  warnings.warn(\n",
      "/home/kolusask/miniconda3/envs/.at3dcv/lib/python3.10/site-packages/traittypes/traittypes.py:97: UserWarning: Given trait value dtype \"uint32\" does not match required type \"float64\". A coerced copy has been created.\n",
      "  warnings.warn(\n"
     ]
    },
    {
     "data": {
      "application/vnd.jupyter.widget-view+json": {
       "model_id": "4ad4841ed1a643e6b9efc0310302c7cf",
       "version_major": 2,
       "version_minor": 0
      },
      "text/plain": [
       "HBox(children=(Output(), Output()))"
      ]
     },
     "metadata": {},
     "output_type": "display_data"
    },
    {
     "data": {
      "application/vnd.jupyter.widget-view+json": {
       "model_id": "a941167e4faf4163b9baf6206624fcbc",
       "version_major": 2,
       "version_minor": 0
      },
      "text/plain": [
       "HBox(children=(Output(), Output()))"
      ]
     },
     "metadata": {},
     "output_type": "display_data"
    }
   ],
   "source": [
    "def get_trimesh_with_mask(src_mesh, vert_mask):\n",
    "    used_f_mask = np.isin(src_mesh.faces, np.where(vert_mask)).sum(axis=1) > 0\n",
    "    return Trimesh(src_mesh.vertices, src_mesh.faces[used_f_mask])\n",
    "\n",
    "\n",
    "ref_mesh_bad = get_trimesh_with_mask(ref_mesh, used_v_mask_bad)\n",
    "double_plot(ref_mesh_bad, bad_mesh)"
   ]
  },
  {
   "attachments": {},
   "cell_type": "markdown",
   "metadata": {},
   "source": [
    "Remove vertices which are far from the `bad_mesh`'s centroid"
   ]
  },
  {
   "cell_type": "code",
   "execution_count": 97,
   "metadata": {},
   "outputs": [
    {
     "data": {
      "application/vnd.jupyter.widget-view+json": {
       "model_id": "2f010a68c25a4154a5102274e3988cd4",
       "version_major": 2,
       "version_minor": 0
      },
      "text/plain": [
       "HBox(children=(Output(), Output()))"
      ]
     },
     "metadata": {},
     "output_type": "display_data"
    },
    {
     "data": {
      "application/vnd.jupyter.widget-view+json": {
       "model_id": "54d56497c05e47c582bc0f4f22155043",
       "version_major": 2,
       "version_minor": 0
      },
      "text/plain": [
       "HBox(children=(Output(), Output()))"
      ]
     },
     "metadata": {},
     "output_type": "display_data"
    }
   ],
   "source": [
    "CENTER_THRESHOLD = 0.8\n",
    "\n",
    "def get_mask_near_point(mesh, point, threshold):\n",
    "    used_vertices = np.zeros(len(mesh.vertices), dtype=bool)\n",
    "    for start, end, patch in iter_patches(mesh):\n",
    "        used_from_batch = np.linalg.norm(patch - point) < threshold\n",
    "        used_vertices[start:end] = np.bitwise_or(used_vertices[start:end], used_from_batch)\n",
    "    \n",
    "    return used_vertices\n",
    "\n",
    "used_v_mask_centroid = get_mask_near_point(ref_mesh, bad_mesh.centroid, CENTER_THRESHOLD)\n",
    "\n",
    "ref_mesh_centroid = get_trimesh_with_mask(ref_mesh, used_v_mask_centroid)\n",
    "double_plot(ref_mesh_paired_restored, bad_mesh)"
   ]
  },
  {
   "attachments": {},
   "cell_type": "markdown",
   "metadata": {},
   "source": [
    "Combine"
   ]
  },
  {
   "cell_type": "code",
   "execution_count": null,
   "metadata": {},
   "outputs": [
    {
     "name": "stdout",
     "output_type": "stream",
     "text": [
      "37082\n",
      "18601\n",
      "19246\n"
     ]
    }
   ],
   "source": [
    "used_v_mask = np.bitwise_or(used_v_mask_bad, used_v_mask_centroid)"
   ]
  }
 ],
 "metadata": {
  "kernelspec": {
   "display_name": ".at3dcv",
   "language": "python",
   "name": "python3"
  },
  "language_info": {
   "codemirror_mode": {
    "name": "ipython",
    "version": 3
   },
   "file_extension": ".py",
   "mimetype": "text/x-python",
   "name": "python",
   "nbconvert_exporter": "python",
   "pygments_lexer": "ipython3",
   "version": "3.10.0"
  },
  "orig_nbformat": 4
 },
 "nbformat": 4,
 "nbformat_minor": 2
}

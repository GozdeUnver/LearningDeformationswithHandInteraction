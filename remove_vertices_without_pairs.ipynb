{
 "cells": [
  {
   "cell_type": "code",
   "execution_count": 26,
   "metadata": {},
   "outputs": [],
   "source": [
    "\n",
    "import numpy as np\n",
    "\n",
    "from trimesh import Trimesh, load, graph\n",
    "from trimesh.exchange.export import export_obj\n",
    "\n",
    "import meshplot as mp\n",
    "\n",
    "from scipy.spatial import distance\n",
    "\n",
    "def plot_mesh(myMesh,cmap=None):\n",
    "    mp.plot(myMesh.vertices, myMesh.faces,c=cmap)\n",
    "    \n",
    "def double_plot(myMesh1,myMesh2,cmap1=None,cmap2=None):\n",
    "    d = mp.subplot(myMesh1.vertices, myMesh1.faces, c=cmap1, s=[2, 2, 0])\n",
    "    mp.subplot(myMesh2.vertices, myMesh2.faces, c=cmap2, s=[2, 2, 1], data=d)\n",
    "\n",
    "def double_plot_clouds(cloud1, cloud2):\n",
    "    d = mp.subplot(cloud1, None, c=np.array([0, 1, 0]), s=[2, 2, 0])\n",
    "    mp.subplot(cloud2, None, c=np.array([1, 0, 0]), s=[2, 2, 1], data=d)\n",
    "\n",
    "def visu(vertices):\n",
    "    min_coord,max_coord = np.min(vertices,axis=0,keepdims=True),np.max(vertices,axis=0,keepdims=True)\n",
    "    cmap = (vertices-min_coord)/(max_coord-min_coord)\n",
    "    return cmap\n",
    "\n",
    "def plot_correspondence_lines(mesh1, mesh2, mesh1_points, mesh2_points):\n",
    "    def plot_mesh_and_lines(mesh, points):\n",
    "        p = mp.plot(mesh1_points, None, c=visu(points))\n",
    "        p.add_mesh(mesh.vertices, mesh.faces, c=visu(mesh.vertices))\n",
    "        p.add_lines(mesh1_points, mesh2_points)\n",
    "    plot_mesh_and_lines(mesh1, mesh2_points)\n",
    "    plot_mesh_and_lines(mesh2, mesh1_points)\n",
    "\n",
    "def merged_plot(mesh1, mesh2, shift=[0.0, 0.0, 0.0]):\n",
    "    d = mp.plot(mesh1.vertices, mesh1.faces)\n",
    "    d.add_mesh(mesh2.vertices + np.array(shift), mesh2.faces, c=np.array([1, 0, 0]))"
   ]
  },
  {
   "attachments": {},
   "cell_type": "markdown",
   "metadata": {},
   "source": [
    "Load meshes"
   ]
  },
  {
   "cell_type": "code",
   "execution_count": 27,
   "metadata": {},
   "outputs": [
    {
     "data": {
      "application/vnd.jupyter.widget-view+json": {
       "model_id": "c0ea039bdec04a55b3a8a24c512ec213",
       "version_major": 2,
       "version_minor": 0
      },
      "text/plain": [
       "HBox(children=(Output(), Output()))"
      ]
     },
     "metadata": {},
     "output_type": "display_data"
    },
    {
     "data": {
      "application/vnd.jupyter.widget-view+json": {
       "model_id": "86bbb5c2bea64c3598069a3ea248d893",
       "version_major": 2,
       "version_minor": 0
      },
      "text/plain": [
       "HBox(children=(Output(), Output()))"
      ]
     },
     "metadata": {},
     "output_type": "display_data"
    }
   ],
   "source": [
    "ref_mesh = load('data/dataset/YellowToy01/reference.obj')\n",
    "bad_mesh = load('data/dataset/YellowToy01/yellow_push_toy_3_70000.obj')\n",
    "double_plot(ref_mesh, bad_mesh)"
   ]
  },
  {
   "cell_type": "code",
   "execution_count": 28,
   "metadata": {},
   "outputs": [
    {
     "data": {
      "application/vnd.jupyter.widget-view+json": {
       "model_id": "ce0d6bfb3bbe46e4bc76653f8dc61df1",
       "version_major": 2,
       "version_minor": 0
      },
      "text/plain": [
       "Renderer(camera=PerspectiveCamera(children=(DirectionalLight(color='white', intensity=0.6, position=(-0.054015…"
      ]
     },
     "metadata": {},
     "output_type": "display_data"
    }
   ],
   "source": [
    "shift = [0.0, 0.0, 0.0]\n",
    "merged_plot(ref_mesh, bad_mesh, shift)"
   ]
  },
  {
   "attachments": {},
   "cell_type": "markdown",
   "metadata": {},
   "source": [
    "Find `ref_mesh` vertices close to any `bad_mesh` vertices"
   ]
  },
  {
   "cell_type": "code",
   "execution_count": 29,
   "metadata": {},
   "outputs": [],
   "source": [
    "BAD_DIST_THRESHOLD = 0.003\n",
    "PATCH_SIZE = 500\n",
    "\n",
    "\n",
    "# Because processing everything in one sweep kills the kernel\n",
    "def iter_patches(mesh: Trimesh):\n",
    "    for start in range(0, len(mesh.vertices), PATCH_SIZE):\n",
    "        end = min(start + PATCH_SIZE, len(mesh.vertices))\n",
    "        yield start, end, mesh.vertices[start:end]\n",
    "\n",
    "\n",
    "def get_mask_near_mesh(mesh1: Trimesh, mesh2: Trimesh, threshold: float):\n",
    "    used_vertices = np.zeros(len(ref_mesh.vertices), dtype=bool)\n",
    "    for start, end, patch1 in iter_patches(mesh1):\n",
    "        for _, _, patch2 in iter_patches(mesh2):\n",
    "            euc_dist=distance.cdist(patch1, patch2)\n",
    "            used_from_batch = euc_dist.min(axis=1) < threshold\n",
    "            used_vertices[start:end] = np.bitwise_or(used_vertices[start:end], used_from_batch)\n",
    "    \n",
    "    return used_vertices\n",
    "\n",
    "\n",
    "used_v_mask_bad = get_mask_near_mesh(ref_mesh, bad_mesh, BAD_DIST_THRESHOLD)\n"
   ]
  },
  {
   "attachments": {},
   "cell_type": "markdown",
   "metadata": {},
   "source": [
    "Remove `ref_mesh` vertices which are far from any `bad_mesh` vertices"
   ]
  },
  {
   "cell_type": "code",
   "execution_count": 30,
   "metadata": {},
   "outputs": [
    {
     "data": {
      "application/vnd.jupyter.widget-view+json": {
       "model_id": "7f8ebf2bb3544b94b7836840a51a2b6d",
       "version_major": 2,
       "version_minor": 0
      },
      "text/plain": [
       "HBox(children=(Output(), Output()))"
      ]
     },
     "metadata": {},
     "output_type": "display_data"
    },
    {
     "data": {
      "application/vnd.jupyter.widget-view+json": {
       "model_id": "8a6544108d2e4780b0018cfc7c2a0109",
       "version_major": 2,
       "version_minor": 0
      },
      "text/plain": [
       "HBox(children=(Output(), Output()))"
      ]
     },
     "metadata": {},
     "output_type": "display_data"
    }
   ],
   "source": [
    "def get_trimesh_with_mask(src_mesh, vert_mask):\n",
    "    used_f_mask = np.isin(src_mesh.faces, np.where(vert_mask)).sum(axis=1) > 0\n",
    "    return Trimesh(src_mesh.vertices, src_mesh.faces[used_f_mask])\n",
    "\n",
    "\n",
    "ref_mesh_bad = get_trimesh_with_mask(ref_mesh, used_v_mask_bad)\n",
    "double_plot(ref_mesh_bad, bad_mesh)"
   ]
  },
  {
   "attachments": {},
   "cell_type": "markdown",
   "metadata": {},
   "source": [
    "Remove vertices which are far from the `bad_mesh`'s centroid"
   ]
  },
  {
   "cell_type": "code",
   "execution_count": 31,
   "metadata": {},
   "outputs": [
    {
     "data": {
      "application/vnd.jupyter.widget-view+json": {
       "model_id": "f0f2311b416c4d368b7a4213b641d42e",
       "version_major": 2,
       "version_minor": 0
      },
      "text/plain": [
       "HBox(children=(Output(), Output()))"
      ]
     },
     "metadata": {},
     "output_type": "display_data"
    },
    {
     "data": {
      "application/vnd.jupyter.widget-view+json": {
       "model_id": "ee57c623acdf48ff92c1c887986f6d01",
       "version_major": 2,
       "version_minor": 0
      },
      "text/plain": [
       "HBox(children=(Output(), Output()))"
      ]
     },
     "metadata": {},
     "output_type": "display_data"
    }
   ],
   "source": [
    "CENTER_THRESHOLD = 0.68\n",
    "\n",
    "def get_mask_near_point(mesh, point, threshold):\n",
    "    used_vertices = np.zeros(len(mesh.vertices), dtype=bool)\n",
    "    for start, end, patch in iter_patches(mesh):\n",
    "        used_from_batch = np.linalg.norm(patch - point) < threshold\n",
    "        used_vertices[start:end] = np.bitwise_or(used_vertices[start:end], used_from_batch)\n",
    "    \n",
    "    return used_vertices\n",
    "\n",
    "used_v_mask_centroid = get_mask_near_point(ref_mesh, bad_mesh.centroid, CENTER_THRESHOLD)\n",
    "\n",
    "ref_mesh_centroid = get_trimesh_with_mask(ref_mesh, used_v_mask_centroid)\n",
    "double_plot(ref_mesh_centroid, bad_mesh)"
   ]
  },
  {
   "attachments": {},
   "cell_type": "markdown",
   "metadata": {},
   "source": [
    "Combine"
   ]
  },
  {
   "cell_type": "code",
   "execution_count": 32,
   "metadata": {},
   "outputs": [
    {
     "data": {
      "application/vnd.jupyter.widget-view+json": {
       "model_id": "00429f9ff0b84e9eac22e8bdf613ebb4",
       "version_major": 2,
       "version_minor": 0
      },
      "text/plain": [
       "HBox(children=(Output(), Output()))"
      ]
     },
     "metadata": {},
     "output_type": "display_data"
    },
    {
     "data": {
      "application/vnd.jupyter.widget-view+json": {
       "model_id": "5f63658b3c5e438ba0576c870143cdbf",
       "version_major": 2,
       "version_minor": 0
      },
      "text/plain": [
       "HBox(children=(Output(), Output()))"
      ]
     },
     "metadata": {},
     "output_type": "display_data"
    }
   ],
   "source": [
    "used_v_mask_combined = np.bitwise_or(used_v_mask_bad, used_v_mask_centroid)\n",
    "ref_mesh_combined = get_trimesh_with_mask(ref_mesh, used_v_mask_combined)\n",
    "double_plot(ref_mesh_combined, bad_mesh)"
   ]
  },
  {
   "cell_type": "code",
   "execution_count": 33,
   "metadata": {},
   "outputs": [
    {
     "data": {
      "application/vnd.jupyter.widget-view+json": {
       "model_id": "569265d45457451c9397eeb3b5cc49fe",
       "version_major": 2,
       "version_minor": 0
      },
      "text/plain": [
       "Renderer(camera=PerspectiveCamera(children=(DirectionalLight(color='white', intensity=0.6, position=(-0.047960…"
      ]
     },
     "metadata": {},
     "output_type": "display_data"
    }
   ],
   "source": [
    "merged_plot(ref_mesh_combined, bad_mesh)"
   ]
  },
  {
   "attachments": {},
   "cell_type": "markdown",
   "metadata": {},
   "source": [
    "Remove disconnected components"
   ]
  },
  {
   "cell_type": "code",
   "execution_count": 34,
   "metadata": {},
   "outputs": [
    {
     "name": "stdout",
     "output_type": "stream",
     "text": [
      "(18054, 3)\n",
      "(17989, 3)\n"
     ]
    },
    {
     "data": {
      "application/vnd.jupyter.widget-view+json": {
       "model_id": "473d89467dba4af1b13fe09b039d05be",
       "version_major": 2,
       "version_minor": 0
      },
      "text/plain": [
       "HBox(children=(Output(), Output()))"
      ]
     },
     "metadata": {},
     "output_type": "display_data"
    },
    {
     "data": {
      "application/vnd.jupyter.widget-view+json": {
       "model_id": "280e2900d66d4a9fb973972855d14ea7",
       "version_major": 2,
       "version_minor": 0
      },
      "text/plain": [
       "HBox(children=(Output(), Output()))"
      ]
     },
     "metadata": {},
     "output_type": "display_data"
    }
   ],
   "source": [
    "max_cc = max(graph.connected_components(ref_mesh_combined.face_adjacency), key=len)\n",
    "connected_f_mask = np.zeros(len(ref_mesh_combined.faces), dtype=bool)\n",
    "connected_f_mask[max_cc] = True\n",
    "print(ref_mesh_combined.vertices.shape)\n",
    "ref_mesh_connected = Trimesh(ref_mesh_combined.vertices, ref_mesh_combined.faces[connected_f_mask])\n",
    "print(ref_mesh_connected.vertices.shape)\n",
    "double_plot(ref_mesh_connected, bad_mesh)"
   ]
  },
  {
   "cell_type": "code",
   "execution_count": 35,
   "metadata": {},
   "outputs": [],
   "source": [
    "with open('mesh_paired.obj', 'w') as obj:\n",
    "    obj.write(export_obj(ref_mesh_connected))"
   ]
  },
  {
   "cell_type": "code",
   "execution_count": 36,
   "metadata": {},
   "outputs": [],
   "source": [
    "!mv mesh_paired.obj data/dataset/YellowToy01/yellow_push_toy_1_70000.obj"
   ]
  }
 ],
 "metadata": {
  "kernelspec": {
   "display_name": ".at3dcv",
   "language": "python",
   "name": "python3"
  },
  "language_info": {
   "codemirror_mode": {
    "name": "ipython",
    "version": 3
   },
   "file_extension": ".py",
   "mimetype": "text/x-python",
   "name": "python",
   "nbconvert_exporter": "python",
   "pygments_lexer": "ipython3",
   "version": "3.10.0"
  },
  "orig_nbformat": 4
 },
 "nbformat": 4,
 "nbformat_minor": 2
}

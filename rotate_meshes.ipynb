{
 "cells": [
  {
   "cell_type": "code",
   "execution_count": 9,
   "metadata": {},
   "outputs": [],
   "source": [
    "\"\"\"import open3d as o3d\n",
    "import meshplot as mp\n",
    "import numpy as np\n",
    "\n",
    "def double_plot(myMesh1,myMesh2,cmap1=None,cmap2=None):\n",
    "    d = mp.subplot(np.asarray(myMesh1.vertices), np.asarray(myMesh1.triangles), c=cmap1, s=[2, 2, 0])\n",
    "    mp.subplot(np.asarray(myMesh2.vertices), np.asarray(myMesh2.triangles), c=cmap2, s=[2, 2, 1], data=d)\n",
    "\n",
    "mesh1 = o3d.io.read_triangle_mesh(\"/Users/gozdeunver/Downloads/SphereDataset/NoCollider/Force_normal/5.obj\")\n",
    "mesh2 = o3d.io.read_triangle_mesh(\"/Users/gozdeunver/Downloads/SphereDataset/NoCollider/Force_20_offcenter/5.obj\")\n",
    "print(f'Mesh 1 : {len(np.asarray(mesh1.vertices))} vertices, {len(np.asarray(mesh1.triangles))} faces\\n'\n",
    "      )\n",
    "\n",
    "double_plot(mesh1,mesh2)\"\"\""
   ]
  },
  {
   "attachments": {},
   "cell_type": "markdown",
   "metadata": {},
   "source": [
    "### Rotate mesh"
   ]
  },
  {
   "cell_type": "code",
   "execution_count": 1,
   "metadata": {},
   "outputs": [],
   "source": [
    "import pyvista as pv\n",
    "import open3d as o3d\n",
    "import numpy as np\n",
    "import os\n",
    "import pandas as pd"
   ]
  },
  {
   "cell_type": "code",
   "execution_count": null,
   "metadata": {},
   "outputs": [],
   "source": [
    "p = pv.Plotter()\n",
    "p.add_actor(axes.actor)\n",
    "p.add_text(\"X-Axis Rotation\", font_size=14)\n",
    "p.camera = camera\n",
    "p.add_mesh(nondeformed_mesh)\n",
    "#p.add_point_labels(rot.points[285], [rot.points[285]], point_size=20, font_size=36)\n",
    "#mesh = pv.Line((0, 10, 0), rot.points[285])\n",
    "sphere = pv.Sphere(radius=0.01,center=rot.points[21377])\n",
    "\n",
    "#mesh.plot(color='k', line_width=10)\n",
    "p.add_mesh(sphere)\n",
    "p.show()"
   ]
  },
  {
   "cell_type": "code",
   "execution_count": 13,
   "metadata": {},
   "outputs": [
    {
     "data": {
      "text/plain": [
       "pyvista_ndarray([[ 1.      ,  1.      ,  1.      ],\n",
       "                 [-0.102846,  0.226566,  0.098459]], dtype=float32)"
      ]
     },
     "execution_count": 13,
     "metadata": {},
     "output_type": "execute_result"
    }
   ],
   "source": [
    "org_dir=\"top_diagonal_corner\"\n",
    "nondeformed_org=pv.read(f\"/Users/gozdeunver/Downloads/cube/{org_dir}/cube_crusher1.obj\").triangulate()\n",
    "deformed_org=pv.read(f\"/Users/gozdeunver/Downloads/cube/{org_dir}/cube_crusher2.obj\").triangulate()\n",
    "deformation_vectors = nondeformed_org.points-deformed_org.points\n",
    "distances_ = np.linalg.norm(deformation_vectors, axis=1)\n",
    "deformed_org.points[0,:]=[1.,1.,1.]\n",
    "deformed_org.points[:2]"
   ]
  },
  {
   "cell_type": "code",
   "execution_count": 94,
   "metadata": {},
   "outputs": [],
   "source": [
    "#nondeformed = pv.PolyData(np.asarray(nondeformed_.vertices),np.hstack(np.asarray(nondeformed_.triangles)))\n",
    "#deformed=pv.PolyData(np.asarray(deformed_.vertices),np.hstack(np.asarray(deformed_.triangles)))\n",
    "org_dir=\"top_diagonal_corner\"\n",
    "nondeformed_org=pv.read(f\"../cube/{org_dir}/cube_crusher1.obj\").triangulate()\n",
    "farthest_dist=np.max(np.linalg.norm(nondeformed_org.points-nondeformed_org.center,axis=1))\n",
    "nondeformed=nondeformed_org.scale([1/farthest_dist, 1/farthest_dist, 1/farthest_dist], inplace=False)\n",
    "\n",
    "deformed_50_org=pv.read(f\"../cube/{org_dir}/cube_crusher50.obj\").triangulate()\n",
    "deformed_50=deformed_50_org.scale([1/farthest_dist, 1/farthest_dist, 1/farthest_dist], inplace=False)\n",
    "\n",
    "deformation_vectors = nondeformed.points-deformed_50.points\n",
    "distances_ = np.linalg.norm(deformation_vectors, axis=1)\n",
    "contact_point=np.argmax(distances_)\n",
    "\n",
    "axes = pv.Axes(show_actor=True,line_width=5)\n",
    "axes.origin = nondeformed.center\n",
    "bool_var=False\n",
    "output_directory=f\"./data/cube/{org_dir}_Rotated\"\n",
    "\"\"\"camera = pv.Camera()\n",
    "camera.position = (2.0, 2.0, 2.0)\n",
    "camera.focal_point = (0., 0., 0.)\"\"\"\n",
    "if not os.path.exists(\"cube_dataset.csv\"):\n",
    "    f=open(\"cube_dataset.csv\",\"w+\")\n",
    "    f.write(\"input,target,contact_vertex,train_sample\\n\")\n",
    "else:\n",
    "    f=open(\"cube_dataset.csv\",\"a+\")\n",
    "    \n",
    "for i in range(2,51):\n",
    "\n",
    "    deformed_org=pv.read(f\"../cube/{org_dir}/cube_crusher{i}.obj\").triangulate()\n",
    "    deformed=deformed_org.scale([1/farthest_dist, 1/farthest_dist, 1/farthest_dist], inplace=False)\n",
    "\n",
    "    for angle in range(0,4):\n",
    "        rot = deformed.rotate_z(90 * angle, point=axes.origin, inplace=False)\n",
    "        deformed_path=os.path.join(output_directory,f\"cube_crusher{i}_z_angle{angle*90}.ply\")\n",
    "        rot.save(deformed_path)\n",
    "        rot_non=nondeformed.rotate_z(90 * angle, point=axes.origin, inplace=False)\n",
    "        non_deformed_path=os.path.join(output_directory,f\"cube_crusher1_z_angle{angle*90}.ply\")\n",
    "        rot_non.save(non_deformed_path)\n",
    "       \n",
    "        f.write(non_deformed_path+\",\"+deformed_path+\",\"+str(contact_point)+\",\"+str(bool_var)+\"\\n\")\n",
    "\n",
    "        rot = deformed.rotate_y(90 * angle, point=axes.origin, inplace=False)\n",
    "        deformed_path=os.path.join(output_directory,f\"cube_crusher{i}_y_angle{angle*90}.ply\")\n",
    "        rot.save(deformed_path)\n",
    "        rot_non=nondeformed.rotate_y(90 * angle, point=axes.origin, inplace=False)\n",
    "        non_deformed_path=os.path.join(output_directory,f\"cube_crusher1_y_angle{angle*90}.ply\")\n",
    "        rot_non.save(non_deformed_path)\n",
    "        \n",
    "        f.write(non_deformed_path+\",\"+deformed_path+\",\"+str(contact_point)+\",\"+str(bool_var)+\"\\n\")\n",
    "\n",
    "        rot = deformed.rotate_x(90 * angle, point=axes.origin, inplace=False)\n",
    "        deformed_path=os.path.join(output_directory,f\"cube_crusher{i}_x_angle{angle*90}.ply\")\n",
    "        rot.save(deformed_path)\n",
    "        rot_non=nondeformed.rotate_x(90 * angle, point=axes.origin, inplace=False)\n",
    "        non_deformed_path=os.path.join(output_directory,f\"cube_crusher1_x_angle{angle*90}.ply\")\n",
    "        rot_non.save(non_deformed_path)\n",
    "        \n",
    "        f.write(non_deformed_path+\",\"+deformed_path+\",\"+str(contact_point)+\",\"+str(bool_var)+\"\\n\")\n",
    "f.close()\n"
   ]
  },
  {
   "cell_type": "code",
   "execution_count": 95,
   "metadata": {},
   "outputs": [],
   "source": [
    "df=pd.read_csv(\"./cube_dataset.csv\")\n",
    "df.to_csv(\"./cube_dataset.csv\")"
   ]
  },
  {
   "cell_type": "code",
   "execution_count": 21,
   "metadata": {},
   "outputs": [],
   "source": [
    "\"\"\"import pandas as pd\n",
    "df=pd.read_csv(\"./cube_dataset.csv\")\n",
    "bool_vec=np.ones(len(df),dtype='bool')\n",
    "df[\"train_sample\"]=bool_vec\n",
    "df.loc[df['contact_vertex'] == 6058,[\"train_sample\"]]=False\n",
    "df.to_csv(\"./cube_dataset_final.csv\")\"\"\""
   ]
  },
  {
   "cell_type": "code",
   "execution_count": 29,
   "metadata": {},
   "outputs": [],
   "source": [
    "axes = pv.Axes(show_actor=True,line_width=5)\n",
    "axes.origin = nondeformed_center"
   ]
  },
  {
   "cell_type": "code",
   "execution_count": null,
   "metadata": {},
   "outputs": [],
   "source": [
    "p = pv.Plotter()\n",
    "p.add_actor(axes.actor)\n",
    "p.add_text(\"X-Axis Rotation\", font_size=14)\n",
    "camera = pv.Camera()\n",
    "camera.position = (10.0, 10.0, 10.0)\n",
    "camera.focal_point = (0., 0., 0.)\n",
    "p.camera = camera\n",
    "\n",
    "p.add_mesh(rot)\n",
    "#p.add_point_labels(rot.points[285], [rot.points[285]], point_size=20, font_size=36)\n",
    "#mesh = pv.Line((0, 10, 0), rot.points[285])\n",
    "sphere = pv.Sphere(radius=0.1,center=rot.points[1066])\n",
    "\n",
    "#mesh.plot(color='k', line_width=10)\n",
    "p.add_mesh(sphere)\n",
    "p.show()\n"
   ]
  },
  {
   "cell_type": "code",
   "execution_count": null,
   "metadata": {},
   "outputs": [],
   "source": []
  }
 ],
 "metadata": {
  "kernelspec": {
   "display_name": ".at3dcv-point-correspondence",
   "language": "python",
   "name": "python3"
  },
  "language_info": {
   "codemirror_mode": {
    "name": "ipython",
    "version": 3
   },
   "file_extension": ".py",
   "mimetype": "text/x-python",
   "name": "python",
   "nbconvert_exporter": "python",
   "pygments_lexer": "ipython3",
   "version": "3.10.0"
  },
  "orig_nbformat": 4
 },
 "nbformat": 4,
 "nbformat_minor": 2
}

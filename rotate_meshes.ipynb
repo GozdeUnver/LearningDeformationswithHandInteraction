{
 "cells": [
  {
   "cell_type": "code",
   "execution_count": 9,
   "metadata": {},
   "outputs": [],
   "source": [
    "\"\"\"import open3d as o3d\n",
    "import meshplot as mp\n",
    "import numpy as np\n",
    "\n",
    "def double_plot(myMesh1,myMesh2,cmap1=None,cmap2=None):\n",
    "    d = mp.subplot(np.asarray(myMesh1.vertices), np.asarray(myMesh1.triangles), c=cmap1, s=[2, 2, 0])\n",
    "    mp.subplot(np.asarray(myMesh2.vertices), np.asarray(myMesh2.triangles), c=cmap2, s=[2, 2, 1], data=d)\n",
    "\n",
    "mesh1 = o3d.io.read_triangle_mesh(\"/Users/gozdeunver/Downloads/SphereDataset/NoCollider/Force_normal/5.obj\")\n",
    "mesh2 = o3d.io.read_triangle_mesh(\"/Users/gozdeunver/Downloads/SphereDataset/NoCollider/Force_20_offcenter/5.obj\")\n",
    "print(f'Mesh 1 : {len(np.asarray(mesh1.vertices))} vertices, {len(np.asarray(mesh1.triangles))} faces\\n'\n",
    "      )\n",
    "\n",
    "double_plot(mesh1,mesh2)\"\"\""
   ]
  },
  {
   "attachments": {},
   "cell_type": "markdown",
   "metadata": {},
   "source": [
    "### Rotate mesh"
   ]
  },
  {
   "cell_type": "code",
   "execution_count": 3,
   "metadata": {},
   "outputs": [],
   "source": [
    "import pyvista as pv\n",
    "import open3d as o3d\n",
    "import numpy as np\n",
    "import os\n",
    "import pandas as pd"
   ]
  },
  {
   "cell_type": "code",
   "execution_count": 112,
   "metadata": {},
   "outputs": [
    {
     "name": "stdout",
     "output_type": "stream",
     "text": [
      "386\n",
      "28\n"
     ]
    }
   ],
   "source": [
    "mesh_def = pv.read(\"../cube (386 verts)/20/50.stl\").triangulate()\n",
    "mesh_org = pv.read(\"../cube (386 verts)/20/0.stl\").triangulate()\n",
    "print(len(np.asarray(mesh_def.points)))\n",
    "deformation_vectors = mesh_org.points-mesh_def.points\n",
    "distances_ = np.linalg.norm(deformation_vectors, axis=1)\n",
    "contact_point=np.argmax(distances_)\n",
    "print(contact_point)"
   ]
  },
  {
   "cell_type": "code",
   "execution_count": 114,
   "metadata": {},
   "outputs": [
    {
     "name": "stderr",
     "output_type": "stream",
     "text": [
      "/Users/gozdeunver/opt/anaconda3/envs/.at3dcv-point-correspondence/lib/python3.10/site-packages/pyvista/jupyter/notebook.py:58: UserWarning: Failed to use notebook backend: \n",
      "\n",
      "No module named 'trame'\n",
      "\n",
      "Falling back to a static output.\n",
      "  warnings.warn(\n"
     ]
    },
    {
     "data": {
      "image/png": "[encoded data removed]",
      "text/plain": [
       "<PIL.Image.Image image mode=RGB size=1024x768>"
      ]
     },
     "metadata": {},
     "output_type": "display_data"
    }
   ],
   "source": [
    "p = pv.Plotter()\n",
    "camera = pv.Camera()\n",
    "camera.position = (2, 2, 2)\n",
    "camera.focal_point = mesh_def.center\n",
    "p.camera = camera\n",
    "p.add_mesh(mesh_def)\n",
    "axes = pv.Axes(show_actor=True,line_width=5)\n",
    "axes.origin = mesh_org.center\n",
    "p.add_actor(axes.actor)\n",
    "sphere = pv.Sphere(radius=0.01,center=mesh_def.points[28])\n",
    "\n",
    "p.add_mesh(sphere)\n",
    "p.show()"
   ]
  },
  {
   "cell_type": "code",
   "execution_count": null,
   "metadata": {},
   "outputs": [],
   "source": []
  },
  {
   "cell_type": "code",
   "execution_count": 161,
   "metadata": {},
   "outputs": [],
   "source": [
    "#nondeformed = pv.PolyData(np.asarray(nondeformed_.vertices),np.hstack(np.asarray(nondeformed_.triangles)))\n",
    "#deformed=pv.PolyData(np.asarray(deformed_.vertices),np.hstack(np.asarray(deformed_.triangles)))\n",
    "org_dir=\"359_(z_-0.01)\"\n",
    "outmost_path=\".\"\n",
    "nondeformed_org=pv.read(f\"{outmost_path}/cube (386 verts)/{org_dir}/0.stl\").triangulate()\n",
    "farthest_dist=np.max(np.linalg.norm(nondeformed_org.points-nondeformed_org.center,axis=1))\n",
    "nondeformed=nondeformed_org.scale([1/farthest_dist, 1/farthest_dist, 1/farthest_dist], inplace=False)\n",
    "\n",
    "deformed_50_org=pv.read(f\"{outmost_path}/cube (386 verts)/{org_dir}/50.stl\").triangulate()\n",
    "deformed_50=deformed_50_org.scale([1/farthest_dist, 1/farthest_dist, 1/farthest_dist], inplace=False)\n",
    "\n",
    "deformation_vectors = nondeformed.points-deformed_50.points\n",
    "distances_ = np.linalg.norm(deformation_vectors, axis=1)\n",
    "contact_point=np.argmax(distances_)\n",
    "\n",
    "axes = pv.Axes(show_actor=True,line_width=5)\n",
    "axes.origin = nondeformed.center\n",
    "bool_var=False\n",
    "output_directory=f\"./dgcnn.pytorch/data/cube/{org_dir}_Rotated\"\n",
    "save_dir=f\"data/cube/{org_dir}_Rotated\"\n",
    "if not os.path.exists(output_directory):\n",
    "    os.makedirs(output_directory)\n",
    "\n",
    "if not os.path.exists(\"./dgcnn.pytorch/data/cube_dataset.csv\"):\n",
    "    f=open(\"./dgcnn.pytorch/data/cube_dataset.csv\",\"w+\")\n",
    "    f.write(\"input,target,contact_vertex,train_sample\\n\")\n",
    "else:\n",
    "    f=open(\"./dgcnn.pytorch/data/cube_dataset.csv\",\"a+\")\n",
    "    \n",
    "for i in range(1,51):\n",
    "\n",
    "    deformed_org=pv.read(f\"{outmost_path}/cube (386 verts)/{org_dir}/{i}.stl\").triangulate()\n",
    "    deformed=deformed_org.scale([1/farthest_dist, 1/farthest_dist, 1/farthest_dist], inplace=False)\n",
    "\n",
    "    for angle in range(0,4):\n",
    "        rot = deformed.rotate_z(90 * angle, point=axes.origin, inplace=False)\n",
    "        deformed_path=os.path.join(save_dir,f\"{i}_z_angle{angle*90}.stl\")\n",
    "        rot.save(deformed_path)\n",
    "        rot_non=nondeformed.rotate_z(90 * angle, point=axes.origin, inplace=False)\n",
    "        non_deformed_path=os.path.join(save_dir,f\"0_z_angle{angle*90}.stl\")\n",
    "        rot_non.save(non_deformed_path)\n",
    "       \n",
    "        f.write(non_deformed_path+\",\"+deformed_path+\",\"+str(contact_point)+\",\"+str(bool_var)+\"\\n\")\n",
    "\n",
    "        rot = deformed.rotate_y(90 * angle, point=axes.origin, inplace=False)\n",
    "        deformed_path=os.path.join(save_dir,f\"{i}_y_angle{angle*90}.stl\")\n",
    "        rot.save(deformed_path)\n",
    "        rot_non=nondeformed.rotate_y(90 * angle, point=axes.origin, inplace=False)\n",
    "        non_deformed_path=os.path.join(save_dir,f\"0_y_angle{angle*90}.stl\")\n",
    "        rot_non.save(non_deformed_path)\n",
    "        \n",
    "        f.write(non_deformed_path+\",\"+deformed_path+\",\"+str(contact_point)+\",\"+str(bool_var)+\"\\n\")\n",
    "\n",
    "        rot = deformed.rotate_x(90 * angle, point=axes.origin, inplace=False)\n",
    "        deformed_path=os.path.join(save_dir,f\"{i}_x_angle{angle*90}.stl\")\n",
    "        rot.save(deformed_path)\n",
    "        rot_non=nondeformed.rotate_x(90 * angle, point=axes.origin, inplace=False)\n",
    "        non_deformed_path=os.path.join(save_dir,f\"0_x_angle{angle*90}.stl\")\n",
    "        rot_non.save(non_deformed_path)\n",
    "        \n",
    "        f.write(non_deformed_path+\",\"+deformed_path+\",\"+str(contact_point)+\",\"+str(bool_var)+\"\\n\")\n",
    "f.close()\n"
   ]
  },
  {
   "cell_type": "code",
   "execution_count": 164,
   "metadata": {},
   "outputs": [],
   "source": [
    "df=pd.read_csv(\"./dgcnn.pytorch/data/cube_dataset.csv\")\n",
    "#df.rename({\"Unnamed: 0\":\"a\"}, axis=\"columns\", inplace=True)\n",
    "#df.drop([\"a\"], axis=1, inplace=True)\n",
    "#df.reset_index(drop=True,inplace=True)\n",
    "df.to_csv(\"./dgcnn.pytorch/data/cube_dataset.csv\")"
   ]
  },
  {
   "cell_type": "code",
   "execution_count": null,
   "metadata": {},
   "outputs": [],
   "source": []
  }
 ],
 "metadata": {
  "kernelspec": {
   "display_name": ".at3dcv-point-correspondence",
   "language": "python",
   "name": "python3"
  },
  "language_info": {
   "codemirror_mode": {
    "name": "ipython",
    "version": 3
   },
   "file_extension": ".py",
   "mimetype": "text/x-python",
   "name": "python",
   "nbconvert_exporter": "python",
   "pygments_lexer": "ipython3",
   "version": "3.10.0"
  },
  "orig_nbformat": 4
 },
 "nbformat": 4,
 "nbformat_minor": 2
}

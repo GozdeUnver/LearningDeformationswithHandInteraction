{
 "cells": [
  {
   "cell_type": "code",
   "execution_count": 13,
   "metadata": {},
   "outputs": [],
   "source": [
    "import numpy as np\n",
    "\n",
    "from trimesh import Trimesh, load, graph\n",
    "from trimesh.exchange.export import export_obj\n",
    "from trimesh.primitives import Sphere\n",
    "\n",
    "import meshplot as mp\n",
    "\n",
    "from scipy.spatial import distance\n",
    "\n",
    "def plot_mesh(myMesh,cmap=None):\n",
    "    mp.plot(myMesh.vertices, myMesh.faces,c=cmap)\n",
    "    \n",
    "def double_plot(myMesh1,myMesh2,cmap1=None,cmap2=None):\n",
    "    d = mp.subplot(myMesh1.vertices, myMesh1.faces, c=cmap1, s=[2, 2, 0])\n",
    "    mp.subplot(myMesh2.vertices, myMesh2.faces, c=cmap2, s=[2, 2, 1], data=d)\n",
    "\n",
    "def visu(vertices):\n",
    "    min_coord,max_coord = np.min(vertices,axis=0,keepdims=True),np.max(vertices,axis=0,keepdims=True)\n",
    "    cmap = (vertices-min_coord)/(max_coord-min_coord)\n",
    "    return cmap\n",
    "\n",
    "def plot_correspondence_lines(mesh1, mesh2, mesh1_points, mesh2_points):\n",
    "    def plot_mesh_and_lines(mesh, points):\n",
    "        p = mp.plot(mesh1_points, None, c=visu(points))\n",
    "        p.add_mesh(mesh.vertices, mesh.faces, c=visu(mesh.vertices))\n",
    "        p.add_lines(mesh1_points, mesh2_points)\n",
    "    plot_mesh_and_lines(mesh1, mesh2_points)\n",
    "    plot_mesh_and_lines(mesh2, mesh1_points)\n",
    "\n",
    "def merged_plot(mesh1, mesh2, shift=[0.0, 0.0, 0.0]):\n",
    "    d = mp.plot(mesh1.vertices, mesh1.faces)\n",
    "    d.add_mesh(mesh2.vertices + np.array(shift), mesh2.faces, c=np.array([1, 0, 0]))"
   ]
  },
  {
   "attachments": {},
   "cell_type": "markdown",
   "metadata": {},
   "source": [
    "Load meshes"
   ]
  },
  {
   "cell_type": "code",
   "execution_count": 14,
   "metadata": {},
   "outputs": [
    {
     "data": {
      "application/vnd.jupyter.widget-view+json": {
       "model_id": "cab0b1161b5e483cbdb2dc9fcd9d1545",
       "version_major": 2,
       "version_minor": 0
      },
      "text/plain": [
       "HBox(children=(Output(), Output()))"
      ]
     },
     "metadata": {},
     "output_type": "display_data"
    },
    {
     "data": {
      "application/vnd.jupyter.widget-view+json": {
       "model_id": "62aed7fb65a745218c566d3895e24bc5",
       "version_major": 2,
       "version_minor": 0
      },
      "text/plain": [
       "HBox(children=(Output(), Output()))"
      ]
     },
     "metadata": {},
     "output_type": "display_data"
    }
   ],
   "source": [
    "ref_mesh = load('data/dataset/YellowToy01/yellow_push_toy_1.obj')\n",
    "bad_mesh = load('data/dataset/YellowToy01/yellow_push_toy_3.obj')\n",
    "\n",
    "double_plot(ref_mesh, bad_mesh)"
   ]
  },
  {
   "cell_type": "code",
   "execution_count": 15,
   "metadata": {},
   "outputs": [
    {
     "data": {
      "application/vnd.jupyter.widget-view+json": {
       "model_id": "673a7bcb8087471aa748db210d1d46d6",
       "version_major": 2,
       "version_minor": 0
      },
      "text/plain": [
       "Renderer(camera=PerspectiveCamera(children=(DirectionalLight(color='white', intensity=0.6, position=(-0.054012…"
      ]
     },
     "metadata": {},
     "output_type": "display_data"
    }
   ],
   "source": [
    "shift = [0.0, 0.0, 0.0]\n",
    "merged_plot(ref_mesh, bad_mesh, shift)"
   ]
  },
  {
   "attachments": {},
   "cell_type": "markdown",
   "metadata": {},
   "source": [
    "Find `ref_mesh` vertices close to any `bad_mesh` vertices"
   ]
  },
  {
   "cell_type": "code",
   "execution_count": 16,
   "metadata": {},
   "outputs": [],
   "source": [
    "BAD_DIST_THRESHOLD = 0.003\n",
    "PATCH_SIZE = 500\n",
    "\n",
    "\n",
    "# Because processing everything in one sweep kills the kernel\n",
    "def iter_patches(mesh: Trimesh):\n",
    "    for start in range(0, len(mesh.vertices), PATCH_SIZE):\n",
    "        end = min(start + PATCH_SIZE, len(mesh.vertices))\n",
    "        yield start, end, mesh.vertices[start:end]\n",
    "\n",
    "\n",
    "def get_mask_near_mesh(mesh1: Trimesh, mesh2: Trimesh, threshold: float):\n",
    "    used_vertices = np.zeros(len(ref_mesh.vertices), dtype=bool)\n",
    "    for start, end, patch1 in iter_patches(mesh1):\n",
    "        for _, _, patch2 in iter_patches(mesh2):\n",
    "            euc_dist=distance.cdist(patch1, patch2)\n",
    "            used_from_batch = euc_dist.min(axis=1) < threshold\n",
    "            used_vertices[start:end] = np.bitwise_or(used_vertices[start:end], used_from_batch)\n",
    "    \n",
    "    return used_vertices\n",
    "\n",
    "\n",
    "used_v_mask_bad = get_mask_near_mesh(ref_mesh, bad_mesh, BAD_DIST_THRESHOLD)\n"
   ]
  },
  {
   "attachments": {},
   "cell_type": "markdown",
   "metadata": {},
   "source": [
    "Remove `ref_mesh` vertices which are far from any `bad_mesh` vertices"
   ]
  },
  {
   "cell_type": "code",
   "execution_count": 24,
   "metadata": {},
   "outputs": [
    {
     "data": {
      "application/vnd.jupyter.widget-view+json": {
       "model_id": "024ded08981d4c15b4f86033779c5cf1",
       "version_major": 2,
       "version_minor": 0
      },
      "text/plain": [
       "HBox(children=(Output(), Output()))"
      ]
     },
     "metadata": {},
     "output_type": "display_data"
    },
    {
     "data": {
      "application/vnd.jupyter.widget-view+json": {
       "model_id": "81e44fa20a0f4ecdbe1f00c0da926282",
       "version_major": 2,
       "version_minor": 0
      },
      "text/plain": [
       "HBox(children=(Output(), Output()))"
      ]
     },
     "metadata": {},
     "output_type": "display_data"
    }
   ],
   "source": [
    "def get_trimesh_with_mask(src_mesh, vert_mask):\n",
    "    used_f_mask = np.isin(src_mesh.faces, np.where(vert_mask)).sum(axis=1) > 0\n",
    "    return Trimesh(src_mesh.vertices, src_mesh.faces[used_f_mask])\n",
    "\n",
    "\n",
    "ref_mesh_bad = get_trimesh_with_mask(ref_mesh, used_v_mask_bad)\n",
    "double_plot(ref_mesh_bad, bad_mesh)"
   ]
  },
  {
   "attachments": {},
   "cell_type": "markdown",
   "metadata": {},
   "source": [
    "Remove vertices which are far from the `bad_mesh`'s centroid"
   ]
  },
  {
   "cell_type": "code",
   "execution_count": 25,
   "metadata": {},
   "outputs": [
    {
     "data": {
      "application/vnd.jupyter.widget-view+json": {
       "model_id": "091fbc566c8745daa40d06ce7a21cb1c",
       "version_major": 2,
       "version_minor": 0
      },
      "text/plain": [
       "Renderer(camera=PerspectiveCamera(children=(DirectionalLight(color='white', intensity=0.6, position=(-0.053133…"
      ]
     },
     "metadata": {},
     "output_type": "display_data"
    },
    {
     "data": {
      "application/vnd.jupyter.widget-view+json": {
       "model_id": "08add206cf014a6386a474dbcc0387ae",
       "version_major": 2,
       "version_minor": 0
      },
      "text/plain": [
       "HBox(children=(Output(), Output()))"
      ]
     },
     "metadata": {},
     "output_type": "display_data"
    },
    {
     "data": {
      "application/vnd.jupyter.widget-view+json": {
       "model_id": "b5a7dea71cd740f3afd107331be3e91b",
       "version_major": 2,
       "version_minor": 0
      },
      "text/plain": [
       "HBox(children=(Output(), Output()))"
      ]
     },
     "metadata": {},
     "output_type": "display_data"
    }
   ],
   "source": [
    "CENTER_THRESHOLD = 0.925\n",
    "\n",
    "def get_mask_near_point(mesh, point, threshold):\n",
    "    used_vertices = np.zeros(len(mesh.vertices), dtype=bool)\n",
    "    for start, end, patch in iter_patches(mesh):\n",
    "        used_from_batch = np.linalg.norm(patch - point) < threshold\n",
    "        used_vertices[start:end] = np.bitwise_or(used_vertices[start:end], used_from_batch)\n",
    "    \n",
    "    return used_vertices\n",
    "\n",
    "# For now, need manual intervention\n",
    "center = bad_mesh.centroid\n",
    "# center = [ref_mesh.vertices[:, 0].mean(), ref_mesh.vertices[:, 1].mean(), ref_mesh.vertices[:, 2].max()]\n",
    "\n",
    "\n",
    "used_v_mask_centroid = get_mask_near_point(ref_mesh, center, CENTER_THRESHOLD)\n",
    "\n",
    "ref_mesh_centroid = get_trimesh_with_mask(ref_mesh, used_v_mask_centroid)\n",
    "double_plot(ref_mesh_centroid, bad_mesh)"
   ]
  },
  {
   "attachments": {},
   "cell_type": "markdown",
   "metadata": {},
   "source": [
    "Combine"
   ]
  },
  {
   "cell_type": "code",
   "execution_count": 19,
   "metadata": {},
   "outputs": [
    {
     "data": {
      "application/vnd.jupyter.widget-view+json": {
       "model_id": "e602b8087a184db186ea97e0dc1157b3",
       "version_major": 2,
       "version_minor": 0
      },
      "text/plain": [
       "HBox(children=(Output(), Output()))"
      ]
     },
     "metadata": {},
     "output_type": "display_data"
    },
    {
     "data": {
      "application/vnd.jupyter.widget-view+json": {
       "model_id": "fb196f31235a432eb8f4bb3a6956b2cb",
       "version_major": 2,
       "version_minor": 0
      },
      "text/plain": [
       "HBox(children=(Output(), Output()))"
      ]
     },
     "metadata": {},
     "output_type": "display_data"
    }
   ],
   "source": [
    "used_v_mask_combined = np.bitwise_or(used_v_mask_bad, used_v_mask_centroid)\n",
    "ref_mesh_combined = get_trimesh_with_mask(ref_mesh, used_v_mask_combined)\n",
    "double_plot(ref_mesh_combined, bad_mesh)"
   ]
  },
  {
   "cell_type": "code",
   "execution_count": 20,
   "metadata": {},
   "outputs": [
    {
     "data": {
      "application/vnd.jupyter.widget-view+json": {
       "model_id": "9e68b37e9bb54caa8cd3db96aa138044",
       "version_major": 2,
       "version_minor": 0
      },
      "text/plain": [
       "Renderer(camera=PerspectiveCamera(children=(DirectionalLight(color='white', intensity=0.6, position=(-0.055272…"
      ]
     },
     "metadata": {},
     "output_type": "display_data"
    }
   ],
   "source": [
    "merged_plot(ref_mesh_combined, bad_mesh)"
   ]
  },
  {
   "attachments": {},
   "cell_type": "markdown",
   "metadata": {},
   "source": [
    "Remove disconnected components"
   ]
  },
  {
   "cell_type": "code",
   "execution_count": 21,
   "metadata": {},
   "outputs": [
    {
     "name": "stdout",
     "output_type": "stream",
     "text": [
      "(191142, 3)\n",
      "(190625, 3)\n"
     ]
    },
    {
     "data": {
      "application/vnd.jupyter.widget-view+json": {
       "model_id": "418dbb66e09f4b0b97d0ccf40411ca13",
       "version_major": 2,
       "version_minor": 0
      },
      "text/plain": [
       "HBox(children=(Output(), Output()))"
      ]
     },
     "metadata": {},
     "output_type": "display_data"
    },
    {
     "data": {
      "application/vnd.jupyter.widget-view+json": {
       "model_id": "c184e77186624a3e8ea4a2f6890ece6f",
       "version_major": 2,
       "version_minor": 0
      },
      "text/plain": [
       "HBox(children=(Output(), Output()))"
      ]
     },
     "metadata": {},
     "output_type": "display_data"
    }
   ],
   "source": [
    "max_cc = max(graph.connected_components(ref_mesh_combined.face_adjacency), key=len)\n",
    "connected_f_mask = np.zeros(len(ref_mesh_combined.faces), dtype=bool)\n",
    "connected_f_mask[max_cc] = True\n",
    "print(ref_mesh_combined.vertices.shape)\n",
    "ref_mesh_connected = Trimesh(ref_mesh_combined.vertices, ref_mesh_combined.faces[connected_f_mask])\n",
    "print(ref_mesh_connected.vertices.shape)\n",
    "double_plot(ref_mesh_connected, bad_mesh)"
   ]
  },
  {
   "cell_type": "code",
   "execution_count": 22,
   "metadata": {},
   "outputs": [],
   "source": [
    "with open('mesh_paired.obj', 'w') as obj:\n",
    "    obj.write(export_obj(ref_mesh_connected))"
   ]
  },
  {
   "cell_type": "code",
   "execution_count": 23,
   "metadata": {},
   "outputs": [],
   "source": [
    "!mv mesh_paired.obj data/dataset/YellowToy01/yellow_push_toy_1_70000.obj"
   ]
  }
 ],
 "metadata": {
  "kernelspec": {
   "display_name": ".at3dcv",
   "language": "python",
   "name": "python3"
  },
  "language_info": {
   "codemirror_mode": {
    "name": "ipython",
    "version": 3
   },
   "file_extension": ".py",
   "mimetype": "text/x-python",
   "name": "python",
   "nbconvert_exporter": "python",
   "pygments_lexer": "ipython3",
   "version": "3.9.0"
  },
  "orig_nbformat": 4
 },
 "nbformat": 4,
 "nbformat_minor": 2
}

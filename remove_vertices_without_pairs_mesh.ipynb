{
 "cells": [
  {
   "cell_type": "code",
   "execution_count": 22,
   "metadata": {},
   "outputs": [],
   "source": [
    "import numpy as np\n",
    "\n",
    "from trimesh import Trimesh, load, graph\n",
    "from trimesh.exchange.export import export_obj\n",
    "from trimesh.primitives import Sphere\n",
    "\n",
    "import meshplot as mp\n",
    "\n",
    "from scipy.spatial import distance\n",
    "\n",
    "def plot_mesh(myMesh,cmap=None):\n",
    "    mp.plot(myMesh.vertices, myMesh.faces,c=cmap)\n",
    "    \n",
    "def double_plot(myMesh1,myMesh2,cmap1=None,cmap2=None):\n",
    "    d = mp.subplot(myMesh1.vertices, myMesh1.faces, c=cmap1, s=[2, 2, 0])\n",
    "    mp.subplot(myMesh2.vertices, myMesh2.faces, c=cmap2, s=[2, 2, 1], data=d)\n",
    "\n",
    "def visu(vertices):\n",
    "    min_coord,max_coord = np.min(vertices,axis=0,keepdims=True),np.max(vertices,axis=0,keepdims=True)\n",
    "    cmap = (vertices-min_coord)/(max_coord-min_coord)\n",
    "    return cmap\n",
    "\n",
    "def plot_correspondence_lines(mesh1, mesh2, mesh1_points, mesh2_points):\n",
    "    def plot_mesh_and_lines(mesh, points):\n",
    "        p = mp.plot(mesh1_points, None, c=visu(points))\n",
    "        p.add_mesh(mesh.vertices, mesh.faces, c=visu(mesh.vertices))\n",
    "        p.add_lines(mesh1_points, mesh2_points)\n",
    "    plot_mesh_and_lines(mesh1, mesh2_points)\n",
    "    plot_mesh_and_lines(mesh2, mesh1_points)\n",
    "\n",
    "def merged_plot(mesh1, mesh2, shift=[0.0, 0.0, 0.0]):\n",
    "    d = mp.plot(mesh1.vertices, mesh1.faces)\n",
    "    d.add_mesh(mesh2.vertices + np.array(shift), mesh2.faces, c=np.array([1, 0, 0]))"
   ]
  },
  {
   "attachments": {},
   "cell_type": "markdown",
   "metadata": {},
   "source": [
    "Load meshes"
   ]
  },
  {
   "cell_type": "code",
   "execution_count": 6,
   "metadata": {},
   "outputs": [
    {
     "name": "stderr",
     "output_type": "stream",
     "text": [
      "/home/kolusask/miniconda3/envs/.at3dcv/lib/python3.9/site-packages/traittypes/traittypes.py:97: UserWarning: Given trait value dtype \"float32\" does not match required type \"float64\". A coerced copy has been created.\n",
      "  warnings.warn(\n",
      "/home/kolusask/miniconda3/envs/.at3dcv/lib/python3.9/site-packages/traittypes/traittypes.py:97: UserWarning: Given trait value dtype \"uint32\" does not match required type \"float64\". A coerced copy has been created.\n",
      "  warnings.warn(\n"
     ]
    },
    {
     "data": {
      "application/vnd.jupyter.widget-view+json": {
       "model_id": "473c52d835fd4fc6a9913e787f1ee78e",
       "version_major": 2,
       "version_minor": 0
      },
      "text/plain": [
       "HBox(children=(Output(), Output()))"
      ]
     },
     "metadata": {},
     "output_type": "display_data"
    },
    {
     "data": {
      "application/vnd.jupyter.widget-view+json": {
       "model_id": "75e21a3089a5425da0ab6c95189ba01d",
       "version_major": 2,
       "version_minor": 0
      },
      "text/plain": [
       "HBox(children=(Output(), Output()))"
      ]
     },
     "metadata": {},
     "output_type": "display_data"
    }
   ],
   "source": [
    "ref_mesh = load('data/dataset/YellowToy01/reference.obj')\n",
    "bad_mesh = load('data/dataset/YellowToy01/yellow_push_toy_2.obj')\n",
    "\n",
    "double_plot(ref_mesh, bad_mesh)"
   ]
  },
  {
   "cell_type": "code",
   "execution_count": 7,
   "metadata": {},
   "outputs": [
    {
     "data": {
      "application/vnd.jupyter.widget-view+json": {
       "model_id": "91b12bde1cee4188b05425a67588d6d0",
       "version_major": 2,
       "version_minor": 0
      },
      "text/plain": [
       "Renderer(camera=PerspectiveCamera(children=(DirectionalLight(color='white', intensity=0.6, position=(-0.054015…"
      ]
     },
     "metadata": {},
     "output_type": "display_data"
    }
   ],
   "source": [
    "shift = [0.0, 0.0, 0.0]\n",
    "merged_plot(ref_mesh, bad_mesh, shift)"
   ]
  },
  {
   "attachments": {},
   "cell_type": "markdown",
   "metadata": {},
   "source": [
    "Find `ref_mesh` vertices close to any `bad_mesh` vertices"
   ]
  },
  {
   "cell_type": "code",
   "execution_count": 8,
   "metadata": {},
   "outputs": [],
   "source": [
    "BAD_DIST_THRESHOLD = 0.003\n",
    "PATCH_SIZE = 500\n",
    "\n",
    "\n",
    "# Because processing everything in one sweep kills the kernel\n",
    "def iter_patches(mesh: Trimesh):\n",
    "    for start in range(0, len(mesh.vertices), PATCH_SIZE):\n",
    "        end = min(start + PATCH_SIZE, len(mesh.vertices))\n",
    "        yield start, end, mesh.vertices[start:end]\n",
    "\n",
    "\n",
    "def get_mask_near_mesh(mesh1: Trimesh, mesh2: Trimesh, threshold: float):\n",
    "    used_vertices = np.zeros(len(ref_mesh.vertices), dtype=bool)\n",
    "    for start, end, patch1 in iter_patches(mesh1):\n",
    "        for _, _, patch2 in iter_patches(mesh2):\n",
    "            euc_dist=distance.cdist(patch1, patch2)\n",
    "            used_from_batch = euc_dist.min(axis=1) < threshold\n",
    "            used_vertices[start:end] = np.bitwise_or(used_vertices[start:end], used_from_batch)\n",
    "    \n",
    "    return used_vertices\n",
    "\n",
    "\n",
    "used_v_mask_bad = get_mask_near_mesh(ref_mesh, bad_mesh, BAD_DIST_THRESHOLD)\n"
   ]
  },
  {
   "attachments": {},
   "cell_type": "markdown",
   "metadata": {},
   "source": [
    "Remove `ref_mesh` vertices which are far from any `bad_mesh` vertices"
   ]
  },
  {
   "cell_type": "code",
   "execution_count": 9,
   "metadata": {},
   "outputs": [
    {
     "data": {
      "application/vnd.jupyter.widget-view+json": {
       "model_id": "35dca93cc42f425182686e4e4cdb7886",
       "version_major": 2,
       "version_minor": 0
      },
      "text/plain": [
       "HBox(children=(Output(), Output()))"
      ]
     },
     "metadata": {},
     "output_type": "display_data"
    },
    {
     "data": {
      "application/vnd.jupyter.widget-view+json": {
       "model_id": "b4d0c6e47ebd4d98a600cdd1ccc8a334",
       "version_major": 2,
       "version_minor": 0
      },
      "text/plain": [
       "HBox(children=(Output(), Output()))"
      ]
     },
     "metadata": {},
     "output_type": "display_data"
    }
   ],
   "source": [
    "def get_trimesh_with_mask(src_mesh, vert_mask):\n",
    "    used_f_mask = np.isin(src_mesh.faces, np.where(vert_mask)).sum(axis=1) > 0\n",
    "    return Trimesh(src_mesh.vertices, src_mesh.faces[used_f_mask])\n",
    "\n",
    "\n",
    "ref_mesh_bad = get_trimesh_with_mask(ref_mesh, used_v_mask_bad)\n",
    "double_plot(ref_mesh_bad, bad_mesh)"
   ]
  },
  {
   "attachments": {},
   "cell_type": "markdown",
   "metadata": {},
   "source": [
    "Remove vertices which are far from the `bad_mesh`'s centroid"
   ]
  },
  {
   "cell_type": "code",
   "execution_count": 32,
   "metadata": {},
   "outputs": [
    {
     "data": {
      "application/vnd.jupyter.widget-view+json": {
       "model_id": "5771a1215f0d445b888d98065a20aa41",
       "version_major": 2,
       "version_minor": 0
      },
      "text/plain": [
       "Renderer(camera=PerspectiveCamera(children=(DirectionalLight(color='white', intensity=0.6, position=(-0.054649…"
      ]
     },
     "metadata": {},
     "output_type": "display_data"
    },
    {
     "data": {
      "application/vnd.jupyter.widget-view+json": {
       "model_id": "f7764a36ca7744f5829c4d5f1c477cf2",
       "version_major": 2,
       "version_minor": 0
      },
      "text/plain": [
       "HBox(children=(Output(), Output()))"
      ]
     },
     "metadata": {},
     "output_type": "display_data"
    },
    {
     "data": {
      "application/vnd.jupyter.widget-view+json": {
       "model_id": "3c142abfb21c4cf583c2751d3f3214c0",
       "version_major": 2,
       "version_minor": 0
      },
      "text/plain": [
       "HBox(children=(Output(), Output()))"
      ]
     },
     "metadata": {},
     "output_type": "display_data"
    }
   ],
   "source": [
    "CENTER_THRESHOLD = 0.925\n",
    "\n",
    "def get_mask_near_point(mesh, point, threshold):\n",
    "    used_vertices = np.zeros(len(mesh.vertices), dtype=bool)\n",
    "    for start, end, patch in iter_patches(mesh):\n",
    "        used_from_batch = np.linalg.norm(patch - point) < threshold\n",
    "        used_vertices[start:end] = np.bitwise_or(used_vertices[start:end], used_from_batch)\n",
    "    \n",
    "    return used_vertices\n",
    "\n",
    "# For now, need manual intervention\n",
    "# center = bad_mesh.centroid\n",
    "center = [ref_mesh.vertices[:, 0].mean(), ref_mesh.vertices[:, 1].mean(), ref_mesh.vertices[:, 2].max()]\n",
    "\n",
    "\n",
    "used_v_mask_centroid = get_mask_near_point(ref_mesh, center, CENTER_THRESHOLD)\n",
    "\n",
    "ref_mesh_centroid = get_trimesh_with_mask(ref_mesh, used_v_mask_centroid)\n",
    "center_mark = Sphere(radius=0.001)\n",
    "center_mark.apply_translation(center)\n",
    "p = mp.plot(ref_mesh_centroid.vertices, ref_mesh_centroid.faces)\n",
    "p.add_mesh(center_mark.vertices, center_mark.faces)\n",
    "double_plot(ref_mesh_centroid, bad_mesh)"
   ]
  },
  {
   "attachments": {},
   "cell_type": "markdown",
   "metadata": {},
   "source": [
    "Combine"
   ]
  },
  {
   "cell_type": "code",
   "execution_count": 33,
   "metadata": {},
   "outputs": [
    {
     "data": {
      "application/vnd.jupyter.widget-view+json": {
       "model_id": "d30258dcae3e49a7a872c7a0e0dea3c1",
       "version_major": 2,
       "version_minor": 0
      },
      "text/plain": [
       "HBox(children=(Output(), Output()))"
      ]
     },
     "metadata": {},
     "output_type": "display_data"
    },
    {
     "data": {
      "application/vnd.jupyter.widget-view+json": {
       "model_id": "5ee06db8f39e478e949ad91a60e92567",
       "version_major": 2,
       "version_minor": 0
      },
      "text/plain": [
       "HBox(children=(Output(), Output()))"
      ]
     },
     "metadata": {},
     "output_type": "display_data"
    }
   ],
   "source": [
    "used_v_mask_combined = np.bitwise_or(used_v_mask_bad, used_v_mask_centroid)\n",
    "ref_mesh_combined = get_trimesh_with_mask(ref_mesh, used_v_mask_combined)\n",
    "double_plot(ref_mesh_combined, bad_mesh)"
   ]
  },
  {
   "cell_type": "code",
   "execution_count": 34,
   "metadata": {},
   "outputs": [
    {
     "data": {
      "application/vnd.jupyter.widget-view+json": {
       "model_id": "8c8376c7ab9f4daab65a93c5073255c9",
       "version_major": 2,
       "version_minor": 0
      },
      "text/plain": [
       "Renderer(camera=PerspectiveCamera(children=(DirectionalLight(color='white', intensity=0.6, position=(-0.054015…"
      ]
     },
     "metadata": {},
     "output_type": "display_data"
    }
   ],
   "source": [
    "merged_plot(ref_mesh_combined, bad_mesh)"
   ]
  },
  {
   "attachments": {},
   "cell_type": "markdown",
   "metadata": {},
   "source": [
    "Remove disconnected components"
   ]
  },
  {
   "cell_type": "code",
   "execution_count": 35,
   "metadata": {},
   "outputs": [
    {
     "name": "stdout",
     "output_type": "stream",
     "text": [
      "(31139, 3)\n",
      "(30948, 3)\n"
     ]
    },
    {
     "data": {
      "application/vnd.jupyter.widget-view+json": {
       "model_id": "3e9019a10b814f378e519b571ec604b5",
       "version_major": 2,
       "version_minor": 0
      },
      "text/plain": [
       "HBox(children=(Output(), Output()))"
      ]
     },
     "metadata": {},
     "output_type": "display_data"
    },
    {
     "data": {
      "application/vnd.jupyter.widget-view+json": {
       "model_id": "9d78de75e37b450f9687ef46cc9237f3",
       "version_major": 2,
       "version_minor": 0
      },
      "text/plain": [
       "HBox(children=(Output(), Output()))"
      ]
     },
     "metadata": {},
     "output_type": "display_data"
    }
   ],
   "source": [
    "max_cc = max(graph.connected_components(ref_mesh_combined.face_adjacency), key=len)\n",
    "connected_f_mask = np.zeros(len(ref_mesh_combined.faces), dtype=bool)\n",
    "connected_f_mask[max_cc] = True\n",
    "print(ref_mesh_combined.vertices.shape)\n",
    "ref_mesh_connected = Trimesh(ref_mesh_combined.vertices, ref_mesh_combined.faces[connected_f_mask])\n",
    "print(ref_mesh_connected.vertices.shape)\n",
    "double_plot(ref_mesh_connected, bad_mesh)"
   ]
  },
  {
   "cell_type": "code",
   "execution_count": 36,
   "metadata": {},
   "outputs": [],
   "source": [
    "with open('mesh_paired.obj', 'w') as obj:\n",
    "    obj.write(export_obj(ref_mesh_connected))"
   ]
  },
  {
   "cell_type": "code",
   "execution_count": 11,
   "metadata": {},
   "outputs": [],
   "source": [
    "!mv mesh_paired.obj data/dataset/YellowToy01/yellow_push_toy_1_70000.obj"
   ]
  }
 ],
 "metadata": {
  "kernelspec": {
   "display_name": ".at3dcv",
   "language": "python",
   "name": "python3"
  },
  "language_info": {
   "codemirror_mode": {
    "name": "ipython",
    "version": 3
   },
   "file_extension": ".py",
   "mimetype": "text/x-python",
   "name": "python",
   "nbconvert_exporter": "python",
   "pygments_lexer": "ipython3",
   "version": "3.9.0"
  },
  "orig_nbformat": 4
 },
 "nbformat": 4,
 "nbformat_minor": 2
}

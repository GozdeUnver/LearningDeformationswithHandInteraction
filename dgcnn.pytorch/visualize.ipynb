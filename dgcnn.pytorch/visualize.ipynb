{
 "cells": [
  {
   "cell_type": "code",
   "execution_count": 11,
   "metadata": {},
   "outputs": [],
   "source": [
    "import numpy as np\n",
    "\n",
    "import meshplot as mp\n",
    "\n",
    "from copy import deepcopy\n",
    "\n",
    "import open3d as o3d\n",
    "from open3d.geometry import LineSet\n",
    "from open3d.io import read_point_cloud\n",
    "from open3d.visualization import draw_geometries\n",
    "\n",
    "import pyvista as pv\n",
    "\n",
    "from trimesh import Trimesh\n",
    "\n",
    "def plot_mesh(myMesh,cmap=None):\n",
    "    mp.plot(myMesh.vertices, myMesh.faces,c=cmap)\n",
    "\n",
    "def visualize(pc1, pc2):\n",
    "    o3d.visualization.draw_geometries([pc1, pc2])\n",
    "\n",
    "def copy(pc1, pc2, tr1=None, tr2=None):\n",
    "    tr1 = (0, 0, 0) if tr1 is None else tr1\n",
    "    tr2 = (0, 0, 0) if tr2 is None else tr2\n",
    "    pc1 = deepcopy(pc1).translate(tr1)\n",
    "    pc2 = deepcopy(pc2).translate(tr2)\n",
    "    pc1.colors = o3d.utility.Vector3dVector(np.tile([1, 0, 0], (len(pc1.points), 1)))\n",
    "    pc2.colors = o3d.utility.Vector3dVector(np.tile([0, 0, 1], (len(pc1.points), 1)))\n",
    "    return pc1, pc2\n",
    "\n",
    "def double_plot(pc1: o3d.geometry.PointCloud, pc2: o3d.geometry.PointCloud):\n",
    "    pc1, pc2 = copy(pc1, pc2, (0.06, 0, 0), (0, 0.06, 0)) \n",
    "    visualize(pc1, pc2)\n",
    "\n",
    "def visu(vertices):\n",
    "    min_coord,max_coord = np.min(vertices,axis=0,keepdims=True),np.max(vertices,axis=0,keepdims=True)\n",
    "    cmap = (vertices-min_coord)/(max_coord-min_coord)\n",
    "    return cmap"
   ]
  },
  {
   "cell_type": "code",
   "execution_count": 9,
   "metadata": {},
   "outputs": [],
   "source": [
    "import pandas as pd\n",
    "import os\n",
    "df=pd.read_csv(\"./data/cube_dataset_original.csv\")\n",
    "test_samples=df.loc[df[\"set\"]==\"test\"]\n",
    "nondeformed=test_samples[\"input\"].tolist()\n",
    "deformed=test_samples[\"target\"].tolist()\n",
    "predicted_path=\".\"\n",
    "preds=[ (os.path.join(predicted_path,p),int(p.split(\"/\")[-1].split(\"_\")[0]))for p in os.listdir(predicted_path)]\n",
    "preds.sort(key=lambda x: x[1])"
   ]
  },
  {
   "cell_type": "code",
   "execution_count": 36,
   "metadata": {},
   "outputs": [
    {
     "name": "stdout",
     "output_type": "stream",
     "text": [
      "386\n"
     ]
    },
    {
     "data": {
      "application/vnd.jupyter.widget-view+json": {
       "model_id": "37902baa1d264858bf83b40f35357b52",
       "version_major": 2,
       "version_minor": 0
      },
      "text/plain": [
       "Renderer(camera=PerspectiveCamera(children=(DirectionalLight(color='white', intensity=0.6, position=(0.0077572…"
      ]
     },
     "metadata": {},
     "output_type": "display_data"
    }
   ],
   "source": [
    "num=890\n",
    "pc1 = read_point_cloud(preds[num][0])\n",
    "points = pv.wrap(np.asarray(pc1.points))\n",
    "print(len(pc1.points))\n",
    "surf = points.reconstruct_surface()\n",
    "mesh = Trimesh(surf.points, surf.faces.reshape(-1, 4)[:, 1:])\n",
    "plot_mesh(mesh)"
   ]
  },
  {
   "cell_type": "code",
   "execution_count": 39,
   "metadata": {},
   "outputs": [
    {
     "data": {
      "application/vnd.jupyter.widget-view+json": {
       "model_id": "7cb1fa60fb7d4e55896dab92344b7b1f",
       "version_major": 2,
       "version_minor": 0
      },
      "text/plain": [
       "Renderer(camera=PerspectiveCamera(children=(DirectionalLight(color='white', intensity=0.6, position=(0.0205798…"
      ]
     },
     "metadata": {},
     "output_type": "display_data"
    }
   ],
   "source": [
    "pc3=pv.read(deformed[num])\n",
    "points = pv.wrap(np.asarray(pc3.points))\n",
    "surf = points.reconstruct_surface()\n",
    "mesh = Trimesh(surf.points, surf.faces.reshape(-1, 4)[:,1:])\n",
    "plot_mesh(mesh)"
   ]
  },
  {
   "cell_type": "code",
   "execution_count": 31,
   "metadata": {},
   "outputs": [
    {
     "data": {
      "application/vnd.jupyter.widget-view+json": {
       "model_id": "5a56a8872b98419caf7f95d921b18076",
       "version_major": 2,
       "version_minor": 0
      },
      "text/plain": [
       "Renderer(camera=PerspectiveCamera(children=(DirectionalLight(color='white', intensity=0.6, position=(-0.017112…"
      ]
     },
     "metadata": {},
     "output_type": "display_data"
    }
   ],
   "source": [
    "pc2=pv.read(nondeformed[num])\n",
    "points = pv.wrap(np.asarray(pc2.points))\n",
    "surf = points.reconstruct_surface()\n",
    "mesh = Trimesh(surf.points, surf.faces.reshape(-1, 4)[:, 1:])\n",
    "plot_mesh(mesh)"
   ]
  },
  {
   "cell_type": "code",
   "execution_count": null,
   "metadata": {},
   "outputs": [],
   "source": []
  }
 ],
 "metadata": {
  "kernelspec": {
   "display_name": ".at3dcv",
   "language": "python",
   "name": "python3"
  },
  "language_info": {
   "codemirror_mode": {
    "name": "ipython",
    "version": 3
   },
   "file_extension": ".py",
   "mimetype": "text/x-python",
   "name": "python",
   "nbconvert_exporter": "python",
   "pygments_lexer": "ipython3",
   "version": "3.10.0"
  },
  "orig_nbformat": 4
 },
 "nbformat": 4,
 "nbformat_minor": 2
}

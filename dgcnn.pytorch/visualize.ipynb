{
 "cells": [
  {
   "cell_type": "code",
   "execution_count": 3,
   "metadata": {},
   "outputs": [],
   "source": [
    "import numpy as np\n",
    "\n",
    "import meshplot as mp\n",
    "\n",
    "from copy import deepcopy\n",
    "\n",
    "import open3d as o3d\n",
    "from open3d.geometry import LineSet\n",
    "from open3d.io import read_point_cloud\n",
    "from open3d.visualization import draw_geometries\n",
    "\n",
    "import pyvista as pv\n",
    "\n",
    "from trimesh import Trimesh\n",
    "\n",
    "def plot_mesh(myMesh,cmap=None):\n",
    "    mp.plot(myMesh.vertices, myMesh.faces,c=cmap)\n",
    "\n",
    "def visualize(pc1, pc2):\n",
    "    o3d.visualization.draw_geometries([pc1, pc2])\n",
    "\n",
    "def copy(pc1, pc2, tr1=None, tr2=None):\n",
    "    tr1 = (0, 0, 0) if tr1 is None else tr1\n",
    "    tr2 = (0, 0, 0) if tr2 is None else tr2\n",
    "    pc1 = deepcopy(pc1).translate(tr1)\n",
    "    pc2 = deepcopy(pc2).translate(tr2)\n",
    "    pc1.colors = o3d.utility.Vector3dVector(np.tile([1, 0, 0], (len(pc1.points), 1)))\n",
    "    pc2.colors = o3d.utility.Vector3dVector(np.tile([0, 0, 1], (len(pc1.points), 1)))\n",
    "    return pc1, pc2\n",
    "\n",
    "def double_plot(pc1: o3d.geometry.PointCloud, pc2: o3d.geometry.PointCloud):\n",
    "    pc1, pc2 = copy(pc1, pc2, (0.06, 0, 0), (0, 0.06, 0)) \n",
    "    visualize(pc1, pc2)\n",
    "\n",
    "def visu(vertices):\n",
    "    min_coord,max_coord = np.min(vertices,axis=0,keepdims=True),np.max(vertices,axis=0,keepdims=True)\n",
    "    cmap = (vertices-min_coord)/(max_coord-min_coord)\n",
    "    return cmap"
   ]
  },
  {
   "cell_type": "code",
   "execution_count": 118,
   "metadata": {},
   "outputs": [],
   "source": [
    "import pandas as pd\n",
    "import os\n",
    "df=pd.read_csv(\"./data/cube_dataset_original.csv\")\n",
    "test_samples=df.loc[df[\"set\"]==\"test\"]\n",
    "nondeformed=test_samples[\"input\"].tolist()\n",
    "deformed=test_samples[\"target\"].tolist()\n",
    "predicted_path=\".\"\n",
    "preds=[ (os.path.join(predicted_path,p),int(p.split(\"/\")[-1].split(\"_\")[0]))for p in os.listdir(predicted_path)]\n",
    "preds.sort(key=lambda x: x[1])"
   ]
  },
  {
   "cell_type": "code",
   "execution_count": 122,
   "metadata": {},
   "outputs": [],
   "source": [
    "for i in range(len(deformed)):\n",
    "    data_path=deformed[i].split(\"/\")\n",
    "    data_dir=data_path[-2]\n",
    "    file_name=data_path[-1]\n",
    "    \n",
    "    if not os.path.exists(os.path.join(\"predictions\",data_dir)):\n",
    "        os.makedirs(os.path.join(\"predictions\",data_dir))\n",
    "        os.makedirs(os.path.join(\"predictions\",data_dir,\"nondeformed\"))\n",
    "        os.makedirs(os.path.join(\"predictions\",data_dir,\"deformed\"))\n",
    "        os.makedirs(os.path.join(\"predictions\",data_dir,\"predicted\"))\n",
    "        mesh = o3d.io.read_triangle_mesh(nondeformed[i])\n",
    "        mesh = o3d.geometry.TriangleMesh.compute_triangle_normals(mesh)\n",
    "        o3d.io.write_triangle_mesh(os.path.join(\"predictions\",data_dir,\"nondeformed\",\"0.stl\"), mesh)\n",
    "    mesh = o3d.io.read_triangle_mesh(deformed[i])\n",
    "    mesh = o3d.geometry.TriangleMesh.compute_triangle_normals(mesh)\n",
    "    \n",
    "    o3d.io.write_triangle_mesh(os.path.join(\"predictions\",data_dir,\"deformed\",file_name), mesh)\n",
    "\n",
    "    \n",
    "    mesh.remove_duplicated_vertices()\n",
    "    pc = o3d.io.read_point_cloud(preds[i][0])\n",
    "    mesh.vertices = pc.points\n",
    "    mesh_new = o3d.geometry.TriangleMesh.compute_triangle_normals(mesh)\n",
    "    o3d.io.write_triangle_mesh(os.path.join(\"predictions\",data_dir,\"predicted\",file_name), mesh_new)\n",
    "    \n"
   ]
  },
  {
   "cell_type": "code",
   "execution_count": null,
   "metadata": {},
   "outputs": [],
   "source": []
  }
 ],
 "metadata": {
  "kernelspec": {
   "display_name": ".at3dcv",
   "language": "python",
   "name": "python3"
  },
  "language_info": {
   "codemirror_mode": {
    "name": "ipython",
    "version": 3
   },
   "file_extension": ".py",
   "mimetype": "text/x-python",
   "name": "python",
   "nbconvert_exporter": "python",
   "pygments_lexer": "ipython3",
   "version": "3.10.0"
  },
  "orig_nbformat": 4
 },
 "nbformat": 4,
 "nbformat_minor": 2
}

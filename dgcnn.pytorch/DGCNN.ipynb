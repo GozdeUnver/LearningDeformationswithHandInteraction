{
  "cells": [
    {
      "cell_type": "code",
      "execution_count": null,
      "metadata": {
        "colab": {
          "base_uri": "https://localhost:8080/"
        },
        "id": "6Lv7iCv1jHix",
        "outputId": "5126e84e-2f6b-4c68-fbc1-12d1668b761b"
      },
      "outputs": [
        {
          "name": "stdout",
          "output_type": "stream",
          "text": [
            "⏬ Downloading https://github.com/conda-forge/miniforge/releases/download/23.1.0-1/Mambaforge-23.1.0-1-Linux-x86_64.sh...\n",
            "📦 Installing...\n",
            "📌 Adjusting configuration...\n",
            "🩹 Patching environment...\n",
            "⏲ Done in 0:00:18\n",
            "🔁 Restarting kernel...\n"
          ]
        }
      ],
      "source": [
        "!pip install -q condacolab\n",
        "import condacolab\n",
        "condacolab.install()"
      ]
    },
    {
      "cell_type": "code",
      "execution_count": 2,
      "metadata": {
        "colab": {
          "base_uri": "https://localhost:8080/"
        },
        "id": "GiQ4AAl4PAwb",
        "outputId": "a0fb4475-2c6b-43f8-d0d3-fa55dc623380"
      },
      "outputs": [
        {
          "name": "stdout",
          "output_type": "stream",
          "text": [
            "Archive:  /content/drive/MyDrive/dgcnn.pytorch/data/cube_original.zip\n",
            "  End-of-central-directory signature not found.  Either this file is not\n",
            "  a zipfile, or it constitutes one disk of a multi-part archive.  In the\n",
            "  latter case the central directory and zipfile comment will be found on\n",
            "  the last disk(s) of this archive.\n",
            "unzip:  cannot find zipfile directory in one of /content/drive/MyDrive/dgcnn.pytorch/data/cube_original.zip or\n",
            "        /content/drive/MyDrive/dgcnn.pytorch/data/cube_original.zip.zip, and cannot find /content/drive/MyDrive/dgcnn.pytorch/data/cube_original.zip.ZIP, period.\n"
          ]
        }
      ],
      "source": [
        "#!unzip /content/drive/MyDrive/dgcnn.pytorch/data/cube_original.zip -d /content/drive/MyDrive/dgcnn.pytorch/data"
      ]
    },
    {
      "cell_type": "code",
      "execution_count": null,
      "metadata": {
        "colab": {
          "base_uri": "https://localhost:8080/"
        },
        "id": "Lj2qPoukjWfa",
        "outputId": "dbff303b-af68-4848-9de2-1ed9ed297535"
      },
      "outputs": [
        {
          "name": "stdout",
          "output_type": "stream",
          "text": [
            "Drive already mounted at /content/drive; to attempt to forcibly remount, call drive.mount(\"/content/drive\", force_remount=True).\n"
          ]
        }
      ],
      "source": [
        "from google.colab import drive\n",
        "drive.mount(\"/content/drive\")"
      ]
    },
    {
      "cell_type": "code",
      "execution_count": null,
      "metadata": {
        "collapsed": true,
        "id": "FQU_HvIviImF"
      },
      "outputs": [],
      "source": [
        "!conda install -c conda-forge trimesh -y\n",
        "!conda install -c anaconda h5py -y\n",
        "!conda install -c conda-forge plyfile -y\n",
        "!conda install -c anaconda scikit-learn -y\n",
        "!conda install pytorch torchvision -c pytorch -y\n",
        "!conda install -c conda-forge glob2 -y\n",
        "!conda install -c conda-forge torch-scatter -y\n",
        "!conda install -c conda-forge opencv -y\n",
        "!pip install open3d\n",
        "!pip install tensorboard\n",
        "!pip install pyvista\n",
        "!pip install torch==1.11.0+cu113 torchvision==0.12.0+cu113 torchaudio===0.11.0+cu113 -f https://download.pytorch.org/whl/cu113/torch_stable.html"
      ]
    },
    {
      "cell_type": "code",
      "execution_count": null,
      "metadata": {
        "id": "yjFZKCF6hcQR"
      },
      "outputs": [],
      "source": [
        "import sys\n",
        "import os\n",
        "import torch\n",
        "print(torch.cuda.is_available())\n",
        "\n",
        "if sys.platform.startswith(\"linux\"):\n",
        "    # We try to install PyTorch3D via a released wheel.\n",
        "    pyt_version_str=torch.__version__.split(\"+\")[0].replace(\".\", \"\")\n",
        "    version_str=\"\".join([\n",
        "        f\"py3{sys.version_info.minor}_cu\",\n",
        "        torch.version.cuda.replace(\".\",\"\"),\n",
        "        f\"_pyt{pyt_version_str}\"\n",
        "    ])\n",
        "    !pip install pytorch3d -f https://dl.fbaipublicfiles.com/pytorch3d/packaging/wheels/{version_str}/download.html\n",
        "else:\n",
        "    # We try to install PyTorch3D from source.\n",
        "    !curl -LO https://github.com/NVIDIA/cub/archive/1.10.0.tar.gz\n",
        "    !tar xzf 1.10.0.tar.gz\n",
        "    os.environ[\"CUB_HOME\"] = os.getcwd() + \"/cub-1.10.0\"\n",
        "    !pip install 'git+https://github.com/facebookresearch/pytorch3d.git@stable'"
      ]
    },
    {
      "cell_type": "markdown",
      "metadata": {
        "id": "jVZk_H1PiImG"
      },
      "source": [
        "### Run model"
      ]
    },
    {
      "cell_type": "code",
      "execution_count": 1,
      "metadata": {
        "colab": {
          "base_uri": "https://localhost:8080/"
        },
        "id": "sOocEoKXiImI",
        "outputId": "395f1290-f352-4e21-f1b7-c03a57f01330"
      },
      "outputs": [
        {
          "name": "stdout",
          "output_type": "stream",
          "text": [
            "/content/drive/MyDrive/dgcnn.pytorch\n"
          ]
        }
      ],
      "source": [
        "%cd /content/drive/MyDrive/dgcnn.pytorch"
      ]
    },
    {
      "cell_type": "code",
      "execution_count": null,
      "metadata": {
        "id": "WPwW30d3b1-j"
      },
      "outputs": [],
      "source": [
        "# code from: https://github.com/AnTao97/dgcnn.pytorch#point-cloud-part-segmentation\n",
        "!python3 main_partseg.py --batch_size=64 --exp_name=newcube_400_l1 --epochs=400 --dgcnn_pretrained_model_path=\"/content/drive/MyDrive/dgcnn.pytorch/pretrained/model.partseg.t7\""
      ]
    },
    {
      "cell_type": "markdown",
      "metadata": {
        "id": "mg4NWE_M9_k8"
      },
      "source": [
        "### Test"
      ]
    },
    {
      "cell_type": "code",
      "execution_count": null,
      "metadata": {
        "id": "m6sYc-iI72Gi"
      },
      "outputs": [],
      "source": [
        "!python3 main_partseg.py --test_batch_size=1 --dgcnn_pretrained_model_path=\"./pretrained/model.partseg.t7\" --exp_name=newcube_400_l1 --eval=True  --model_path=\"./outputs/newcube_400_l1/models/model_375.t7\" --predicted_pc=\"./outputs/newcube_400_l1/predicted_pointclouds\""
      ]
    }
  ],
  "metadata": {
    "accelerator": "GPU",
    "colab": {
      "gpuType": "T4",
      "provenance": []
    },
    "kernelspec": {
      "display_name": "Python [conda env:root] *",
      "language": "python",
      "name": "conda-root-py"
    },
    "language_info": {
      "codemirror_mode": {
        "name": "ipython",
        "version": 3
      },
      "file_extension": ".py",
      "mimetype": "text/x-python",
      "name": "python",
      "nbconvert_exporter": "python",
      "pygments_lexer": "ipython3",
      "version": "3.10.10"
    }
  },
  "nbformat": 4,
  "nbformat_minor": 0
}

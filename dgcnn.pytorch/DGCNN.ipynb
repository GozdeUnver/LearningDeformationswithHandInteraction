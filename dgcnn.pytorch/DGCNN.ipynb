{
  "cells": [
    {
      "cell_type": "code",
      "source": [
        "\"\"\"!pip install -q condacolab\n",
        "import condacolab\n",
        "condacolab.install()\"\"\""
      ],
      "metadata": {
        "colab": {
          "base_uri": "https://localhost:8080/"
        },
        "id": "6Lv7iCv1jHix",
        "outputId": "6ac266f9-3d1c-4d06-f7e1-170cff87ed4b"
      },
      "execution_count": 1,
      "outputs": [
        {
          "output_type": "stream",
          "name": "stdout",
          "text": [
            "⏬ Downloading https://github.com/conda-forge/miniforge/releases/download/23.1.0-1/Mambaforge-23.1.0-1-Linux-x86_64.sh...\n",
            "📦 Installing...\n",
            "📌 Adjusting configuration...\n",
            "🩹 Patching environment...\n",
            "⏲ Done in 0:00:14\n",
            "🔁 Restarting kernel...\n"
          ]
        }
      ]
    },
    {
      "cell_type": "code",
      "source": [
        "\"\"\"from google.colab import drive\n",
        "drive.mount(\"/content/drive\")\"\"\""
      ],
      "metadata": {
        "colab": {
          "base_uri": "https://localhost:8080/"
        },
        "id": "Lj2qPoukjWfa",
        "outputId": "d68eaffd-1cd4-4380-d3ee-bd029e4a7e99"
      },
      "execution_count": 1,
      "outputs": [
        {
          "output_type": "stream",
          "name": "stdout",
          "text": [
            "Mounted at /content/drive\n"
          ]
        }
      ]
    },
    {
      "cell_type": "code",
      "execution_count": null,
      "metadata": {
        "collapsed": true,
        "id": "FQU_HvIviImF"
      },
      "outputs": [],
      "source": [
        "!conda install -c conda-forge trimesh -y\n",
        "!conda install -c anaconda h5py -y\n",
        "!conda install -c conda-forge plyfile -y\n",
        "!conda install -c anaconda scikit-learn -y\n",
        "!conda install pytorch torchvision -c pytorch -y\n",
        "!conda install -c conda-forge glob2 -y\n",
        "!conda install -c conda-forge torch-scatter -y\n",
        "!conda install -c conda-forge opencv -y\n",
        "!pip install open3d\n",
        "!conda install -c \"conda-forge/label/cf202003\" pyvista -y\n",
        "!pip install torch==1.11.0+cu113 torchvision==0.12.0+cu113 torchaudio===0.11.0+cu113 -f https://download.pytorch.org/whl/cu113/torch_stable.html"
      ]
    },
    {
      "cell_type": "code",
      "source": [
        "import sys\n",
        "import os\n",
        "import torch\n",
        "print(torch.cuda.is_available())\n",
        "\n",
        "if sys.platform.startswith(\"linux\"):\n",
        "    # We try to install PyTorch3D via a released wheel.\n",
        "    pyt_version_str=torch.__version__.split(\"+\")[0].replace(\".\", \"\")\n",
        "    version_str=\"\".join([\n",
        "        f\"py3{sys.version_info.minor}_cu\",\n",
        "        torch.version.cuda.replace(\".\",\"\"),\n",
        "        f\"_pyt{pyt_version_str}\"\n",
        "    ])\n",
        "    !pip install pytorch3d -f https://dl.fbaipublicfiles.com/pytorch3d/packaging/wheels/{version_str}/download.html\n",
        "else:\n",
        "    # We try to install PyTorch3D from source.\n",
        "    !curl -LO https://github.com/NVIDIA/cub/archive/1.10.0.tar.gz\n",
        "    !tar xzf 1.10.0.tar.gz\n",
        "    os.environ[\"CUB_HOME\"] = os.getcwd() + \"/cub-1.10.0\"\n",
        "    !pip install 'git+https://github.com/facebookresearch/pytorch3d.git@stable'"
      ],
      "metadata": {
        "id": "yjFZKCF6hcQR"
      },
      "execution_count": null,
      "outputs": []
    },
    {
      "cell_type": "code",
      "source": [
        "#!pip install torch==1.11.0+cu113 torchvision==0.12.0+cu113 torchaudio===0.11.0+cu113 -f https://download.pytorch.org/whl/cu113/torch_stable.html"
      ],
      "metadata": {
        "id": "wfnlG2o7sXby"
      },
      "execution_count": null,
      "outputs": []
    },
    {
      "cell_type": "markdown",
      "metadata": {
        "id": "jVZk_H1PiImG"
      },
      "source": [
        "### Run model"
      ]
    },
    {
      "cell_type": "code",
      "execution_count": 4,
      "metadata": {
        "colab": {
          "base_uri": "https://localhost:8080/"
        },
        "id": "sOocEoKXiImI",
        "outputId": "efeeb645-7996-48ef-dd5b-ba13f3f7b432"
      },
      "outputs": [
        {
          "output_type": "stream",
          "name": "stdout",
          "text": [
            "/content/drive/MyDrive/dgcnn.pytorch\n"
          ]
        }
      ],
      "source": [
        "%cd /content/drive/MyDrive/dgcnn.pytorch"
      ]
    },
    {
      "cell_type": "code",
      "execution_count": null,
      "metadata": {
        "id": "WPwW30d3b1-j"
      },
      "outputs": [],
      "source": [
        "# code from: https://github.com/AnTao97/dgcnn.pytorch#point-cloud-part-segmentation\n",
        "!python3 main_partseg.py --batch_size=2 --exp_name=cube_1000_l1_rotation --epochs=1000 --dgcnn_pretrained_model_path=\"/content/drive/MyDrive/dgcnn.pytorch/pretrained/model.partseg.t7\""
      ]
    },
    {
      "cell_type": "markdown",
      "source": [
        "### Test"
      ],
      "metadata": {
        "id": "mg4NWE_M9_k8"
      }
    },
    {
      "cell_type": "code",
      "source": [
        "!python3 main_partseg.py --test_batch_size=1 --dgcnn_pretrained_model_path=\"./pretrained/model.partseg.t7\" --exp_name=cube_1000_l1_rotation --eval=True  --model_path=\"./outputs/cube_1000_l1_rotation/models/model_final.t7\" --predicted_pc=\"./outputs/cube_1000_l1_rotation/predicted_pointclouds\""
      ],
      "metadata": {
        "id": "m6sYc-iI72Gi"
      },
      "execution_count": null,
      "outputs": []
    }
  ],
  "metadata": {
    "accelerator": "GPU",
    "colab": {
      "gpuType": "T4",
      "provenance": []
    },
    "kernelspec": {
      "display_name": "Python [conda env:root] *",
      "language": "python",
      "name": "conda-root-py"
    },
    "language_info": {
      "codemirror_mode": {
        "name": "ipython",
        "version": 3
      },
      "file_extension": ".py",
      "mimetype": "text/x-python",
      "name": "python",
      "nbconvert_exporter": "python",
      "pygments_lexer": "ipython3",
      "version": "3.10.10"
    }
  },
  "nbformat": 4,
  "nbformat_minor": 0
}
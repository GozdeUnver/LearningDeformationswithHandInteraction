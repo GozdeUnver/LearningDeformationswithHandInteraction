{
 "cells": [
  {
   "cell_type": "code",
   "execution_count": 1,
   "metadata": {},
   "outputs": [
    {
     "name": "stdout",
     "output_type": "stream",
     "text": [
      "Cloning into 'pyfm_repo'...\n",
      "remote: Enumerating objects: 512, done.\u001b[K\n",
      "remote: Counting objects: 100% (76/76), done.\u001b[K\n",
      "remote: Compressing objects: 100% (26/26), done.\u001b[K\n",
      "remote: Total 512 (delta 59), reused 56 (delta 50), pack-reused 436\u001b[K\n",
      "Receiving objects: 100% (512/512), 942.38 KiB | 8.89 MiB/s, done.\n",
      "Resolving deltas: 100% (324/324), done.\n",
      "mv: rename pyfm_repo/pyFM to ./pyFM: Directory not empty\n"
     ]
    }
   ],
   "source": [
    "# Clone PyFM\n",
    "!git clone https://github.com/RobinMagnet/pyFM.git pyfm_repo\n",
    "!mv pyfm_repo/pyFM .\n",
    "!rm -rf pyfm_repo"
   ]
  },
  {
   "attachments": {},
   "cell_type": "markdown",
   "metadata": {},
   "source": [
    "\n",
    "# 1 - Imports and defining functions"
   ]
  },
  {
   "cell_type": "code",
   "execution_count": 2,
   "metadata": {},
   "outputs": [],
   "source": [
    "import numpy as np\n",
    "\n",
    "from pyFM.mesh import TriMesh\n",
    "from pyFM.functional import FunctionalMapping\n",
    "\n",
    "import meshplot as mp\n",
    "\n",
    "def plot_mesh(myMesh,cmap=None):\n",
    "    mp.plot(myMesh.vertlist, myMesh.facelist,c=cmap)\n",
    "    \n",
    "def double_plot(myMesh1,myMesh2,cmap1=None,cmap2=None):\n",
    "    d = mp.subplot(myMesh1.vertlist, myMesh1.facelist, c=cmap1, s=[2, 2, 0])\n",
    "    mp.subplot(myMesh2.vertlist, myMesh2.facelist, c=cmap2, s=[2, 2, 1], data=d)\n",
    "\n",
    "def visu(vertices):\n",
    "    min_coord,max_coord = np.min(vertices,axis=0,keepdims=True),np.max(vertices,axis=0,keepdims=True)\n",
    "    cmap = (vertices-min_coord)/(max_coord-min_coord)\n",
    "    return cmap"
   ]
  },
  {
   "attachments": {},
   "cell_type": "markdown",
   "metadata": {},
   "source": [
    "# 2 - Computing the functional map"
   ]
  },
  {
   "attachments": {},
   "cell_type": "markdown",
   "metadata": {},
   "source": [
    "**Loading data**"
   ]
  },
  {
   "cell_type": "code",
   "execution_count": 16,
   "metadata": {},
   "outputs": [
    {
     "name": "stdout",
     "output_type": "stream",
     "text": [
      "Mesh 1 : 36903 vertices, 69999 faces\n",
      "Mesh 2 : 35002 vertices, 70000 faces\n"
     ]
    },
    {
     "data": {
      "application/vnd.jupyter.widget-view+json": {
       "model_id": "7bab47960cd24b208241c78638382876",
       "version_major": 2,
       "version_minor": 0
      },
      "text/plain": [
       "HBox(children=(Output(), Output()))"
      ]
     },
     "metadata": {},
     "output_type": "display_data"
    },
    {
     "data": {
      "application/vnd.jupyter.widget-view+json": {
       "model_id": "46e68757eec14dc49a392e7532640fe1",
       "version_major": 2,
       "version_minor": 0
      },
      "text/plain": [
       "HBox(children=(Output(), Output()))"
      ]
     },
     "metadata": {},
     "output_type": "display_data"
    }
   ],
   "source": [
    "num=6\n",
    "mesh2 = TriMesh('data/dataset/BlueToy02/push_toy_1_70000.obj')\n",
    "mesh1 = TriMesh(\"data/dataset/BlueToy02/push_toy_\"+str(num)+\"_70000.obj\")\n",
    "print(f'Mesh 1 : {mesh1.n_vertices:4d} vertices, {mesh1.n_faces:5d} faces\\n'\n",
    "      f'Mesh 2 : {mesh2.n_vertices:4d} vertices, {mesh2.n_faces:5d} faces')\n",
    "\n",
    "double_plot(mesh1,mesh2)"
   ]
  },
  {
   "cell_type": "code",
   "execution_count": 4,
   "metadata": {},
   "outputs": [
    {
     "name": "stdout",
     "output_type": "stream",
     "text": [
      "[ 8465  5189 18285 16762  3130 16057 34914 20767  4060 24367 22302 11130\n",
      " 36760 16432  4812  3957 36493 14684  4821  1179]\n"
     ]
    }
   ],
   "source": [
    "from scipy.spatial import distance\n",
    "import numpy as np\n",
    "rand_idx=np.random.permutation(mesh1.vertlist.shape[0])[:20]\n",
    "print(rand_idx)\n",
    "euc_dist=distance.cdist(mesh1.vertlist[rand_idx],mesh2.vertlist)"
   ]
  },
  {
   "cell_type": "code",
   "execution_count": 5,
   "metadata": {},
   "outputs": [],
   "source": [
    "temp=np.argmin(euc_dist, axis=1)"
   ]
  },
  {
   "cell_type": "code",
   "execution_count": 6,
   "metadata": {},
   "outputs": [],
   "source": [
    "# Manually change the landmark file name\n",
    "with open(\"data/blue_toy_1-\"+str(num)+\"_landmarks_deformed_and_non.txt\", 'w+') as fp:\n",
    "    \n",
    "    for i in range(temp.shape[0]):\n",
    "        fp.write(str(rand_idx[i])+\" \"+str(temp[i])+\"\\n\")\n",
    "\n",
    "with open(\"data/blue_toy_1-\"+str(num)+\"_landmarks_non_and_deformed.txt\", 'w+') as fp:\n",
    "    \n",
    "    for i in range(temp.shape[0]):\n",
    "        fp.write(str(temp[i])+\" \"+str(rand_idx[i])+\"\\n\")\n"
   ]
  },
  {
   "attachments": {},
   "cell_type": "markdown",
   "metadata": {},
   "source": [
    "**Computing descriptors**"
   ]
  },
  {
   "cell_type": "code",
   "execution_count": 8,
   "metadata": {},
   "outputs": [
    {
     "name": "stdout",
     "output_type": "stream",
     "text": [
      "\n",
      "Computing Laplacian spectrum\n",
      "Computing 200 eigenvectors\n",
      "\tDone in 12.55 s\n",
      "Computing 200 eigenvectors\n",
      "\tDone in 14.00 s\n",
      "\n",
      "Computing descriptors\n",
      "\tNormalizing descriptors\n",
      "\n",
      "\t420 out of 2100 possible descriptors kept\n"
     ]
    }
   ],
   "source": [
    "process_params = {\n",
    "    'n_ev': (35,35),  # Number of eigenvalues on source and Target\n",
    "    'landmarks': np.loadtxt(\"data/blue_toy_1-\"+str(num)+\"_landmarks_deformed_and_non.txt\",dtype=int),  # loading 10 landmarks\n",
    "    'subsample_step': 5,  # In order not to use too many descriptors\n",
    "    'descr_type': 'WKS',  # WKS or HKS\n",
    "}\n",
    "\n",
    "model = FunctionalMapping(mesh1,mesh2)\n",
    "model.preprocess(**process_params,verbose=True);"
   ]
  },
  {
   "attachments": {},
   "cell_type": "markdown",
   "metadata": {},
   "source": [
    "**Fitting the model**"
   ]
  },
  {
   "attachments": {},
   "cell_type": "markdown",
   "metadata": {},
   "source": [
    "$\\newcommand{\\RR}{\\mathbb{R}}$\n",
    "$\\newcommand{\\Ss}{\\mathcal{S}}$\n",
    "$\\newcommand{\\uargmin}[1]{\\underset{#1}{\\text{argmin}}\\;}$\n",
    "$\\newcommand{\\uargmax}[1]{\\underset{#1}{\\text{argmax}}\\;}$\n",
    "$\\def\\*#1{\\mathbf{#1}}$\n",
    "\n",
    "In pyFM, we always consider functional maps $\\*C:\\Ss_1\\to\\Ss_2$ and pointwise maps $T:\\Ss_2\\to\\Ss_1$ going in opposite directions, with $\\*C$ always going from shape 1 to shape 2 !\n",
    "\n",
    "Optimization problem is\n",
    "\\begin{equation}\n",
    "\\uargmin{\\*C\\in\\RR^{k_2\\times k_1}} w_{descr}\\|\\*C\\*A - \\*B\\|^2 + w_{lap}\\|\\*C\\Delta_1 - \\Delta_2\\*C\\|^2 + w_{\\text{d- comm}}\\sum_i \\|\\*C\\Gamma_1^i - \\Gamma_2^i\\*C\\|^2 + w_{\\text{orient}}\\sum_i \\|\\*C\\Lambda_1^i - \\Lambda_2^i\\*C\\|^2\n",
    "\\end{equation}\n",
    "\n",
    "with $\\Gamma_1^i$ and $\\Gamma_2^i$ [multipliative operators](http://www.lix.polytechnique.fr/~maks/papers/fundescEG17.pdf) associated to the $i$-th descriptors, $\\Lambda_1^i$ and $\\Lambda_2^i$ [orientation preserving operators](https://arxiv.org/abs/1806.04455) associated to the $i$-th descriptors"
   ]
  },
  {
   "cell_type": "code",
   "execution_count": 9,
   "metadata": {},
   "outputs": [
    {
     "name": "stdout",
     "output_type": "stream",
     "text": [
      "Computing commutativity operators\n",
      "\tScaling LBO commutativity weight by 1.5e-11\n",
      "\n",
      "Optimization :\n",
      "\t35 Ev on source - 35 Ev on Target\n",
      "\tUsing 420 Descriptors\n",
      "\tHyperparameters :\n",
      "\t\tDescriptors preservation :1.0e+00\n",
      "\t\tDescriptors commutativity :1.0e-01\n",
      "\t\tLaplacian commutativity :1.0e-02\n",
      "\t\tOrientation preservation :0.0e+00\n",
      "\n",
      "\tTask : CONVERGENCE: REL_REDUCTION_OF_F_<=_FACTR*EPSMCH, funcall : 18, nit : 15, warnflag : 0\n",
      "\tDone in 0.80 seconds\n"
     ]
    }
   ],
   "source": [
    "fit_params = {\n",
    "    'w_descr': 1e0,\n",
    "    'w_lap': 1e-2,\n",
    "    'w_dcomm': 1e-1,\n",
    "    'w_orient': 0\n",
    "}\n",
    "\n",
    "\n",
    "\n",
    "model.fit(**fit_params, verbose=True)"
   ]
  },
  {
   "attachments": {},
   "cell_type": "markdown",
   "metadata": {},
   "source": [
    "**Visualizing the associated point to point map**"
   ]
  },
  {
   "cell_type": "code",
   "execution_count": 10,
   "metadata": {
    "scrolled": false
   },
   "outputs": [
    {
     "data": {
      "application/vnd.jupyter.widget-view+json": {
       "model_id": "b51d13f12049419ea1d76b1001ed5124",
       "version_major": 2,
       "version_minor": 0
      },
      "text/plain": [
       "HBox(children=(Output(), Output()))"
      ]
     },
     "metadata": {},
     "output_type": "display_data"
    },
    {
     "data": {
      "application/vnd.jupyter.widget-view+json": {
       "model_id": "23d2ff201cfe4bd5a7601572e40e3aec",
       "version_major": 2,
       "version_minor": 0
      },
      "text/plain": [
       "HBox(children=(Output(), Output()))"
      ]
     },
     "metadata": {},
     "output_type": "display_data"
    }
   ],
   "source": [
    "p2p_21 = model.get_p2p(n_jobs=1)\n",
    "cmap1 = visu(mesh1.vertlist); cmap2 = cmap1[p2p_21]\n",
    "double_plot(mesh1,mesh2,cmap1,cmap2)"
   ]
  },
  {
   "attachments": {},
   "cell_type": "markdown",
   "metadata": {},
   "source": [
    "# 3 - Refining the Functional Map\n",
    "```model.FM``` returns the current state of functional map. One can change which one is returned by using ```model.change_FM_type(FM_type)```, as one can see below. \n",
    "\n",
    "**ICP**"
   ]
  },
  {
   "cell_type": "code",
   "execution_count": 11,
   "metadata": {},
   "outputs": [
    {
     "data": {
      "application/vnd.jupyter.widget-view+json": {
       "model_id": "7452dd0c335d49c4a5e1b3dd43938b7b",
       "version_major": 2,
       "version_minor": 0
      },
      "text/plain": [
       "  0%|          | 0/10 [00:00<?, ?it/s]"
      ]
     },
     "metadata": {},
     "output_type": "display_data"
    },
    {
     "data": {
      "application/vnd.jupyter.widget-view+json": {
       "model_id": "53b19de04af945f69b399344f784e2bc",
       "version_major": 2,
       "version_minor": 0
      },
      "text/plain": [
       "HBox(children=(Output(), Output()))"
      ]
     },
     "metadata": {},
     "output_type": "display_data"
    },
    {
     "data": {
      "application/vnd.jupyter.widget-view+json": {
       "model_id": "dab7d0ed9e8040269e327d9f809dd193",
       "version_major": 2,
       "version_minor": 0
      },
      "text/plain": [
       "HBox(children=(Output(), Output()))"
      ]
     },
     "metadata": {},
     "output_type": "display_data"
    }
   ],
   "source": [
    "model.icp_refine(verbose=True)\n",
    "p2p_21_icp = model.get_p2p()\n",
    "cmap1 = visu(mesh1.vertlist); cmap2 = cmap1[p2p_21_icp]\n",
    "double_plot(mesh1,mesh2,cmap1,cmap2)"
   ]
  },
  {
   "attachments": {},
   "cell_type": "markdown",
   "metadata": {},
   "source": [
    "**Zoomout**"
   ]
  },
  {
   "cell_type": "code",
   "execution_count": 12,
   "metadata": {
    "scrolled": false
   },
   "outputs": [
    {
     "data": {
      "application/vnd.jupyter.widget-view+json": {
       "model_id": "2145fd639d4d4990889ba9e502aa068a",
       "version_major": 2,
       "version_minor": 0
      },
      "text/plain": [
       "  0%|          | 0/15 [00:00<?, ?it/s]"
      ]
     },
     "metadata": {},
     "output_type": "display_data"
    },
    {
     "name": "stdout",
     "output_type": "stream",
     "text": [
      "(50, 50)\n"
     ]
    },
    {
     "data": {
      "application/vnd.jupyter.widget-view+json": {
       "model_id": "3029d145bebe4b9b840950d5ff3a3855",
       "version_major": 2,
       "version_minor": 0
      },
      "text/plain": [
       "HBox(children=(Output(), Output()))"
      ]
     },
     "metadata": {},
     "output_type": "display_data"
    },
    {
     "data": {
      "application/vnd.jupyter.widget-view+json": {
       "model_id": "e706edb0795649a8aa99c639aeef165e",
       "version_major": 2,
       "version_minor": 0
      },
      "text/plain": [
       "HBox(children=(Output(), Output()))"
      ]
     },
     "metadata": {},
     "output_type": "display_data"
    }
   ],
   "source": [
    "model.change_FM_type('classic') # We refine the first computed map, not the icp-refined one\n",
    "model.zoomout_refine(nit=15, step = 1, verbose=True)\n",
    "print(model.FM.shape)\n",
    "p2p_21_zo = model.get_p2p()\n",
    "cmap1 = visu(mesh1.vertlist); cmap2 = cmap1[p2p_21_zo]\n",
    "double_plot(mesh1,mesh2,cmap1,cmap2)"
   ]
  },
  {
   "cell_type": "code",
   "execution_count": 13,
   "metadata": {},
   "outputs": [
    {
     "name": "stdout",
     "output_type": "stream",
     "text": [
      "(35002, 3) (35002, 3)\n"
     ]
    }
   ],
   "source": [
    "print(mesh1.vertlist[p2p_21_icp].shape,mesh2.vertlist.shape)\n",
    "np.save(\"Non-deformed-to-Deformed Correspondences/BlueToy02/deformed_\"+str(num)+\"_correspondences_icp.npy\",mesh1.vertlist[p2p_21_icp])\n",
    "np.save(\"Non-deformed-to-Deformed Correspondences/BlueToy02/non_deformed_\"+str(num)+\"_correspondences_icp.npy\",mesh2.vertlist )"
   ]
  },
  {
   "cell_type": "code",
   "execution_count": 14,
   "metadata": {},
   "outputs": [
    {
     "name": "stdout",
     "output_type": "stream",
     "text": [
      "(35002, 3) (35002, 3)\n"
     ]
    }
   ],
   "source": [
    "print(mesh1.vertlist[p2p_21_zo].shape,mesh2.vertlist.shape)\n",
    "np.save(\"Non-deformed-to-Deformed Correspondences/BlueToy02/deformed_\"+str(num)+\"_correspondences_zoomed.npy\",mesh1.vertlist[p2p_21_zo])\n",
    "np.save(\"Non-deformed-to-Deformed Correspondences/BlueToy02/non_deformed_\"+str(num)+\"_correspondences_zoomed.npy\",mesh2.vertlist )"
   ]
  },
  {
   "attachments": {},
   "cell_type": "markdown",
   "metadata": {},
   "source": [
    "### Finding bijective Correspondences"
   ]
  },
  {
   "cell_type": "code",
   "execution_count": 3,
   "metadata": {},
   "outputs": [
    {
     "name": "stdout",
     "output_type": "stream",
     "text": [
      "110 110\n",
      "110 110\n"
     ]
    },
    {
     "ename": "FileNotFoundError",
     "evalue": "[Errno 2] No such file or directory: 'Bijective Correspondences/BlueToy02/YellowToy01/nondeformed_1-4_bijective_zoomed.npy'",
     "output_type": "error",
     "traceback": [
      "\u001b[0;31m---------------------------------------------------------------------------\u001b[0m",
      "\u001b[0;31mFileNotFoundError\u001b[0m                         Traceback (most recent call last)",
      "Cell \u001b[0;32mIn[3], line 57\u001b[0m\n\u001b[1;32m     53\u001b[0m np\u001b[39m.\u001b[39msave(\u001b[39m\"\u001b[39m\u001b[39mBijective Correspondences/BlueToy02/deformed_1-\u001b[39m\u001b[39m\"\u001b[39m\u001b[39m+\u001b[39m\u001b[39mstr\u001b[39m(num)\u001b[39m+\u001b[39m\u001b[39m\"\u001b[39m\u001b[39m_bijective_zoomed.npy\u001b[39m\u001b[39m\"\u001b[39m,np\u001b[39m.\u001b[39marray(list_bijective_deformed_zoomed_yellow))\n\u001b[1;32m     54\u001b[0m \u001b[39m\"\"\"for row in nondeformed_num_zoomed_deformed_to_non_blue:\u001b[39;00m\n\u001b[1;32m     55\u001b[0m \u001b[39m    if row in nondeformed_num_zoomed_non_to_deformed_blue:\u001b[39;00m\n\u001b[1;32m     56\u001b[0m \u001b[39m        list_bijective_nondeformed_zoomed_blue.append(row)\"\"\"\u001b[39;00m\n\u001b[0;32m---> 57\u001b[0m np\u001b[39m.\u001b[39;49msave(\u001b[39m\"\u001b[39;49m\u001b[39mBijective Correspondences/BlueToy02/YellowToy01/nondeformed_1-\u001b[39;49m\u001b[39m\"\u001b[39;49m\u001b[39m+\u001b[39;49m\u001b[39mstr\u001b[39;49m(num)\u001b[39m+\u001b[39;49m\u001b[39m\"\u001b[39;49m\u001b[39m_bijective_zoomed.npy\u001b[39;49m\u001b[39m\"\u001b[39;49m,np\u001b[39m.\u001b[39;49marray(list_bijective_nondeformed_zoomed_yellow))\n",
      "File \u001b[0;32m<__array_function__ internals>:200\u001b[0m, in \u001b[0;36msave\u001b[0;34m(*args, **kwargs)\u001b[0m\n",
      "File \u001b[0;32m~/opt/anaconda3/envs/.at3dcv-point-correspondence/lib/python3.10/site-packages/numpy/lib/npyio.py:518\u001b[0m, in \u001b[0;36msave\u001b[0;34m(file, arr, allow_pickle, fix_imports)\u001b[0m\n\u001b[1;32m    516\u001b[0m     \u001b[39mif\u001b[39;00m \u001b[39mnot\u001b[39;00m file\u001b[39m.\u001b[39mendswith(\u001b[39m'\u001b[39m\u001b[39m.npy\u001b[39m\u001b[39m'\u001b[39m):\n\u001b[1;32m    517\u001b[0m         file \u001b[39m=\u001b[39m file \u001b[39m+\u001b[39m \u001b[39m'\u001b[39m\u001b[39m.npy\u001b[39m\u001b[39m'\u001b[39m\n\u001b[0;32m--> 518\u001b[0m     file_ctx \u001b[39m=\u001b[39m \u001b[39mopen\u001b[39;49m(file, \u001b[39m\"\u001b[39;49m\u001b[39mwb\u001b[39;49m\u001b[39m\"\u001b[39;49m)\n\u001b[1;32m    520\u001b[0m \u001b[39mwith\u001b[39;00m file_ctx \u001b[39mas\u001b[39;00m fid:\n\u001b[1;32m    521\u001b[0m     arr \u001b[39m=\u001b[39m np\u001b[39m.\u001b[39masanyarray(arr)\n",
      "\u001b[0;31mFileNotFoundError\u001b[0m: [Errno 2] No such file or directory: 'Bijective Correspondences/BlueToy02/YellowToy01/nondeformed_1-4_bijective_zoomed.npy'"
     ]
    }
   ],
   "source": [
    "num=4\n",
    "a=np.load(\"Deformed-to-Non-deformed Correspondences/BlueToy02/\"+\"deformed_\"+str(num)+\"_correspondences_icp.npy\")\n",
    "b=np.load(\"Non-deformed-to-Deformed Correspondences/BlueToy02/\"+\"deformed_\"+str(num)+\"_correspondences_icp.npy\")\n",
    "\n",
    "c=np.load(\"Deformed-to-Non-deformed Correspondences/BlueToy02/\"+\"non_deformed_\"+str(num)+\"_correspondences_icp.npy\")\n",
    "d=np.load(\"Non-deformed-to-Deformed Correspondences/BlueToy02/\"+\"non_deformed_\"+str(num)+\"_correspondences_icp.npy\")\n",
    "\n",
    "deformed_num_icp_deformed_to_non_yellow=a.tolist()\n",
    "deformed_num_icp_non_to_deformed_yellow=b.tolist()\n",
    "nondeformed_num_icp_deformed_to_non_yellow=c.tolist()\n",
    "nondeformed_num_icp_non_to_deformed_yellow=d.tolist()\n",
    "list_bijective_deformed_icp_yellow=[]\n",
    "list_bijective_nondeformed_icp_yellow=[]\n",
    "\n",
    "for i,row in enumerate(deformed_num_icp_deformed_to_non_yellow):\n",
    "    try:\n",
    "        id=deformed_num_icp_non_to_deformed_yellow.index(row)\n",
    "        if nondeformed_num_icp_deformed_to_non_yellow[i]==nondeformed_num_icp_non_to_deformed_yellow[id]:\n",
    "            list_bijective_deformed_icp_yellow.append(row)\n",
    "            list_bijective_nondeformed_icp_yellow.append(nondeformed_num_icp_deformed_to_non_yellow[i])\n",
    "    except:\n",
    "        continue\n",
    "print(len(list_bijective_deformed_icp_yellow),len(list_bijective_nondeformed_icp_yellow))\n",
    "np.save(\"Bijective Correspondences/BlueToy02/deformed_1-\"+str(num)+\"_bijective_icp.npy\",np.array(list_bijective_deformed_icp_yellow))\n",
    "\"\"\"for row in nondeformed_num_icp_deformed_to_non_blue:\n",
    "    if row in nondeformed_num_icp_non_to_deformed_blue:\n",
    "        list_bijective_nondeformed_icp_blue.append(row)\"\"\"\n",
    "np.save(\"Bijective Correspondences/BlueToy02/nondeformed_1-\"+str(num)+\"_bijective_icp.npy\",np.array(list_bijective_nondeformed_icp_yellow))\n",
    "\n",
    "e=np.load(\"Deformed-to-Non-deformed Correspondences/BlueToy02/\"+\"non_deformed_\"+str(num)+\"_correspondences_zoomed.npy\")\n",
    "f=np.load(\"Non-deformed-to-Deformed Correspondences/BlueToy02/\"+\"non_deformed_\"+str(num)+\"_correspondences_zoomed.npy\")\n",
    "\n",
    "g=np.load(\"Deformed-to-Non-deformed Correspondences/BlueToy02/\"+\"non_deformed_\"+str(num)+\"_correspondences_zoomed.npy\")\n",
    "h=np.load(\"Non-deformed-to-Deformed Correspondences/BlueToy02/\"+\"non_deformed_\"+str(num)+\"_correspondences_zoomed.npy\")\n",
    "\n",
    "deformed_num_zoomed_deformed_to_non_yellow=a.tolist()\n",
    "deformed_num_zoomed_non_to_deformed_yellow=b.tolist()\n",
    "nondeformed_num_zoomed_deformed_to_non_yellow=c.tolist()\n",
    "nondeformed_num_zoomed_non_to_deformed_yellow=d.tolist()\n",
    "list_bijective_deformed_zoomed_yellow=[]\n",
    "list_bijective_nondeformed_zoomed_yellow=[]\n",
    "\n",
    "for i,row in enumerate(deformed_num_zoomed_deformed_to_non_yellow):\n",
    "    try:\n",
    "        id=deformed_num_zoomed_non_to_deformed_yellow.index(row)\n",
    "        if nondeformed_num_zoomed_deformed_to_non_yellow[i]==nondeformed_num_zoomed_non_to_deformed_yellow[id]:\n",
    "            list_bijective_deformed_zoomed_yellow.append(row)\n",
    "            list_bijective_nondeformed_zoomed_yellow.append(nondeformed_num_zoomed_deformed_to_non_yellow[i])\n",
    "            #print(id,i,row,nondeformed_num_zoomed_deformed_to_non_blue[i],nondeformed_num_zoomed_non_to_deformed_blue[id])\n",
    "    except:\n",
    "        continue\n",
    "print(len(list_bijective_deformed_zoomed_yellow),len(list_bijective_nondeformed_zoomed_yellow))\n",
    "np.save(\"Bijective Correspondences/BlueToy02/deformed_1-\"+str(num)+\"_bijective_zoomed.npy\",np.array(list_bijective_deformed_zoomed_yellow))\n",
    "\"\"\"for row in nondeformed_num_zoomed_deformed_to_non_blue:\n",
    "    if row in nondeformed_num_zoomed_non_to_deformed_blue:\n",
    "        list_bijective_nondeformed_zoomed_blue.append(row)\"\"\"\n",
    "np.save(\"Bijective Correspondences/BlueToy02/nondeformed_1-\"+str(num)+\"_bijective_zoomed.npy\",np.array(list_bijective_nondeformed_zoomed_yellow))\n"
   ]
  },
  {
   "cell_type": "code",
   "execution_count": 4,
   "metadata": {},
   "outputs": [],
   "source": [
    "np.save(\"Bijective Correspondences/BlueToy02/nondeformed_1-\"+str(num)+\"_bijective_zoomed.npy\",np.array(list_bijective_nondeformed_zoomed_yellow))\n"
   ]
  },
  {
   "cell_type": "code",
   "execution_count": 5,
   "metadata": {},
   "outputs": [
    {
     "data": {
      "text/plain": [
       "(110, 3)"
      ]
     },
     "execution_count": 5,
     "metadata": {},
     "output_type": "execute_result"
    }
   ],
   "source": [
    "k=np.load(\"Bijective Correspondences/BlueToy02/deformed_1-4_bijective_icp.npy\")\n",
    "k.shape"
   ]
  },
  {
   "cell_type": "code",
   "execution_count": null,
   "metadata": {},
   "outputs": [],
   "source": []
  }
 ],
 "metadata": {
  "kernelspec": {
   "display_name": "Python 3",
   "language": "python",
   "name": "python3"
  },
  "language_info": {
   "codemirror_mode": {
    "name": "ipython",
    "version": 3
   },
   "file_extension": ".py",
   "mimetype": "text/x-python",
   "name": "python",
   "nbconvert_exporter": "python",
   "pygments_lexer": "ipython3",
   "version": "3.10.0"
  }
 },
 "nbformat": 4,
 "nbformat_minor": 4
}

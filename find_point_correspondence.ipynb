{
 "cells": [
  {
   "cell_type": "code",
   "execution_count": 17,
   "metadata": {},
   "outputs": [
    {
     "name": "stdout",
     "output_type": "stream",
     "text": [
      "Cloning into 'pyfm_repo'...\n",
      "remote: Enumerating objects: 512, done.\u001b[K\n",
      "remote: Counting objects: 100% (76/76), done.\u001b[K\n",
      "remote: Compressing objects: 100% (26/26), done.\u001b[K\n",
      "remote: Total 512 (delta 59), reused 56 (delta 50), pack-reused 436\u001b[K\n",
      "Receiving objects: 100% (512/512), 942.38 KiB | 10.83 MiB/s, done.\n",
      "Resolving deltas: 100% (324/324), done.\n",
      "mv: cannot move 'pyfm_repo/pyFM' to './pyFM': Directory not empty\n"
     ]
    }
   ],
   "source": [
    "# Clone PyFM\n",
    "!git clone https://github.com/RobinMagnet/pyFM.git pyfm_repo\n",
    "!mv pyfm_repo/pyFM .\n",
    "!rm -rf pyfm_repo"
   ]
  },
  {
   "attachments": {},
   "cell_type": "markdown",
   "metadata": {},
   "source": [
    "\n",
    "# 1 - Imports and defining functions"
   ]
  },
  {
   "cell_type": "code",
   "execution_count": 18,
   "metadata": {},
   "outputs": [],
   "source": [
    "import numpy as np\n",
    "\n",
    "from pyFM.mesh import TriMesh\n",
    "from pyFM.functional import FunctionalMapping\n",
    "\n",
    "import meshplot as mp\n",
    "\n",
    "def plot_mesh(myMesh,cmap=None):\n",
    "    mp.plot(myMesh.vertlist, myMesh.facelist,c=cmap)\n",
    "    \n",
    "def double_plot(myMesh1,myMesh2,cmap1=None,cmap2=None):\n",
    "    d = mp.subplot(myMesh1.vertlist, myMesh1.facelist, c=cmap1, s=[2, 2, 0])\n",
    "    mp.subplot(myMesh2.vertlist, myMesh2.facelist, c=cmap2, s=[2, 2, 1], data=d)\n",
    "\n",
    "def visu(vertices):\n",
    "    min_coord,max_coord = np.min(vertices,axis=0,keepdims=True),np.max(vertices,axis=0,keepdims=True)\n",
    "    cmap = (vertices-min_coord)/(max_coord-min_coord)\n",
    "    return cmap\n",
    "\n",
    "def plot_correspondence_lines(mesh1, mesh2, mesh1_points, mesh2_points):\n",
    "    def plot_mesh_and_lines(mesh, points):\n",
    "        p = mp.plot(mesh1_points, None, c=visu(points))\n",
    "        p.add_mesh(mesh.vertices, mesh.faces, c=visu(mesh.vertices))\n",
    "        p.add_lines(mesh1_points, mesh2_points)\n",
    "    plot_mesh_and_lines(mesh1, mesh2_points)\n",
    "    plot_mesh_and_lines(mesh2, mesh1_points)"
   ]
  },
  {
   "attachments": {},
   "cell_type": "markdown",
   "metadata": {},
   "source": [
    "Select the shape"
   ]
  },
  {
   "cell_type": "code",
   "execution_count": 19,
   "metadata": {},
   "outputs": [],
   "source": [
    "toy = ['blue', 'yellow'][1]\n",
    "num = 3\n",
    "\n",
    "if toy == 'yellow':\n",
    "    prefix = 'yellow_'\n",
    "    dir_name = 'YellowToy01'\n",
    "else:\n",
    "    prefix = ''\n",
    "    dir_name = 'BlueToy02'"
   ]
  },
  {
   "attachments": {},
   "cell_type": "markdown",
   "metadata": {},
   "source": [
    "# 2 - Computing the functional map"
   ]
  },
  {
   "attachments": {},
   "cell_type": "markdown",
   "metadata": {},
   "source": [
    "**Loading data**"
   ]
  },
  {
   "cell_type": "code",
   "execution_count": 20,
   "metadata": {},
   "outputs": [
    {
     "name": "stdout",
     "output_type": "stream",
     "text": [
      "Mesh 1 : 35002 vertices, 70000 faces\n",
      "Mesh 2 : 36500 vertices, 70000 faces\n"
     ]
    },
    {
     "data": {
      "application/vnd.jupyter.widget-view+json": {
       "model_id": "6321957d6bf8494ea96c01ca6516ca43",
       "version_major": 2,
       "version_minor": 0
      },
      "text/plain": [
       "HBox(children=(Output(), Output()))"
      ]
     },
     "metadata": {},
     "output_type": "display_data"
    },
    {
     "data": {
      "application/vnd.jupyter.widget-view+json": {
       "model_id": "2630866ec07f4f5689af20c50c52abf5",
       "version_major": 2,
       "version_minor": 0
      },
      "text/plain": [
       "HBox(children=(Output(), Output()))"
      ]
     },
     "metadata": {},
     "output_type": "display_data"
    }
   ],
   "source": [
    "mesh1 = TriMesh(f'data/dataset/{dir_name}/{prefix}push_toy_1_70000.obj')\n",
    "mesh2 = TriMesh(f'data/dataset/{dir_name}/{prefix}push_toy_{num}_70000.obj')\n",
    "print(f'Mesh 1 : {mesh1.n_vertices:4d} vertices, {mesh1.n_faces:5d} faces\\n'\n",
    "      f'Mesh 2 : {mesh2.n_vertices:4d} vertices, {mesh2.n_faces:5d} faces')\n",
    "\n",
    "double_plot(mesh1,mesh2)"
   ]
  },
  {
   "cell_type": "code",
   "execution_count": 21,
   "metadata": {},
   "outputs": [
    {
     "data": {
      "text/plain": [
       "'from scipy.spatial import distance\\nimport numpy as np\\nrand_idx=np.random.permutation(mesh1.vertlist.shape[0])[:20]\\nprint(rand_idx)\\neuc_dist=distance.cdist(mesh1.vertlist[rand_idx],mesh2.vertlist)'"
      ]
     },
     "execution_count": 21,
     "metadata": {},
     "output_type": "execute_result"
    }
   ],
   "source": [
    "\"\"\"from scipy.spatial import distance\n",
    "import numpy as np\n",
    "rand_idx=np.random.permutation(mesh1.vertlist.shape[0])[:20]\n",
    "print(rand_idx)\n",
    "euc_dist=distance.cdist(mesh1.vertlist[rand_idx],mesh2.vertlist)\"\"\""
   ]
  },
  {
   "cell_type": "code",
   "execution_count": 22,
   "metadata": {},
   "outputs": [],
   "source": [
    "#temp=np.argmin(euc_dist, axis=1)"
   ]
  },
  {
   "cell_type": "code",
   "execution_count": 23,
   "metadata": {},
   "outputs": [
    {
     "data": {
      "text/plain": [
       "'with open(\"data/yellow_toy_1-\"+str(num)+\"_landmarks_deformed_and_non.txt\", \\'w+\\') as fp:\\n    \\n    for i in range(temp.shape[0]):\\n        fp.write(str(rand_idx[i])+\" \"+str(temp[i])+\"\\n\")\\n\\nwith open(\"data/yellow_toy_1-\"+str(num)+\"_landmarks_non_and_deformed.txt\", \\'w+\\') as fp:\\n    \\n    for i in range(temp.shape[0]):\\n        fp.write(str(temp[i])+\" \"+str(rand_idx[i])+\"\\n\")\\n'"
      ]
     },
     "execution_count": 23,
     "metadata": {},
     "output_type": "execute_result"
    }
   ],
   "source": [
    "# Manually change the landmark file name\n",
    "\"\"\"with open(\"data/yellow_toy_1-\"+str(num)+\"_landmarks_deformed_and_non.txt\", 'w+') as fp:\n",
    "    \n",
    "    for i in range(temp.shape[0]):\n",
    "        fp.write(str(rand_idx[i])+\" \"+str(temp[i])+\"\\n\")\n",
    "\n",
    "with open(\"data/yellow_toy_1-\"+str(num)+\"_landmarks_non_and_deformed.txt\", 'w+') as fp:\n",
    "    \n",
    "    for i in range(temp.shape[0]):\n",
    "        fp.write(str(temp[i])+\" \"+str(rand_idx[i])+\"\\n\")\n",
    "\"\"\""
   ]
  },
  {
   "attachments": {},
   "cell_type": "markdown",
   "metadata": {},
   "source": [
    "**Computing descriptors**"
   ]
  },
  {
   "cell_type": "code",
   "execution_count": 24,
   "metadata": {},
   "outputs": [
    {
     "name": "stdout",
     "output_type": "stream",
     "text": [
      "\n",
      "Computing Laplacian spectrum\n",
      "Computing 200 eigenvectors\n",
      "\tDone in 55.70 s\n",
      "Computing 200 eigenvectors\n",
      "\tDone in 46.64 s\n",
      "\n",
      "Computing descriptors\n",
      "\tNormalizing descriptors\n",
      "\n",
      "\t420 out of 2100 possible descriptors kept\n"
     ]
    }
   ],
   "source": [
    "process_params = {\n",
    "    'n_ev': (35,35),  # Number of eigenvalues on source and Target\n",
    "    'landmarks': np.loadtxt(f'data/{toy}_toy_1-{num}_landmarks_non_and_deformed.txt',dtype=int),  # loading 10 landmarks\n",
    "    'subsample_step': 5,  # In order not to use too many descriptors\n",
    "    'descr_type': 'WKS',  # WKS or HKS\n",
    "}\n",
    "\n",
    "model = FunctionalMapping(mesh1,mesh2)\n",
    "model.preprocess(**process_params,verbose=True);"
   ]
  },
  {
   "attachments": {},
   "cell_type": "markdown",
   "metadata": {},
   "source": [
    "**Fitting the model**"
   ]
  },
  {
   "attachments": {},
   "cell_type": "markdown",
   "metadata": {},
   "source": [
    "$\\renewcommand{\\RR}{\\mathbb{R}}$\n",
    "$\\renewcommand{\\Ss}{\\mathcal{S}}$\n",
    "$\\renewcommand{\\uargmin}[1]{\\underset{#1}{\\text{argmin}}\\;}$\n",
    "$\\renewcommand{\\uargmax}[1]{\\underset{#1}{\\text{argmax}}\\;}$\n",
    "$\\def\\*#1{\\mathbf{#1}}$\n",
    "\n",
    "In pyFM, we always consider functional maps $\\*C:\\Ss_1\\to\\Ss_2$ and pointwise maps $T:\\Ss_2\\to\\Ss_1$ going in opposite directions, with $\\*C$ always going from shape 1 to shape 2 !\n",
    "\n",
    "Optimization problem is\n",
    "\\begin{equation}\n",
    "\\uargmin{\\*C\\in\\RR^{k_2\\times k_1}} w_{descr}\\|\\*C\\*A - \\*B\\|^2 + w_{lap}\\|\\*C\\Delta_1 - \\Delta_2\\*C\\|^2 + w_{\\text{d- comm}}\\sum_i \\|\\*C\\Gamma_1^i - \\Gamma_2^i\\*C\\|^2 + w_{\\text{orient}}\\sum_i \\|\\*C\\Lambda_1^i - \\Lambda_2^i\\*C\\|^2\n",
    "\\end{equation}\n",
    "\n",
    "with $\\Gamma_1^i$ and $\\Gamma_2^i$ [multipliative operators](http://www.lix.polytechnique.fr/~maks/papers/fundescEG17.pdf) associated to the $i$-th descriptors, $\\Lambda_1^i$ and $\\Lambda_2^i$ [orientation preserving operators](https://arxiv.org/abs/1806.04455) associated to the $i$-th descriptors"
   ]
  },
  {
   "cell_type": "code",
   "execution_count": 25,
   "metadata": {},
   "outputs": [
    {
     "name": "stdout",
     "output_type": "stream",
     "text": [
      "Computing commutativity operators\n",
      "\tScaling LBO commutativity weight by 3.6e-12\n",
      "\n",
      "Optimization :\n",
      "\t35 Ev on source - 35 Ev on Target\n",
      "\tUsing 420 Descriptors\n",
      "\tHyperparameters :\n",
      "\t\tDescriptors preservation :1.0e+00\n",
      "\t\tDescriptors commutativity :1.0e-01\n",
      "\t\tLaplacian commutativity :1.0e-02\n",
      "\t\tOrientation preservation :0.0e+00\n",
      "\n",
      "\tTask : CONVERGENCE: REL_REDUCTION_OF_F_<=_FACTR*EPSMCH, funcall : 38, nit : 31, warnflag : 0\n",
      "\tDone in 3.96 seconds\n"
     ]
    }
   ],
   "source": [
    "fit_params = {\n",
    "    'w_descr': 1e0,\n",
    "    'w_lap': 1e-2,\n",
    "    'w_dcomm': 1e-1,\n",
    "    'w_orient': 0\n",
    "}\n",
    "\n",
    "\n",
    "\n",
    "model.fit(**fit_params, verbose=True)"
   ]
  },
  {
   "attachments": {},
   "cell_type": "markdown",
   "metadata": {},
   "source": [
    "**Visualizing the associated point to point map**"
   ]
  },
  {
   "cell_type": "code",
   "execution_count": 26,
   "metadata": {
    "scrolled": false
   },
   "outputs": [
    {
     "data": {
      "application/vnd.jupyter.widget-view+json": {
       "model_id": "e874902250bc40e0bcaee0fe1345f71d",
       "version_major": 2,
       "version_minor": 0
      },
      "text/plain": [
       "HBox(children=(Output(), Output()))"
      ]
     },
     "metadata": {},
     "output_type": "display_data"
    },
    {
     "data": {
      "application/vnd.jupyter.widget-view+json": {
       "model_id": "6f421d7835994514ba3f2d3c366ef185",
       "version_major": 2,
       "version_minor": 0
      },
      "text/plain": [
       "HBox(children=(Output(), Output()))"
      ]
     },
     "metadata": {},
     "output_type": "display_data"
    }
   ],
   "source": [
    "p2p_21 = model.get_p2p(n_jobs=1)\n",
    "cmap1 = visu(mesh1.vertlist); cmap2 = cmap1[p2p_21]\n",
    "double_plot(mesh1,mesh2,cmap1,cmap2)"
   ]
  },
  {
   "attachments": {},
   "cell_type": "markdown",
   "metadata": {},
   "source": [
    "# 3 - Refining the Functional Map\n",
    "```model.FM``` returns the current state of functional map. One can change which one is returned by using ```model.change_FM_type(FM_type)```, as one can see below. \n",
    "\n",
    "**ICP**"
   ]
  },
  {
   "cell_type": "code",
   "execution_count": 27,
   "metadata": {},
   "outputs": [
    {
     "data": {
      "application/vnd.jupyter.widget-view+json": {
       "model_id": "a59a5f09263b44f49f3b5f04f706e4f1",
       "version_major": 2,
       "version_minor": 0
      },
      "text/plain": [
       "  0%|          | 0/10 [00:00<?, ?it/s]"
      ]
     },
     "metadata": {},
     "output_type": "display_data"
    },
    {
     "data": {
      "application/vnd.jupyter.widget-view+json": {
       "model_id": "7647c37328424ef5bb6451ae0d14f286",
       "version_major": 2,
       "version_minor": 0
      },
      "text/plain": [
       "HBox(children=(Output(), Output()))"
      ]
     },
     "metadata": {},
     "output_type": "display_data"
    },
    {
     "data": {
      "application/vnd.jupyter.widget-view+json": {
       "model_id": "2064376b0c434027b0d33da92bb36f7a",
       "version_major": 2,
       "version_minor": 0
      },
      "text/plain": [
       "HBox(children=(Output(), Output()))"
      ]
     },
     "metadata": {},
     "output_type": "display_data"
    }
   ],
   "source": [
    "model.icp_refine(verbose=True)\n",
    "p2p_21_icp = model.get_p2p()\n",
    "cmap1 = visu(mesh1.vertlist); cmap2 = cmap1[p2p_21_icp]\n",
    "double_plot(mesh1,mesh2,cmap1,cmap2)"
   ]
  },
  {
   "attachments": {},
   "cell_type": "markdown",
   "metadata": {},
   "source": [
    "**Zoomout**"
   ]
  },
  {
   "cell_type": "code",
   "execution_count": 28,
   "metadata": {
    "scrolled": false
   },
   "outputs": [
    {
     "data": {
      "application/vnd.jupyter.widget-view+json": {
       "model_id": "3f3465c8f2f3477782aebf6ba4e5fd67",
       "version_major": 2,
       "version_minor": 0
      },
      "text/plain": [
       "  0%|          | 0/15 [00:00<?, ?it/s]"
      ]
     },
     "metadata": {},
     "output_type": "display_data"
    },
    {
     "name": "stdout",
     "output_type": "stream",
     "text": [
      "(50, 50)\n"
     ]
    },
    {
     "data": {
      "application/vnd.jupyter.widget-view+json": {
       "model_id": "43a7783c3dca4b6c93aa0b8231971d5e",
       "version_major": 2,
       "version_minor": 0
      },
      "text/plain": [
       "HBox(children=(Output(), Output()))"
      ]
     },
     "metadata": {},
     "output_type": "display_data"
    },
    {
     "data": {
      "application/vnd.jupyter.widget-view+json": {
       "model_id": "6912ccfd9b194eccb73178c68b8e6bda",
       "version_major": 2,
       "version_minor": 0
      },
      "text/plain": [
       "HBox(children=(Output(), Output()))"
      ]
     },
     "metadata": {},
     "output_type": "display_data"
    }
   ],
   "source": [
    "model.change_FM_type('classic') # We refine the first computed map, not the icp-refined one\n",
    "model.zoomout_refine(nit=15, step = 1, verbose=True)\n",
    "print(model.FM.shape)\n",
    "p2p_21_zo = model.get_p2p()\n",
    "cmap1 = visu(mesh1.vertlist); cmap2 = cmap1[p2p_21_zo]\n",
    "double_plot(mesh1,mesh2,cmap1,cmap2)"
   ]
  },
  {
   "cell_type": "code",
   "execution_count": 29,
   "metadata": {},
   "outputs": [
    {
     "name": "stdout",
     "output_type": "stream",
     "text": [
      "(36500, 3) (36500, 3)\n"
     ]
    }
   ],
   "source": [
    "print(mesh1.vertlist[p2p_21_icp].shape,mesh2.vertlist.shape)\n",
    "np.save(f'Deformed-to-Non-deformed Correspondences/{dir_name}/non_deformed_{num}_correspondences_icp.npy',mesh1.vertlist[p2p_21_icp])\n",
    "np.save(f'Deformed-to-Non-deformed Correspondences/{dir_name}/deformed_{num}_correspondences_icp.npy',mesh2.vertlist )"
   ]
  },
  {
   "cell_type": "code",
   "execution_count": 30,
   "metadata": {},
   "outputs": [
    {
     "name": "stdout",
     "output_type": "stream",
     "text": [
      "(36500, 3) (36500, 3)\n"
     ]
    }
   ],
   "source": [
    "print(mesh1.vertlist[p2p_21_zo].shape,mesh2.vertlist.shape)\n",
    "np.save(f'Deformed-to-Non-deformed Correspondences/{dir_name}/non_deformed_{num}_correspondences_zoomed.npy',mesh1.vertlist[p2p_21_zo])\n",
    "np.save(f'Deformed-to-Non-deformed Correspondences/{dir_name}/deformed_{num}_correspondences_zoomed.npy',mesh2.vertlist )"
   ]
  },
  {
   "attachments": {},
   "cell_type": "markdown",
   "metadata": {},
   "source": [
    "### Finding bijective Correspondences"
   ]
  },
  {
   "cell_type": "code",
   "execution_count": 31,
   "metadata": {},
   "outputs": [
    {
     "name": "stdout",
     "output_type": "stream",
     "text": [
      "29 29\n",
      "29 29\n"
     ]
    }
   ],
   "source": [
    "a=np.load(f'Deformed-to-Non-deformed Correspondences/{dir_name}/deformed_{num}_correspondences_icp.npy')\n",
    "b=np.load(f'Non-deformed-to-Deformed Correspondences/{dir_name}/deformed_{num}_correspondences_icp.npy')\n",
    "\n",
    "c=np.load(f'Deformed-to-Non-deformed Correspondences/{dir_name}/non_deformed_{num}_correspondences_icp.npy')\n",
    "d=np.load(f'Non-deformed-to-Deformed Correspondences/{dir_name}/non_deformed_{num}_correspondences_icp.npy')\n",
    "\n",
    "deformed_num_icp_deformed_to_non_blue=a.tolist()\n",
    "deformed_num_icp_non_to_deformed_blue=b.tolist()\n",
    "nondeformed_num_icp_deformed_to_non_blue=c.tolist()\n",
    "nondeformed_num_icp_non_to_deformed_blue=d.tolist()\n",
    "list_bijective_deformed_icp_blue=[]\n",
    "list_bijective_nondeformed_icp_blue=[]\n",
    "\n",
    "for i,row in enumerate(deformed_num_icp_deformed_to_non_blue):\n",
    "    try:\n",
    "        id=deformed_num_icp_non_to_deformed_blue.index(row)\n",
    "        if nondeformed_num_icp_deformed_to_non_blue[i]==nondeformed_num_icp_non_to_deformed_blue[id]:\n",
    "            list_bijective_deformed_icp_blue.append(row)\n",
    "            list_bijective_nondeformed_icp_blue.append(nondeformed_num_icp_deformed_to_non_blue[i])\n",
    "    except:\n",
    "        continue\n",
    "print(len(list_bijective_deformed_icp_blue),len(list_bijective_nondeformed_icp_blue))\n",
    "np.save(f'Bijective Correspondences/{dir_name}/deformed_1-{num}_bijective_icp.npy',np.array(list_bijective_deformed_icp_blue))\n",
    "\"\"\"for row in nondeformed_num_icp_deformed_to_non_blue:\n",
    "    if row in nondeformed_num_icp_non_to_deformed_blue:\n",
    "        list_bijective_nondeformed_icp_blue.append(row)\"\"\"\n",
    "np.save(f'Bijective Correspondences/{dir_name}/nondeformed_1-{num}_bijective_icp.npy',np.array(list_bijective_nondeformed_icp_blue))\n",
    "\n",
    "e=np.load(f'Deformed-to-Non-deformed Correspondences/{dir_name}/non_deformed_{num}_correspondences_zoomed.npy')\n",
    "f=np.load(f'Non-deformed-to-Deformed Correspondences/{dir_name}/non_deformed_{num}_correspondences_zoomed.npy')\n",
    "\n",
    "g=np.load(f'Deformed-to-Non-deformed Correspondences/{dir_name}/non_deformed_{num}_correspondences_zoomed.npy')\n",
    "h=np.load(f'Non-deformed-to-Deformed Correspondences/{dir_name}/non_deformed_{num}_correspondences_zoomed.npy')\n",
    "\n",
    "deformed_num_zoomed_deformed_to_non_blue=a.tolist()\n",
    "deformed_num_zoomed_non_to_deformed_blue=b.tolist()\n",
    "nondeformed_num_zoomed_deformed_to_non_blue=c.tolist()\n",
    "nondeformed_num_zoomed_non_to_deformed_blue=d.tolist()\n",
    "list_bijective_deformed_zoomed_blue=[]\n",
    "list_bijective_nondeformed_zoomed_blue=[]\n",
    "\n",
    "for i,row in enumerate(deformed_num_zoomed_deformed_to_non_blue):\n",
    "    try:\n",
    "        id=deformed_num_zoomed_non_to_deformed_blue.index(row)\n",
    "        if nondeformed_num_zoomed_deformed_to_non_blue[i]==nondeformed_num_zoomed_non_to_deformed_blue[id]:\n",
    "            list_bijective_deformed_zoomed_blue.append(row)\n",
    "            list_bijective_nondeformed_zoomed_blue.append(nondeformed_num_zoomed_deformed_to_non_blue[i])\n",
    "            #print(id,i,row,nondeformed_num_zoomed_deformed_to_non_blue[i],nondeformed_num_zoomed_non_to_deformed_blue[id])\n",
    "    except:\n",
    "        continue\n",
    "print(len(list_bijective_deformed_zoomed_blue),len(list_bijective_nondeformed_zoomed_blue))\n",
    "np.save(f'Bijective Correspondences/{dir_name}/deformed_1-{num}_bijective_zoomed.npy',np.array(list_bijective_deformed_zoomed_blue))\n",
    "\"\"\"for row in nondeformed_num_zoomed_deformed_to_non_blue:\n",
    "    if row in nondeformed_num_zoomed_non_to_deformed_blue:\n",
    "        list_bijective_nondeformed_zoomed_blue.append(row)\"\"\"\n",
    "np.save(f'Bijective Correspondences/{dir_name}/nondeformed_1-{num}_bijective_zoomed.npy',np.array(list_bijective_nondeformed_zoomed_blue))\n"
   ]
  },
  {
   "cell_type": "code",
   "execution_count": 33,
   "metadata": {},
   "outputs": [
    {
     "data": {
      "application/vnd.jupyter.widget-view+json": {
       "model_id": "6ff4978588e64f1c8ac2a827942860ee",
       "version_major": 2,
       "version_minor": 0
      },
      "text/plain": [
       "Renderer(camera=PerspectiveCamera(children=(DirectionalLight(color='white', intensity=0.6, position=(-0.046310…"
      ]
     },
     "metadata": {},
     "output_type": "display_data"
    },
    {
     "data": {
      "application/vnd.jupyter.widget-view+json": {
       "model_id": "b2bc5f1a0b9a4a16af067a45df03e1b1",
       "version_major": 2,
       "version_minor": 0
      },
      "text/plain": [
       "Renderer(camera=PerspectiveCamera(children=(DirectionalLight(color='white', intensity=0.6, position=(-0.046310…"
      ]
     },
     "metadata": {},
     "output_type": "display_data"
    },
    {
     "name": "stdout",
     "output_type": "stream",
     "text": [
      "(29, 3)\n",
      "(29, 3)\n"
     ]
    }
   ],
   "source": [
    "plot_correspondence_lines(mesh1, mesh2, nondeformed, deformed)\n",
    "print(deformed.shape)\n",
    "print(nondeformed.shape)"
   ]
  },
  {
   "cell_type": "code",
   "execution_count": 34,
   "metadata": {},
   "outputs": [
    {
     "name": "stdout",
     "output_type": "stream",
     "text": [
      "(35002, 3)\n",
      "(35002, 3)\n"
     ]
    },
    {
     "data": {
      "application/vnd.jupyter.widget-view+json": {
       "model_id": "618f884390cd436e8b9457a8089e1c61",
       "version_major": 2,
       "version_minor": 0
      },
      "text/plain": [
       "Renderer(camera=PerspectiveCamera(children=(DirectionalLight(color='white', intensity=0.6, position=(-0.054015…"
      ]
     },
     "metadata": {},
     "output_type": "display_data"
    },
    {
     "data": {
      "application/vnd.jupyter.widget-view+json": {
       "model_id": "cdbba5e35d9843528696dd9033a71e61",
       "version_major": 2,
       "version_minor": 0
      },
      "text/plain": [
       "Renderer(camera=PerspectiveCamera(children=(DirectionalLight(color='white', intensity=0.6, position=(-0.054015…"
      ]
     },
     "metadata": {},
     "output_type": "display_data"
    }
   ],
   "source": [
    "print(mesh1.vertices.shape)\n",
    "print(d.shape)\n",
    "plot_correspondence_lines(mesh1, mesh2, mesh1.vertices, d)"
   ]
  }
 ],
 "metadata": {
  "kernelspec": {
   "display_name": "Python 3",
   "language": "python",
   "name": "python3"
  },
  "language_info": {
   "codemirror_mode": {
    "name": "ipython",
    "version": 3
   },
   "file_extension": ".py",
   "mimetype": "text/x-python",
   "name": "python",
   "nbconvert_exporter": "python",
   "pygments_lexer": "ipython3",
   "version": "3.10.0"
  }
 },
 "nbformat": 4,
 "nbformat_minor": 4
}

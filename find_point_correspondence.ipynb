{
 "cells": [
  {
   "cell_type": "code",
   "execution_count": 1,
   "metadata": {},
   "outputs": [
    {
     "name": "stdout",
     "output_type": "stream",
     "text": [
      "Cloning into 'pyfm_repo'...\n",
      "remote: Enumerating objects: 512, done.\u001b[K\n",
      "remote: Counting objects: 100% (76/76), done.\u001b[K\n",
      "remote: Compressing objects: 100% (26/26), done.\u001b[K\n",
      "remote: Total 512 (delta 59), reused 56 (delta 50), pack-reused 436\u001b[K\n",
      "Receiving objects: 100% (512/512), 942.38 KiB | 8.89 MiB/s, done.\n",
      "Resolving deltas: 100% (324/324), done.\n",
      "mv: rename pyfm_repo/pyFM to ./pyFM: Directory not empty\n"
     ]
    }
   ],
   "source": [
    "# Clone PyFM\n",
    "!git clone https://github.com/RobinMagnet/pyFM.git pyfm_repo\n",
    "!mv pyfm_repo/pyFM .\n",
    "!rm -rf pyfm_repo"
   ]
  },
  {
   "attachments": {},
   "cell_type": "markdown",
   "metadata": {},
   "source": [
    "\n",
    "# 1 - Imports and defining functions"
   ]
  },
  {
   "cell_type": "code",
   "execution_count": 14,
   "metadata": {},
   "outputs": [],
   "source": [
    "import numpy as np\n",
    "\n",
    "from pyFM.mesh import TriMesh\n",
    "from pyFM.functional import FunctionalMapping\n",
    "\n",
    "import meshplot as mp\n",
    "\n",
    "def plot_mesh(myMesh,cmap=None):\n",
    "    mp.plot(myMesh.vertlist, myMesh.facelist,c=cmap)\n",
    "    \n",
    "def double_plot(myMesh1,myMesh2,cmap1=None,cmap2=None):\n",
    "    d = mp.subplot(myMesh1.vertlist, myMesh1.facelist, c=cmap1, s=[2, 2, 0])\n",
    "    mp.subplot(myMesh2.vertlist, myMesh2.facelist, c=cmap2, s=[2, 2, 1], data=d)\n",
    "\n",
    "def visu(vertices):\n",
    "    min_coord,max_coord = np.min(vertices,axis=0,keepdims=True),np.max(vertices,axis=0,keepdims=True)\n",
    "    cmap = (vertices-min_coord)/(max_coord-min_coord)\n",
    "    return cmap"
   ]
  },
  {
   "attachments": {},
   "cell_type": "markdown",
   "metadata": {},
   "source": [
    "# 2 - Computing the functional map"
   ]
  },
  {
   "attachments": {},
   "cell_type": "markdown",
   "metadata": {},
   "source": [
    "**Loading data**"
   ]
  },
  {
   "cell_type": "code",
   "execution_count": 145,
   "metadata": {},
   "outputs": [
    {
     "name": "stdout",
     "output_type": "stream",
     "text": [
      "Mesh 1 : 35002 vertices, 70000 faces\n",
      "Mesh 2 : 35708 vertices, 69999 faces\n"
     ]
    },
    {
     "data": {
      "application/vnd.jupyter.widget-view+json": {
       "model_id": "d1c7c70c68414b87b72bf1c013166a2f",
       "version_major": 2,
       "version_minor": 0
      },
      "text/plain": [
       "HBox(children=(Output(), Output()))"
      ]
     },
     "metadata": {},
     "output_type": "display_data"
    },
    {
     "data": {
      "application/vnd.jupyter.widget-view+json": {
       "model_id": "3974c18b9cc04aa9a09bb07fed402567",
       "version_major": 2,
       "version_minor": 0
      },
      "text/plain": [
       "HBox(children=(Output(), Output()))"
      ]
     },
     "metadata": {},
     "output_type": "display_data"
    }
   ],
   "source": [
    "num=7\n",
    "mesh1 = TriMesh('data/dataset/BlueToy02/push_toy_1_70000.obj')\n",
    "mesh2 = TriMesh(\"data/dataset/BlueToy02/push_toy_\"+str(num)+\"_70000.obj\")\n",
    "print(f'Mesh 1 : {mesh1.n_vertices:4d} vertices, {mesh1.n_faces:5d} faces\\n'\n",
    "      f'Mesh 2 : {mesh2.n_vertices:4d} vertices, {mesh2.n_faces:5d} faces')\n",
    "\n",
    "double_plot(mesh1,mesh2)"
   ]
  },
  {
   "cell_type": "code",
   "execution_count": 120,
   "metadata": {},
   "outputs": [
    {
     "data": {
      "text/plain": [
       "'from scipy.spatial import distance\\nimport numpy as np\\nrand_idx=np.random.permutation(mesh1.vertlist.shape[0])[:20]\\nprint(rand_idx)\\neuc_dist=distance.cdist(mesh1.vertlist[rand_idx],mesh2.vertlist)'"
      ]
     },
     "execution_count": 120,
     "metadata": {},
     "output_type": "execute_result"
    }
   ],
   "source": [
    "\"\"\"from scipy.spatial import distance\n",
    "import numpy as np\n",
    "rand_idx=np.random.permutation(mesh1.vertlist.shape[0])[:20]\n",
    "print(rand_idx)\n",
    "euc_dist=distance.cdist(mesh1.vertlist[rand_idx],mesh2.vertlist)\"\"\""
   ]
  },
  {
   "cell_type": "code",
   "execution_count": 121,
   "metadata": {},
   "outputs": [],
   "source": [
    "#temp=np.argmin(euc_dist, axis=1)"
   ]
  },
  {
   "cell_type": "code",
   "execution_count": 122,
   "metadata": {},
   "outputs": [
    {
     "data": {
      "text/plain": [
       "'with open(\"data/yellow_toy_1-\"+str(num)+\"_landmarks_deformed_and_non.txt\", \\'w+\\') as fp:\\n    \\n    for i in range(temp.shape[0]):\\n        fp.write(str(rand_idx[i])+\" \"+str(temp[i])+\"\\n\")\\n\\nwith open(\"data/yellow_toy_1-\"+str(num)+\"_landmarks_non_and_deformed.txt\", \\'w+\\') as fp:\\n    \\n    for i in range(temp.shape[0]):\\n        fp.write(str(temp[i])+\" \"+str(rand_idx[i])+\"\\n\")\\n'"
      ]
     },
     "execution_count": 122,
     "metadata": {},
     "output_type": "execute_result"
    }
   ],
   "source": [
    "# Manually change the landmark file name\n",
    "\"\"\"with open(\"data/yellow_toy_1-\"+str(num)+\"_landmarks_deformed_and_non.txt\", 'w+') as fp:\n",
    "    \n",
    "    for i in range(temp.shape[0]):\n",
    "        fp.write(str(rand_idx[i])+\" \"+str(temp[i])+\"\\n\")\n",
    "\n",
    "with open(\"data/yellow_toy_1-\"+str(num)+\"_landmarks_non_and_deformed.txt\", 'w+') as fp:\n",
    "    \n",
    "    for i in range(temp.shape[0]):\n",
    "        fp.write(str(temp[i])+\" \"+str(rand_idx[i])+\"\\n\")\n",
    "\"\"\""
   ]
  },
  {
   "attachments": {},
   "cell_type": "markdown",
   "metadata": {},
   "source": [
    "**Computing descriptors**"
   ]
  },
  {
   "cell_type": "code",
   "execution_count": 131,
   "metadata": {},
   "outputs": [
    {
     "name": "stdout",
     "output_type": "stream",
     "text": [
      "\n",
      "Computing Laplacian spectrum\n",
      "Computing 200 eigenvectors\n",
      "\tDone in 14.91 s\n",
      "Computing 200 eigenvectors\n",
      "\tDone in 11.48 s\n",
      "\n",
      "Computing descriptors\n",
      "\tNormalizing descriptors\n",
      "\n",
      "\t420 out of 2100 possible descriptors kept\n"
     ]
    }
   ],
   "source": [
    "process_params = {\n",
    "    'n_ev': (35,35),  # Number of eigenvalues on source and Target\n",
    "    'landmarks': np.loadtxt(\"data/blue_toy_1-\"+str(num)+\"_landmarks_non_and_deformed.txt\",dtype=int),  # loading 10 landmarks\n",
    "    'subsample_step': 5,  # In order not to use too many descriptors\n",
    "    'descr_type': 'WKS',  # WKS or HKS\n",
    "}\n",
    "\n",
    "model = FunctionalMapping(mesh1,mesh2)\n",
    "model.preprocess(**process_params,verbose=True);"
   ]
  },
  {
   "attachments": {},
   "cell_type": "markdown",
   "metadata": {},
   "source": [
    "**Fitting the model**"
   ]
  },
  {
   "attachments": {},
   "cell_type": "markdown",
   "metadata": {},
   "source": [
    "$\\newcommand{\\RR}{\\mathbb{R}}$\n",
    "$\\newcommand{\\Ss}{\\mathcal{S}}$\n",
    "$\\newcommand{\\uargmin}[1]{\\underset{#1}{\\text{argmin}}\\;}$\n",
    "$\\newcommand{\\uargmax}[1]{\\underset{#1}{\\text{argmax}}\\;}$\n",
    "$\\def\\*#1{\\mathbf{#1}}$\n",
    "\n",
    "In pyFM, we always consider functional maps $\\*C:\\Ss_1\\to\\Ss_2$ and pointwise maps $T:\\Ss_2\\to\\Ss_1$ going in opposite directions, with $\\*C$ always going from shape 1 to shape 2 !\n",
    "\n",
    "Optimization problem is\n",
    "\\begin{equation}\n",
    "\\uargmin{\\*C\\in\\RR^{k_2\\times k_1}} w_{descr}\\|\\*C\\*A - \\*B\\|^2 + w_{lap}\\|\\*C\\Delta_1 - \\Delta_2\\*C\\|^2 + w_{\\text{d- comm}}\\sum_i \\|\\*C\\Gamma_1^i - \\Gamma_2^i\\*C\\|^2 + w_{\\text{orient}}\\sum_i \\|\\*C\\Lambda_1^i - \\Lambda_2^i\\*C\\|^2\n",
    "\\end{equation}\n",
    "\n",
    "with $\\Gamma_1^i$ and $\\Gamma_2^i$ [multipliative operators](http://www.lix.polytechnique.fr/~maks/papers/fundescEG17.pdf) associated to the $i$-th descriptors, $\\Lambda_1^i$ and $\\Lambda_2^i$ [orientation preserving operators](https://arxiv.org/abs/1806.04455) associated to the $i$-th descriptors"
   ]
  },
  {
   "cell_type": "code",
   "execution_count": 132,
   "metadata": {},
   "outputs": [
    {
     "name": "stdout",
     "output_type": "stream",
     "text": [
      "Computing commutativity operators\n",
      "\tScaling LBO commutativity weight by 2.3e-11\n",
      "\n",
      "Optimization :\n",
      "\t35 Ev on source - 35 Ev on Target\n",
      "\tUsing 420 Descriptors\n",
      "\tHyperparameters :\n",
      "\t\tDescriptors preservation :1.0e+00\n",
      "\t\tDescriptors commutativity :1.0e-01\n",
      "\t\tLaplacian commutativity :1.0e-02\n",
      "\t\tOrientation preservation :0.0e+00\n",
      "\n",
      "\tTask : CONVERGENCE: REL_REDUCTION_OF_F_<=_FACTR*EPSMCH, funcall : 20, nit : 17, warnflag : 0\n",
      "\tDone in 0.90 seconds\n"
     ]
    }
   ],
   "source": [
    "fit_params = {\n",
    "    'w_descr': 1e0,\n",
    "    'w_lap': 1e-2,\n",
    "    'w_dcomm': 1e-1,\n",
    "    'w_orient': 0\n",
    "}\n",
    "\n",
    "\n",
    "\n",
    "model.fit(**fit_params, verbose=True)"
   ]
  },
  {
   "attachments": {},
   "cell_type": "markdown",
   "metadata": {},
   "source": [
    "**Visualizing the associated point to point map**"
   ]
  },
  {
   "cell_type": "code",
   "execution_count": 133,
   "metadata": {
    "scrolled": false
   },
   "outputs": [
    {
     "data": {
      "application/vnd.jupyter.widget-view+json": {
       "model_id": "6086577194c848edb9fa8ba5ea167e30",
       "version_major": 2,
       "version_minor": 0
      },
      "text/plain": [
       "HBox(children=(Output(), Output()))"
      ]
     },
     "metadata": {},
     "output_type": "display_data"
    },
    {
     "data": {
      "application/vnd.jupyter.widget-view+json": {
       "model_id": "7daddce603124960a9f8b4bef01ea625",
       "version_major": 2,
       "version_minor": 0
      },
      "text/plain": [
       "HBox(children=(Output(), Output()))"
      ]
     },
     "metadata": {},
     "output_type": "display_data"
    }
   ],
   "source": [
    "p2p_21 = model.get_p2p(n_jobs=1)\n",
    "cmap1 = visu(mesh1.vertlist); cmap2 = cmap1[p2p_21]\n",
    "double_plot(mesh1,mesh2,cmap1,cmap2)"
   ]
  },
  {
   "attachments": {},
   "cell_type": "markdown",
   "metadata": {},
   "source": [
    "# 3 - Refining the Functional Map\n",
    "```model.FM``` returns the current state of functional map. One can change which one is returned by using ```model.change_FM_type(FM_type)```, as one can see below. \n",
    "\n",
    "**ICP**"
   ]
  },
  {
   "cell_type": "code",
   "execution_count": 134,
   "metadata": {},
   "outputs": [
    {
     "data": {
      "application/vnd.jupyter.widget-view+json": {
       "model_id": "a8aa187f1c5447bb9bd2a5d578e4a379",
       "version_major": 2,
       "version_minor": 0
      },
      "text/plain": [
       "  0%|          | 0/10 [00:00<?, ?it/s]"
      ]
     },
     "metadata": {},
     "output_type": "display_data"
    },
    {
     "data": {
      "application/vnd.jupyter.widget-view+json": {
       "model_id": "7f48be71ef0640ac878b815c7bf0bbfe",
       "version_major": 2,
       "version_minor": 0
      },
      "text/plain": [
       "HBox(children=(Output(), Output()))"
      ]
     },
     "metadata": {},
     "output_type": "display_data"
    },
    {
     "data": {
      "application/vnd.jupyter.widget-view+json": {
       "model_id": "5781101c5c3e458d88ca0fa28871a7d9",
       "version_major": 2,
       "version_minor": 0
      },
      "text/plain": [
       "HBox(children=(Output(), Output()))"
      ]
     },
     "metadata": {},
     "output_type": "display_data"
    }
   ],
   "source": [
    "model.icp_refine(verbose=True)\n",
    "p2p_21_icp = model.get_p2p()\n",
    "cmap1 = visu(mesh1.vertlist); cmap2 = cmap1[p2p_21_icp]\n",
    "double_plot(mesh1,mesh2,cmap1,cmap2)"
   ]
  },
  {
   "attachments": {},
   "cell_type": "markdown",
   "metadata": {},
   "source": [
    "**Zoomout**"
   ]
  },
  {
   "cell_type": "code",
   "execution_count": 135,
   "metadata": {
    "scrolled": false
   },
   "outputs": [
    {
     "data": {
      "application/vnd.jupyter.widget-view+json": {
       "model_id": "3877771cfd7045a89167a60f0a3ff47b",
       "version_major": 2,
       "version_minor": 0
      },
      "text/plain": [
       "  0%|          | 0/15 [00:00<?, ?it/s]"
      ]
     },
     "metadata": {},
     "output_type": "display_data"
    },
    {
     "name": "stdout",
     "output_type": "stream",
     "text": [
      "(50, 50)\n"
     ]
    },
    {
     "data": {
      "application/vnd.jupyter.widget-view+json": {
       "model_id": "5fbbb5cbe0f447fb938d74a988f661ba",
       "version_major": 2,
       "version_minor": 0
      },
      "text/plain": [
       "HBox(children=(Output(), Output()))"
      ]
     },
     "metadata": {},
     "output_type": "display_data"
    },
    {
     "data": {
      "application/vnd.jupyter.widget-view+json": {
       "model_id": "83fde95013e841ff929fed6bc63e8d64",
       "version_major": 2,
       "version_minor": 0
      },
      "text/plain": [
       "HBox(children=(Output(), Output()))"
      ]
     },
     "metadata": {},
     "output_type": "display_data"
    }
   ],
   "source": [
    "model.change_FM_type('classic') # We refine the first computed map, not the icp-refined one\n",
    "model.zoomout_refine(nit=15, step = 1, verbose=True)\n",
    "print(model.FM.shape)\n",
    "p2p_21_zo = model.get_p2p()\n",
    "cmap1 = visu(mesh1.vertlist); cmap2 = cmap1[p2p_21_zo]\n",
    "double_plot(mesh1,mesh2,cmap1,cmap2)"
   ]
  },
  {
   "cell_type": "code",
   "execution_count": 136,
   "metadata": {},
   "outputs": [
    {
     "name": "stdout",
     "output_type": "stream",
     "text": [
      "(35708, 3) (35708, 3)\n"
     ]
    }
   ],
   "source": [
    "print(mesh1.vertlist[p2p_21_icp].shape,mesh2.vertlist.shape)\n",
    "np.save(\"Deformed-to-Non-deformed Correspondences/BlueToy02/non_deformed_\"+str(num)+\"_correspondences_icp.npy\",mesh1.vertlist[p2p_21_icp])\n",
    "np.save(\"Deformed-to-Non-deformed Correspondences/BlueToy02/deformed_\"+str(num)+\"_correspondences_icp.npy\",mesh2.vertlist )"
   ]
  },
  {
   "cell_type": "code",
   "execution_count": 137,
   "metadata": {},
   "outputs": [
    {
     "name": "stdout",
     "output_type": "stream",
     "text": [
      "(35708, 3) (35708, 3)\n"
     ]
    }
   ],
   "source": [
    "print(mesh1.vertlist[p2p_21_zo].shape,mesh2.vertlist.shape)\n",
    "np.save(\"Deformed-to-Non-deformed Correspondences/BlueToy02/non_deformed_\"+str(num)+\"_correspondences_zoomed.npy\",mesh1.vertlist[p2p_21_zo])\n",
    "np.save(\"Deformed-to-Non-deformed Correspondences/BlueToy02/deformed_\"+str(num)+\"_correspondences_zoomed.npy\",mesh2.vertlist )"
   ]
  },
  {
   "attachments": {},
   "cell_type": "markdown",
   "metadata": {},
   "source": [
    "### Finding bijective Correspondences"
   ]
  },
  {
   "cell_type": "code",
   "execution_count": 158,
   "metadata": {},
   "outputs": [
    {
     "name": "stdout",
     "output_type": "stream",
     "text": [
      "8390 8390\n",
      "8390 8390\n"
     ]
    }
   ],
   "source": [
    "num=4\n",
    "a=np.load(\"Deformed-to-Non-deformed Correspondences/YellowToy01/\"+\"deformed_\"+str(num)+\"_correspondences_icp.npy\")\n",
    "b=np.load(\"Non-deformed-to-Deformed Correspondences/YellowToy01/\"+\"deformed_\"+str(num)+\"_correspondences_icp.npy\")\n",
    "\n",
    "c=np.load(\"Deformed-to-Non-deformed Correspondences/YellowToy01/\"+\"non_deformed_\"+str(num)+\"_correspondences_icp.npy\")\n",
    "d=np.load(\"Non-deformed-to-Deformed Correspondences/YellowToy01/\"+\"non_deformed_\"+str(num)+\"_correspondences_icp.npy\")\n",
    "\n",
    "deformed_num_icp_deformed_to_non_yellow=a.tolist()\n",
    "deformed_num_icp_non_to_deformed_yellow=b.tolist()\n",
    "nondeformed_num_icp_deformed_to_non_yellow=c.tolist()\n",
    "nondeformed_num_icp_non_to_deformed_yellow=d.tolist()\n",
    "list_bijective_deformed_icp_yellow=[]\n",
    "list_bijective_nondeformed_icp_yellow=[]\n",
    "\n",
    "for i,row in enumerate(deformed_num_icp_deformed_to_non_yellow):\n",
    "    try:\n",
    "        id=deformed_num_icp_non_to_deformed_yellow.index(row)\n",
    "        if nondeformed_num_icp_deformed_to_non_yellow[i]==nondeformed_num_icp_non_to_deformed_yellow[id]:\n",
    "            list_bijective_deformed_icp_yellow.append(row)\n",
    "            list_bijective_nondeformed_icp_yellow.append(nondeformed_num_icp_deformed_to_non_yellow[i])\n",
    "    except:\n",
    "        continue\n",
    "print(len(list_bijective_deformed_icp_yellow),len(list_bijective_nondeformed_icp_yellow))\n",
    "np.save(\"Bijective Correspondences/YellowToy01/deformed_1-\"+str(num)+\"_bijective_icp.npy\",np.array(list_bijective_deformed_icp_yellow))\n",
    "\"\"\"for row in nondeformed_num_icp_deformed_to_non_blue:\n",
    "    if row in nondeformed_num_icp_non_to_deformed_blue:\n",
    "        list_bijective_nondeformed_icp_blue.append(row)\"\"\"\n",
    "np.save(\"Bijective Correspondences/YellowToy01/nondeformed_1-\"+str(num)+\"_bijective_icp.npy\",np.array(list_bijective_nondeformed_icp_yellow))\n",
    "\n",
    "e=np.load(\"Deformed-to-Non-deformed Correspondences/YellowToy01/\"+\"non_deformed_\"+str(num)+\"_correspondences_zoomed.npy\")\n",
    "f=np.load(\"Non-deformed-to-Deformed Correspondences/YellowToy01/\"+\"non_deformed_\"+str(num)+\"_correspondences_zoomed.npy\")\n",
    "\n",
    "g=np.load(\"Deformed-to-Non-deformed Correspondences/YellowToy01/\"+\"non_deformed_\"+str(num)+\"_correspondences_zoomed.npy\")\n",
    "h=np.load(\"Non-deformed-to-Deformed Correspondences/YellowToy01/\"+\"non_deformed_\"+str(num)+\"_correspondences_zoomed.npy\")\n",
    "\n",
    "deformed_num_zoomed_deformed_to_non_yellow=a.tolist()\n",
    "deformed_num_zoomed_non_to_deformed_yellow=b.tolist()\n",
    "nondeformed_num_zoomed_deformed_to_non_yellow=c.tolist()\n",
    "nondeformed_num_zoomed_non_to_deformed_yellow=d.tolist()\n",
    "list_bijective_deformed_zoomed_yellow=[]\n",
    "list_bijective_nondeformed_zoomed_yellow=[]\n",
    "\n",
    "for i,row in enumerate(deformed_num_zoomed_deformed_to_non_yellow):\n",
    "    try:\n",
    "        id=deformed_num_zoomed_non_to_deformed_yellow.index(row)\n",
    "        if nondeformed_num_zoomed_deformed_to_non_yellow[i]==nondeformed_num_zoomed_non_to_deformed_yellow[id]:\n",
    "            list_bijective_deformed_zoomed_yellow.append(row)\n",
    "            list_bijective_nondeformed_zoomed_yellow.append(nondeformed_num_zoomed_deformed_to_non_yellow[i])\n",
    "            #print(id,i,row,nondeformed_num_zoomed_deformed_to_non_blue[i],nondeformed_num_zoomed_non_to_deformed_blue[id])\n",
    "    except:\n",
    "        continue\n",
    "print(len(list_bijective_deformed_zoomed_yellow),len(list_bijective_nondeformed_zoomed_yellow))\n",
    "np.save(\"Bijective Correspondences/YellowToy01/deformed_1-\"+str(num)+\"_bijective_zoomed.npy\",np.array(list_bijective_deformed_zoomed_yellow))\n",
    "\"\"\"for row in nondeformed_num_zoomed_deformed_to_non_blue:\n",
    "    if row in nondeformed_num_zoomed_non_to_deformed_blue:\n",
    "        list_bijective_nondeformed_zoomed_blue.append(row)\"\"\"\n",
    "np.save(\"Bijective Correspondences/YellowToy01/nondeformed_1-\"+str(num)+\"_bijective_zoomed.npy\",np.array(list_bijective_nondeformed_zoomed_yellow))\n"
   ]
  },
  {
   "cell_type": "code",
   "execution_count": null,
   "metadata": {},
   "outputs": [],
   "source": []
  }
 ],
 "metadata": {
  "kernelspec": {
   "display_name": "Python 3",
   "language": "python",
   "name": "python3"
  },
  "language_info": {
   "codemirror_mode": {
    "name": "ipython",
    "version": 3
   },
   "file_extension": ".py",
   "mimetype": "text/x-python",
   "name": "python",
   "nbconvert_exporter": "python",
   "pygments_lexer": "ipython3",
   "version": "3.10.0"
  }
 },
 "nbformat": 4,
 "nbformat_minor": 4
}

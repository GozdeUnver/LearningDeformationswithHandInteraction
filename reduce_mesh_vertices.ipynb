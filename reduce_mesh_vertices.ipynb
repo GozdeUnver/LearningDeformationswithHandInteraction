{
 "cells": [
  {
   "cell_type": "code",
   "execution_count": 55,
   "metadata": {},
   "outputs": [],
   "source": [
    "import numpy as np\n",
    "import open3d as o3d\n",
    "\n",
    "from scipy.spatial.distance import cdist"
   ]
  },
  {
   "cell_type": "code",
   "execution_count": 56,
   "metadata": {},
   "outputs": [],
   "source": [
    "def draw(*shapes):\n",
    "    o3d.visualization.draw_geometries(shapes)"
   ]
  },
  {
   "cell_type": "code",
   "execution_count": 57,
   "metadata": {},
   "outputs": [],
   "source": [
    "mesh = o3d.io.read_triangle_mesh('data/dataset/YellowToy01/yellow_push_toy_1_70000.obj')\n",
    "point_cloud = o3d.io.read_point_cloud('data/pointcloud_sampled/YellowToy01/inputs/non_deformed_2_correspondences_zoom_2048.ply')\n",
    "draw(mesh, point_cloud)"
   ]
  },
  {
   "cell_type": "code",
   "execution_count": 58,
   "metadata": {},
   "outputs": [],
   "source": [
    "mesh_points = np.asarray(mesh.vertices)\n",
    "cloud_points = np.asarray(point_cloud.points)\n",
    "\n",
    "# https://stackoverflow.com/questions/8317022/get-intersecting-rows-across-two-2d-numpy-arrays\n",
    "\n",
    "nrows, ncols = cloud_points.shape\n",
    "dtype={'names':['f{}'.format(i) for i in range(ncols)],\n",
    "       'formats':ncols * [cloud_points.dtype]}\n",
    "\n",
    "common_points = np.intersect1d(cloud_points.view(dtype), mesh_points.view(dtype))\n",
    "\n",
    "common_points = common_points.view(cloud_points.dtype).reshape(-1, ncols)\n",
    "assert common_points.shape == cloud_points.shape"
   ]
  },
  {
   "cell_type": "code",
   "execution_count": 59,
   "metadata": {},
   "outputs": [],
   "source": [
    "mesh_v_merge_map = np.zeros(len(mesh_points), dtype=int)\n",
    "\n",
    "distances = cdist(mesh_points, cloud_points)\n",
    "mesh_v_merge_map = distances.argmin(axis=1)\n",
    "assert len(np.unique(mesh_v_merge_map, axis=0)) == len(cloud_points)"
   ]
  },
  {
   "cell_type": "code",
   "execution_count": 61,
   "metadata": {},
   "outputs": [],
   "source": [
    "mesh_points = cloud_points[mesh_v_merge_map]\n",
    "mesh.vertices = o3d.utility.Vector3dVector(mesh_points)\n",
    "draw(mesh, point_cloud)"
   ]
  },
  {
   "cell_type": "code",
   "execution_count": null,
   "metadata": {},
   "outputs": [],
   "source": []
  }
 ],
 "metadata": {
  "kernelspec": {
   "display_name": ".at3dcv-mesh-gnn",
   "language": "python",
   "name": "python3"
  },
  "language_info": {
   "codemirror_mode": {
    "name": "ipython",
    "version": 3
   },
   "file_extension": ".py",
   "mimetype": "text/x-python",
   "name": "python",
   "nbconvert_exporter": "python",
   "pygments_lexer": "ipython3",
   "version": "3.8.17"
  },
  "orig_nbformat": 4
 },
 "nbformat": 4,
 "nbformat_minor": 2
}

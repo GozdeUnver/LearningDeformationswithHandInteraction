{
 "cells": [
  {
   "cell_type": "code",
   "execution_count": 179,
   "metadata": {},
   "outputs": [],
   "source": [
    "import meshplot as mp\n",
    "import numpy as np\n",
    "import open3d as o3d\n",
    "import pymesh as pm\n",
    "\n",
    "from scipy.spatial.distance import cdist\n",
    "\n",
    "Vec2i = o3d.utility.Vector2iVector\n",
    "Vec3d = o3d.utility.Vector3dVector\n",
    "Vec3i = o3d.utility.Vector3iVector"
   ]
  },
  {
   "cell_type": "code",
   "execution_count": 180,
   "metadata": {},
   "outputs": [],
   "source": [
    "def draw(*shapes):\n",
    "    # return\n",
    "    pm_shapes = [s for s in shapes if type(s) is pm.Mesh]\n",
    "    o3d_shapes = [s for s in shapes if s not in pm_shapes]\n",
    "    for shape in pm_shapes:\n",
    "        mp.plot(shape.vertices, shape.faces)\n",
    "    if o3d_shapes:\n",
    "        o3d.visualization.draw_geometries(o3d_shapes)"
   ]
  },
  {
   "cell_type": "code",
   "execution_count": 181,
   "metadata": {},
   "outputs": [],
   "source": [
    "mesh_path = 'data/dataset/YellowToy01/yellow_push_toy_1_70000.obj'\n",
    "# mesh_path = 'data/dataset/YellowToy01/yellow_push_toy_2_70000.obj'\n",
    "point_cloud_path = 'data/pointcloud_sampled/YellowToy01/inputs/non_deformed_2_correspondences_zoom_2048.ply'\n",
    "# point_cloud_path = 'data/pointcloud_sampled/YellowToy01/targets/deformed_2_correspondences_zoom_2048.ply'\n",
    "\n",
    "mesh = o3d.io.read_triangle_mesh(mesh_path)\n",
    "point_cloud = o3d.io.read_point_cloud(point_cloud_path)\n",
    "draw(mesh, point_cloud)"
   ]
  },
  {
   "cell_type": "code",
   "execution_count": 182,
   "metadata": {},
   "outputs": [
    {
     "name": "stdout",
     "output_type": "stream",
     "text": [
      "(2048, 3)\n"
     ]
    }
   ],
   "source": [
    "mesh_points = np.asarray(mesh.vertices)\n",
    "cloud_points = np.asarray(point_cloud.points)\n",
    "\n",
    "# https://stackoverflow.com/questions/8317022/get-intersecting-rows-across-two-2d-numpy-arrays\n",
    "\n",
    "nrows, ncols = cloud_points.shape\n",
    "dtype={'names':['f{}'.format(i) for i in range(ncols)],\n",
    "       'formats':ncols * [cloud_points.dtype]}\n",
    "\n",
    "common_points, ids_in_point_cloud, ids_in_mesh = np.intersect1d(cloud_points.view(dtype), mesh_points.view(dtype), return_indices=True)\n",
    "\n",
    "common_points = common_points.view(cloud_points.dtype).reshape(-1, ncols)\n",
    "print(common_points.shape)\n",
    "assert common_points.shape == np.unique(cloud_points, axis=0).shape"
   ]
  },
  {
   "cell_type": "code",
   "execution_count": 183,
   "metadata": {},
   "outputs": [],
   "source": [
    "mesh_v_merge_map = np.zeros(len(mesh_points), dtype=int) + len(mesh_points)\n",
    "\n",
    "distances = cdist(mesh_points, cloud_points)\n",
    "mesh_v_merge_map = distances.argmin(axis=1)\n",
    "\n",
    "assert len(np.unique(mesh_v_merge_map, axis=0)) == len(np.unique(cloud_points, axis=0))"
   ]
  },
  {
   "cell_type": "code",
   "execution_count": 184,
   "metadata": {},
   "outputs": [],
   "source": [
    "mesh_points = cloud_points[mesh_v_merge_map]\n",
    "mesh.vertices = o3d.utility.Vector3dVector(mesh_points)\n",
    "draw(mesh, point_cloud)"
   ]
  },
  {
   "cell_type": "code",
   "execution_count": 185,
   "metadata": {},
   "outputs": [],
   "source": [
    "pm_mesh = pm.form_mesh(\n",
    "    np.asarray(mesh.vertices),\n",
    "    np.asarray(mesh.triangles)\n",
    ")"
   ]
  },
  {
   "cell_type": "code",
   "execution_count": 186,
   "metadata": {},
   "outputs": [
    {
     "name": "stdout",
     "output_type": "stream",
     "text": [
      "37082\n",
      "2048\n"
     ]
    }
   ],
   "source": [
    "print(pm_mesh.num_vertices)\n",
    "pm_mesh, _ = pm.remove_duplicated_vertices(pm_mesh)\n",
    "print(pm_mesh.num_vertices)\n",
    "# assert mesh.num_vertices == len(cloud_points)\n",
    "mesh_to_point_cloud = cdist(pm_mesh.vertices, cloud_points).argmin(axis=1)\n",
    "vertices = Vec3d(cloud_points.copy())\n",
    "triangles = Vec3i(mesh_to_point_cloud[pm_mesh.faces].copy())\n",
    "mesh = o3d.geometry.TriangleMesh(vertices, triangles)\n",
    "draw(mesh, point_cloud)"
   ]
  },
  {
   "cell_type": "code",
   "execution_count": 188,
   "metadata": {},
   "outputs": [
    {
     "name": "stdout",
     "output_type": "stream",
     "text": [
      "[[-0.062908 -0.103463  0.055888]\n",
      " [-0.026656 -0.061906  0.03621 ]\n",
      " [-0.058424 -0.061436  0.000938]\n",
      " ...\n",
      " [-0.060192 -0.090423  0.000519]\n",
      " [-0.038048 -0.051909  0.041447]\n",
      " [-0.086844 -0.075097  0.004415]]\n",
      "[[-0.062908 -0.103463  0.055888]\n",
      " [-0.026656 -0.061906  0.03621 ]\n",
      " [-0.058424 -0.061436  0.000938]\n",
      " ...\n",
      " [-0.060192 -0.090423  0.000519]\n",
      " [-0.038048 -0.051909  0.041447]\n",
      " [-0.086844 -0.075097  0.004415]]\n",
      "[Open3D INFO] Skipping non-triangle primitive geometry of type: 1\n",
      "[Open3D INFO] Skipping non-triangle primitive geometry of type: 2\n",
      "[[-0.077013 -0.057812  0.009795]\n",
      " [-0.077618 -0.060341  0.007062]\n",
      " [-0.079528 -0.061161  0.008935]\n",
      " ...\n",
      " [-0.046851 -0.041734  0.064022]\n",
      " [-0.043885 -0.041631  0.058802]\n",
      " [-0.049017 -0.045758  0.055411]]\n"
     ]
    }
   ],
   "source": [
    "o3d.io.write_triangle_mesh(point_cloud_path[:-3] + 'obj', mesh)"
   ]
  }
 ],
 "metadata": {
  "kernelspec": {
   "display_name": ".at3dcv-mesh-gnn",
   "language": "python",
   "name": "python3"
  },
  "language_info": {
   "codemirror_mode": {
    "name": "ipython",
    "version": 3
   },
   "file_extension": ".py",
   "mimetype": "text/x-python",
   "name": "python",
   "nbconvert_exporter": "python",
   "pygments_lexer": "ipython3",
   "version": "3.8.17"
  },
  "orig_nbformat": 4
 },
 "nbformat": 4,
 "nbformat_minor": 2
}

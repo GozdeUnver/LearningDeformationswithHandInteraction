{
 "cells": [
  {
   "cell_type": "code",
   "execution_count": 1,
   "metadata": {},
   "outputs": [
    {
     "name": "stdout",
     "output_type": "stream",
     "text": [
      "Jupyter environment detected. Enabling Open3D WebVisualizer.\n",
      "[Open3D INFO] WebRTC GUI backend enabled.\n",
      "[Open3D INFO] WebRTCWindowSystem: HTTP handshake server disabled.\n"
     ]
    }
   ],
   "source": [
    "import numpy as np\n",
    "\n",
    "from trimesh import Trimesh, load, graph\n",
    "from trimesh.exchange.export import export_obj\n",
    "\n",
    "import meshplot as mp\n",
    "\n",
    "import open3d as o3d\n",
    "from copy import deepcopy\n",
    "\n",
    "import pyvista as pv\n",
    "\n",
    "from scipy.spatial import distance"
   ]
  },
  {
   "cell_type": "code",
   "execution_count": 30,
   "metadata": {},
   "outputs": [],
   "source": [
    "def visualize(pc1, pc2):\n",
    "    o3d.visualization.draw_geometries([pc1, pc2])\n",
    "    \n",
    "def copy(pc1, pc2, tr1=None, tr2=None):\n",
    "    tr1 = (0, 0, 0) if tr1 is None else tr1\n",
    "    tr2 = (0, 0, 0) if tr2 is None else tr2\n",
    "    pc1 = deepcopy(pc1).translate(tr1)\n",
    "    pc2 = deepcopy(pc2).translate(tr2)\n",
    "    pc1.colors = o3d.utility.Vector3dVector(np.tile([1, 0, 0], (len(pc1.points), 1)))\n",
    "    pc2.colors = o3d.utility.Vector3dVector(np.tile([0, 0, 1], (len(pc1.points), 1)))\n",
    "    return pc1, pc2\n",
    "\n",
    "def double_plot(pc1: o3d.geometry.PointCloud, pc2: o3d.geometry.PointCloud):\n",
    "    print(pc1)\n",
    "    pc1, pc2 = copy(pc1, pc2, (-0.05, 0, 0), (0.05, 0, 0))\n",
    "    visualize(pc1, pc2)\n",
    "\n",
    "def merged_plot(pc1: o3d.geometry.PointCloud, pc2: o3d.geometry.PointCloud):\n",
    "    pc1, pc2 = copy(pc1, pc2)\n",
    "    visualize(pc1, pc2)"
   ]
  },
  {
   "cell_type": "code",
   "execution_count": 31,
   "metadata": {},
   "outputs": [],
   "source": [
    "BAD_DIST_THRESHOLD = 0.000\n",
    "CENTER_THRESHOLD = 0.05"
   ]
  },
  {
   "attachments": {},
   "cell_type": "markdown",
   "metadata": {},
   "source": [
    "Load meshes"
   ]
  },
  {
   "cell_type": "code",
   "execution_count": 32,
   "metadata": {},
   "outputs": [
    {
     "name": "stdout",
     "output_type": "stream",
     "text": [
      "PointCloud with 2048 points.\n",
      "PointCloud with 2048 points.\n"
     ]
    }
   ],
   "source": [
    "ref_pc = o3d.io.read_point_cloud('non_deformed_2_correspondences_zoom_2048.ply')\n",
    "bad_pc = o3d.io.read_point_cloud('deformed_2_correspondences_zoom_2048.ply')\n",
    "ref_points = np.asarray(ref_pc.points)\n",
    "bad_points = np.asarray(bad_pc.points)\n",
    "double_plot(ref_pc, bad_pc)"
   ]
  },
  {
   "cell_type": "code",
   "execution_count": 33,
   "metadata": {},
   "outputs": [
    {
     "name": "stdout",
     "output_type": "stream",
     "text": [
      "PointCloud with 2048 points.\n",
      "PointCloud with 2048 points.\n"
     ]
    }
   ],
   "source": [
    "merged_plot(ref_pc, bad_pc)"
   ]
  },
  {
   "attachments": {},
   "cell_type": "markdown",
   "metadata": {},
   "source": [
    "Find `ref_pc` vertices close to any `bad_pc` vertices"
   ]
  },
  {
   "cell_type": "code",
   "execution_count": 34,
   "metadata": {},
   "outputs": [],
   "source": [
    "PATCH_SIZE = 500\n",
    "\n",
    "\n",
    "# Because processing everything in one sweep kills the kernel\n",
    "def iter_patches(points: np.ndarray):\n",
    "    for start in range(0, len(points), PATCH_SIZE):\n",
    "        end = min(start + PATCH_SIZE, len(points))\n",
    "        yield start, end, points[start:end]\n",
    "\n",
    "\n",
    "def get_mask_near_mesh(pc1: np.ndarray, pc2: np.ndarray, threshold: float):\n",
    "    used_vertices = np.zeros(len(ref_pc.points), dtype=bool)\n",
    "    for start, end, patch1 in iter_patches(pc1):\n",
    "        for _, _, patch2 in iter_patches(pc2):\n",
    "            euc_dist=distance.cdist(patch1, patch2)\n",
    "            used_from_batch = euc_dist.min(axis=1) < threshold\n",
    "            used_vertices[start:end] = np.bitwise_or(used_vertices[start:end], used_from_batch)\n",
    "    \n",
    "    return used_vertices\n",
    "\n",
    "\n",
    "used_v_mask_bad = get_mask_near_mesh(ref_points, bad_points, BAD_DIST_THRESHOLD)\n"
   ]
  },
  {
   "attachments": {},
   "cell_type": "markdown",
   "metadata": {},
   "source": [
    "Remove `ref_pc` vertices which are far from any `bad_pc` vertices"
   ]
  },
  {
   "cell_type": "code",
   "execution_count": 35,
   "metadata": {},
   "outputs": [
    {
     "name": "stdout",
     "output_type": "stream",
     "text": [
      "PointCloud with 0 points.\n",
      "PointCloud with 0 points.\n"
     ]
    }
   ],
   "source": [
    "def get_point_cloud_with_mask(src_points, vert_mask):\n",
    "    points = o3d.utility.Vector3dVector(src_points[vert_mask])\n",
    "    return o3d.geometry.PointCloud(points)\n",
    "\n",
    "ref_points = np.asarray(ref_pc.points)\n",
    "ref_pc_bad = get_point_cloud_with_mask(ref_points, used_v_mask_bad)\n",
    "double_plot(ref_pc_bad, bad_pc)"
   ]
  },
  {
   "attachments": {},
   "cell_type": "markdown",
   "metadata": {},
   "source": [
    "Remove vertices which are far from the `bad_pc`'s centroid"
   ]
  },
  {
   "cell_type": "code",
   "execution_count": 13,
   "metadata": {},
   "outputs": [
    {
     "name": "stdout",
     "output_type": "stream",
     "text": [
      "648\n"
     ]
    }
   ],
   "source": [
    "\n",
    "def centroid(points):\n",
    "    points = np.asarray(points)\n",
    "    return points[points[:, 2].argmax()]\n",
    "\n",
    "\n",
    "def get_mask_near_point(points, point, threshold):\n",
    "    used_vertices = np.zeros(len(points), dtype=bool)\n",
    "    for start, end, patch in iter_patches(points):\n",
    "        used_from_patch = np.linalg.norm(patch - point, axis=1) < threshold\n",
    "        used_vertices[start:end] = np.bitwise_or(used_vertices[start:end], used_from_patch)\n",
    "    \n",
    "    return used_vertices\n",
    "\n",
    "c = o3d.geometry.TriangleMesh.create_sphere(radius=0.001).translate(centroid(bad_pc.points))\n",
    "\n",
    "used_v_mask_centroid = get_mask_near_point(ref_points, centroid(bad_pc.points), CENTER_THRESHOLD)\n",
    "print(used_v_mask_centroid.sum())\n",
    "\n",
    "ref_pc_centroid = get_point_cloud_with_mask(ref_points, used_v_mask_centroid)\n",
    "\n",
    "double_plot(ref_pc_centroid, bad_pc)"
   ]
  },
  {
   "attachments": {},
   "cell_type": "markdown",
   "metadata": {},
   "source": [
    "Combine"
   ]
  },
  {
   "cell_type": "code",
   "execution_count": 15,
   "metadata": {},
   "outputs": [],
   "source": [
    "used_v_mask_combined = np.bitwise_or(used_v_mask_bad, used_v_mask_centroid)\n",
    "ref_pc_combined = get_point_cloud_with_mask(ref_points, used_v_mask_combined)\n",
    "double_plot(ref_pc_combined, bad_pc)"
   ]
  },
  {
   "cell_type": "code",
   "execution_count": 16,
   "metadata": {},
   "outputs": [],
   "source": [
    "merged_plot(ref_pc_combined, bad_pc)"
   ]
  },
  {
   "cell_type": "code",
   "execution_count": 17,
   "metadata": {},
   "outputs": [
    {
     "data": {
      "text/plain": [
       "True"
      ]
     },
     "execution_count": 17,
     "metadata": {},
     "output_type": "execute_result"
    }
   ],
   "source": [
    "np.save(f'non_deformed_2_correpondences_zoom_2048_paired_{len(ref_pc_combined.points)}.npy', np.asarray(ref_pc_combined.points))\n",
    "o3d.io.write_point_cloud(f'non_deformed_2_correspondences_zoom_2048_paired_{len(ref_pc_combined.points)}.ply', ref_pc_combined)"
   ]
  },
  {
   "cell_type": "code",
   "execution_count": 18,
   "metadata": {},
   "outputs": [
    {
     "data": {
      "text/plain": [
       "(648, 3)"
      ]
     },
     "execution_count": 18,
     "metadata": {},
     "output_type": "execute_result"
    }
   ],
   "source": [
    "np.asarray(ref_pc_combined.points).shape"
   ]
  },
  {
   "cell_type": "code",
   "execution_count": 19,
   "metadata": {},
   "outputs": [],
   "source": [
    "bad_pc_combined = get_point_cloud_with_mask(bad_points, used_v_mask_combined)"
   ]
  },
  {
   "cell_type": "code",
   "execution_count": 21,
   "metadata": {},
   "outputs": [],
   "source": [
    "double_plot(ref_pc_combined, bad_pc_combined)"
   ]
  },
  {
   "cell_type": "code",
   "execution_count": 240,
   "metadata": {},
   "outputs": [
    {
     "data": {
      "text/plain": [
       "(648, 648)"
      ]
     },
     "execution_count": 240,
     "metadata": {},
     "output_type": "execute_result"
    }
   ],
   "source": [
    "len(ref_pc_combined.points), len(bad_pc_combined.points)"
   ]
  },
  {
   "cell_type": "code",
   "execution_count": 241,
   "metadata": {},
   "outputs": [
    {
     "data": {
      "text/plain": [
       "True"
      ]
     },
     "execution_count": 241,
     "metadata": {},
     "output_type": "execute_result"
    }
   ],
   "source": [
    "np.save(f'deformed_2_correpondences_zoom_2048_paired_{len(bad_pc_combined.points)}.npy', np.asarray(bad_pc_combined.points))\n",
    "o3d.io.write_point_cloud(f'deformed_2_correspondences_zoom_2048_paired_{len(bad_pc_combined.points)}.ply', bad_pc_combined)"
   ]
  },
  {
   "cell_type": "code",
   "execution_count": 22,
   "metadata": {},
   "outputs": [],
   "source": [
    "ref_1607 = np.asarray(ref_pc_combined.points)\n",
    "bad_1607 = np.asarray(bad_pc_combined.points)\n",
    "deformations = bad_1607 - ref_1607\n",
    "distances = np.linalg.norm(deformations, axis=1)\n",
    "max_deformation_idx = distances.argmax()\n",
    "points = [ref_1607[max_deformation_idx], bad_1607[max_deformation_idx]]\n",
    "line_set = o3d.geometry.LineSet(o3d.utility.Vector3dVector(points), o3d.utility.Vector2iVector([[0, 1]]))\n",
    "o3d.visualization.draw_geometries([ref_pc_combined, bad_pc_combined, line_set])"
   ]
  },
  {
   "cell_type": "code",
   "execution_count": null,
   "metadata": {},
   "outputs": [],
   "source": []
  }
 ],
 "metadata": {
  "kernelspec": {
   "display_name": ".at3dcv",
   "language": "python",
   "name": "python3"
  },
  "language_info": {
   "codemirror_mode": {
    "name": "ipython",
    "version": 3
   },
   "file_extension": ".py",
   "mimetype": "text/x-python",
   "name": "python",
   "nbconvert_exporter": "python",
   "pygments_lexer": "ipython3",
   "version": "3.9.0"
  },
  "orig_nbformat": 4
 },
 "nbformat": 4,
 "nbformat_minor": 2
}

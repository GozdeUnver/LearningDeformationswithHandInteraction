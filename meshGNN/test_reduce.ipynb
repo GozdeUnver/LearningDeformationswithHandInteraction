{
 "cells": [
  {
   "cell_type": "code",
   "execution_count": 59,
   "metadata": {},
   "outputs": [
    {
     "name": "stdout",
     "output_type": "stream",
     "text": [
      "The autoreload extension is already loaded. To reload it, use:\n",
      "  %reload_ext autoreload\n"
     ]
    }
   ],
   "source": [
    "import numpy as np\n",
    "import open3d as o3d\n",
    "\n",
    "from utils.reduce_mesh_vertices import pc_to_mesh\n",
    "\n",
    "Vec2i = o3d.utility.Vector2iVector\n",
    "Vec3d = o3d.utility.Vector3dVector\n",
    "Vec3i = o3d.utility.Vector3iVector\n",
    "\n",
    "%load_ext autoreload\n",
    "%autoreload 2"
   ]
  },
  {
   "cell_type": "code",
   "execution_count": 60,
   "metadata": {},
   "outputs": [],
   "source": [
    "point_cloud = o3d.io.read_point_cloud('../data/pointcloud_sampled/YellowToy01/targets/deformed_2_correspondences_zoom_2048.ply')\n",
    "mesh = o3d.io.read_triangle_mesh('../data/dataset/YellowToy01/yellow_push_toy_2.obj')"
   ]
  },
  {
   "cell_type": "code",
   "execution_count": 61,
   "metadata": {},
   "outputs": [
    {
     "data": {
      "text/plain": [
       "TriangleMesh with 2048 points and 452499 triangles, and textures of size (8192, 8192) "
      ]
     },
     "execution_count": 61,
     "metadata": {},
     "output_type": "execute_result"
    }
   ],
   "source": [
    "pc_to_mesh(mesh, point_cloud)"
   ]
  },
  {
   "cell_type": "code",
   "execution_count": 62,
   "metadata": {},
   "outputs": [
    {
     "name": "stdout",
     "output_type": "stream",
     "text": [
      "[[-0.061859 -0.102731  0.05959 ]\n",
      " [-0.027609 -0.061958  0.039002]\n",
      " [-0.059253 -0.046462  0.011552]\n",
      " ...\n",
      " [-0.020132 -0.079436  0.012178]\n",
      " [-0.039367 -0.053278  0.045449]\n",
      " [-0.089319 -0.074494  0.013959]]\n",
      "[[-0.061859 -0.102731  0.05959 ]\n",
      " [-0.027609 -0.061958  0.039002]\n",
      " [-0.059253 -0.046462  0.011552]\n",
      " ...\n",
      " [-0.020132 -0.079436  0.012178]\n",
      " [-0.039367 -0.053278  0.045449]\n",
      " [-0.089319 -0.074494  0.013959]]\n"
     ]
    }
   ],
   "source": [
    "print(np.asarray(mesh.vertices))\n",
    "print(np.asarray(point_cloud.points))\n",
    "assert np.all(np.asarray(mesh.vertices) == np.asarray(point_cloud.points))"
   ]
  },
  {
   "cell_type": "code",
   "execution_count": 63,
   "metadata": {},
   "outputs": [
    {
     "name": "stdout",
     "output_type": "stream",
     "text": [
      "[[   0 2048]\n",
      " [   1 2049]\n",
      " [   2 2050]\n",
      " ...\n",
      " [2045 4093]\n",
      " [2046 4094]\n",
      " [2047 4095]]\n"
     ]
    }
   ],
   "source": [
    "cloud_points = np.asarray(point_cloud.points).copy()\n",
    "cloud_points += np.array([0.08, 0, 0])\n",
    "mesh_points = np.asarray(mesh.vertices).copy()\n",
    "\n",
    "pc_copy = o3d.geometry.PointCloud(Vec3d(cloud_points))\n",
    "\n",
    "assert len(cloud_points) == len(mesh_points)\n",
    "points = np.concatenate([cloud_points, mesh_points])\n",
    "lines = np.arange(len(cloud_points))\n",
    "lines = np.stack([lines, lines + len(lines)], axis=1)\n",
    "print(lines)\n",
    "line_set = o3d.geometry.LineSet(Vec3d(points), Vec2i(lines))\n",
    "\n",
    "o3d.visualization.draw_geometries([mesh, pc_copy, line_set])\n"
   ]
  },
  {
   "cell_type": "code",
   "execution_count": 70,
   "metadata": {},
   "outputs": [],
   "source": [
    "point_cloud_1 = o3d.io.read_point_cloud('../data/pointcloud_sampled/YellowToy01/inputs/non_deformed_2_correspondences_zoom_2048.ply')\n",
    "mesh_1 = o3d.io.read_triangle_mesh('../data/dataset/YellowToy01/yellow_push_toy_1.obj')\n",
    "point_cloud_2 = o3d.io.read_point_cloud('../data/pointcloud_sampled/YellowToy01/targets/deformed_2_correspondences_zoom_2048.ply')\n",
    "mesh_2 = o3d.io.read_triangle_mesh('../data/dataset/YellowToy01/yellow_push_toy_2.obj')\n",
    "\n",
    "mesh_1 = pc_to_mesh(mesh_1, point_cloud_1)\n",
    "mesh_2 = pc_to_mesh(mesh_2, point_cloud_2)\n",
    "\n",
    "mesh_2_points = np.asarray(mesh_2.vertices)\n",
    "mesh_2_points += np.array([0.08, 0, 0])\n",
    "points = Vec3d(np.concatenate([\n",
    "    np.asarray(mesh_1.vertices),\n",
    "    mesh_2_points\n",
    "]))\n",
    "lines = Vec2i(np.arange(len(points)).reshape(2, -1).T)\n",
    "line_set = o3d.geometry.LineSet(points, lines)\n",
    "\n",
    "o3d.visualization.draw_geometries([mesh_1, mesh_2, line_set])"
   ]
  }
 ],
 "metadata": {
  "kernelspec": {
   "display_name": ".at3dcv-mesh-gnn",
   "language": "python",
   "name": "python3"
  },
  "language_info": {
   "codemirror_mode": {
    "name": "ipython",
    "version": 3
   },
   "file_extension": ".py",
   "mimetype": "text/x-python",
   "name": "python",
   "nbconvert_exporter": "python",
   "pygments_lexer": "ipython3",
   "version": "3.8.17"
  },
  "orig_nbformat": 4
 },
 "nbformat": 4,
 "nbformat_minor": 2
}
